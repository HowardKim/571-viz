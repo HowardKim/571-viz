{
 "cells": [
  {
   "cell_type": "code",
   "execution_count": 1,
   "metadata": {},
   "outputs": [],
   "source": [
    "import pandas as pd\n",
    "import numpy as np\n",
    "import country_converter as coco"
   ]
  },
  {
   "cell_type": "code",
   "execution_count": 2,
   "metadata": {},
   "outputs": [
    {
     "data": {
      "text/html": [
       "<div>\n",
       "<style scoped>\n",
       "    .dataframe tbody tr th:only-of-type {\n",
       "        vertical-align: middle;\n",
       "    }\n",
       "\n",
       "    .dataframe tbody tr th {\n",
       "        vertical-align: top;\n",
       "    }\n",
       "\n",
       "    .dataframe thead th {\n",
       "        text-align: right;\n",
       "    }\n",
       "</style>\n",
       "<table border=\"1\" class=\"dataframe\">\n",
       "  <thead>\n",
       "    <tr style=\"text-align: right;\">\n",
       "      <th></th>\n",
       "      <th>Country</th>\n",
       "      <th>ISO_Code</th>\n",
       "      <th>Level</th>\n",
       "      <th>GDLCODE</th>\n",
       "      <th>Region</th>\n",
       "      <th>1990</th>\n",
       "      <th>1991</th>\n",
       "      <th>1992</th>\n",
       "      <th>1993</th>\n",
       "      <th>1994</th>\n",
       "      <th>...</th>\n",
       "      <th>2010</th>\n",
       "      <th>2011</th>\n",
       "      <th>2012</th>\n",
       "      <th>2013</th>\n",
       "      <th>2014</th>\n",
       "      <th>2015</th>\n",
       "      <th>2016</th>\n",
       "      <th>2017</th>\n",
       "      <th>2018</th>\n",
       "      <th>2019</th>\n",
       "    </tr>\n",
       "  </thead>\n",
       "  <tbody>\n",
       "    <tr>\n",
       "      <th>0</th>\n",
       "      <td>Afghanistan</td>\n",
       "      <td>AFG</td>\n",
       "      <td>National</td>\n",
       "      <td>AFGt</td>\n",
       "      <td>Total</td>\n",
       "      <td>NaN</td>\n",
       "      <td>NaN</td>\n",
       "      <td>NaN</td>\n",
       "      <td>NaN</td>\n",
       "      <td>NaN</td>\n",
       "      <td>...</td>\n",
       "      <td>0.597</td>\n",
       "      <td>0.607</td>\n",
       "      <td>0.617</td>\n",
       "      <td>0.627</td>\n",
       "      <td>0.635</td>\n",
       "      <td>0.640</td>\n",
       "      <td>0.646</td>\n",
       "      <td>0.658</td>\n",
       "      <td>0.662</td>\n",
       "      <td>0.658</td>\n",
       "    </tr>\n",
       "    <tr>\n",
       "      <th>9</th>\n",
       "      <td>Albania</td>\n",
       "      <td>ALB</td>\n",
       "      <td>National</td>\n",
       "      <td>ALBt</td>\n",
       "      <td>Total</td>\n",
       "      <td>NaN</td>\n",
       "      <td>NaN</td>\n",
       "      <td>NaN</td>\n",
       "      <td>NaN</td>\n",
       "      <td>NaN</td>\n",
       "      <td>...</td>\n",
       "      <td>0.962</td>\n",
       "      <td>0.956</td>\n",
       "      <td>0.972</td>\n",
       "      <td>0.966</td>\n",
       "      <td>0.964</td>\n",
       "      <td>0.969</td>\n",
       "      <td>0.964</td>\n",
       "      <td>0.964</td>\n",
       "      <td>0.970</td>\n",
       "      <td>0.966</td>\n",
       "    </tr>\n",
       "    <tr>\n",
       "      <th>22</th>\n",
       "      <td>Algeria</td>\n",
       "      <td>DZA</td>\n",
       "      <td>National</td>\n",
       "      <td>DZAt</td>\n",
       "      <td>Total</td>\n",
       "      <td>NaN</td>\n",
       "      <td>NaN</td>\n",
       "      <td>NaN</td>\n",
       "      <td>NaN</td>\n",
       "      <td>NaN</td>\n",
       "      <td>...</td>\n",
       "      <td>0.830</td>\n",
       "      <td>0.834</td>\n",
       "      <td>0.835</td>\n",
       "      <td>0.840</td>\n",
       "      <td>0.835</td>\n",
       "      <td>0.855</td>\n",
       "      <td>0.854</td>\n",
       "      <td>0.860</td>\n",
       "      <td>0.859</td>\n",
       "      <td>0.857</td>\n",
       "    </tr>\n",
       "    <tr>\n",
       "      <th>30</th>\n",
       "      <td>Angola</td>\n",
       "      <td>AGO</td>\n",
       "      <td>National</td>\n",
       "      <td>AGOt</td>\n",
       "      <td>Total</td>\n",
       "      <td>NaN</td>\n",
       "      <td>NaN</td>\n",
       "      <td>NaN</td>\n",
       "      <td>NaN</td>\n",
       "      <td>NaN</td>\n",
       "      <td>...</td>\n",
       "      <td>NaN</td>\n",
       "      <td>NaN</td>\n",
       "      <td>NaN</td>\n",
       "      <td>NaN</td>\n",
       "      <td>0.839</td>\n",
       "      <td>0.838</td>\n",
       "      <td>0.903</td>\n",
       "      <td>0.901</td>\n",
       "      <td>0.901</td>\n",
       "      <td>0.901</td>\n",
       "    </tr>\n",
       "    <tr>\n",
       "      <th>49</th>\n",
       "      <td>Argentina</td>\n",
       "      <td>ARG</td>\n",
       "      <td>National</td>\n",
       "      <td>ARGt</td>\n",
       "      <td>Total</td>\n",
       "      <td>NaN</td>\n",
       "      <td>NaN</td>\n",
       "      <td>NaN</td>\n",
       "      <td>NaN</td>\n",
       "      <td>NaN</td>\n",
       "      <td>...</td>\n",
       "      <td>0.993</td>\n",
       "      <td>0.993</td>\n",
       "      <td>0.992</td>\n",
       "      <td>0.994</td>\n",
       "      <td>0.992</td>\n",
       "      <td>0.993</td>\n",
       "      <td>0.994</td>\n",
       "      <td>0.993</td>\n",
       "      <td>0.992</td>\n",
       "      <td>0.994</td>\n",
       "    </tr>\n",
       "    <tr>\n",
       "      <th>...</th>\n",
       "      <td>...</td>\n",
       "      <td>...</td>\n",
       "      <td>...</td>\n",
       "      <td>...</td>\n",
       "      <td>...</td>\n",
       "      <td>...</td>\n",
       "      <td>...</td>\n",
       "      <td>...</td>\n",
       "      <td>...</td>\n",
       "      <td>...</td>\n",
       "      <td>...</td>\n",
       "      <td>...</td>\n",
       "      <td>...</td>\n",
       "      <td>...</td>\n",
       "      <td>...</td>\n",
       "      <td>...</td>\n",
       "      <td>...</td>\n",
       "      <td>...</td>\n",
       "      <td>...</td>\n",
       "      <td>...</td>\n",
       "      <td>...</td>\n",
       "    </tr>\n",
       "    <tr>\n",
       "      <th>1818</th>\n",
       "      <td>Venezuela</td>\n",
       "      <td>VEN</td>\n",
       "      <td>National</td>\n",
       "      <td>VENt</td>\n",
       "      <td>Total</td>\n",
       "      <td>NaN</td>\n",
       "      <td>NaN</td>\n",
       "      <td>NaN</td>\n",
       "      <td>NaN</td>\n",
       "      <td>NaN</td>\n",
       "      <td>...</td>\n",
       "      <td>1.022</td>\n",
       "      <td>1.023</td>\n",
       "      <td>1.024</td>\n",
       "      <td>1.023</td>\n",
       "      <td>1.024</td>\n",
       "      <td>1.021</td>\n",
       "      <td>1.021</td>\n",
       "      <td>1.018</td>\n",
       "      <td>1.015</td>\n",
       "      <td>1.010</td>\n",
       "    </tr>\n",
       "    <tr>\n",
       "      <th>1843</th>\n",
       "      <td>Vietnam</td>\n",
       "      <td>VNM</td>\n",
       "      <td>National</td>\n",
       "      <td>VNMt</td>\n",
       "      <td>Total</td>\n",
       "      <td>NaN</td>\n",
       "      <td>NaN</td>\n",
       "      <td>NaN</td>\n",
       "      <td>NaN</td>\n",
       "      <td>NaN</td>\n",
       "      <td>...</td>\n",
       "      <td>0.981</td>\n",
       "      <td>0.993</td>\n",
       "      <td>0.998</td>\n",
       "      <td>0.999</td>\n",
       "      <td>1.004</td>\n",
       "      <td>1.005</td>\n",
       "      <td>1.003</td>\n",
       "      <td>0.999</td>\n",
       "      <td>0.998</td>\n",
       "      <td>0.998</td>\n",
       "    </tr>\n",
       "    <tr>\n",
       "      <th>1850</th>\n",
       "      <td>Yemen</td>\n",
       "      <td>YEM</td>\n",
       "      <td>National</td>\n",
       "      <td>YEMt</td>\n",
       "      <td>Total</td>\n",
       "      <td>NaN</td>\n",
       "      <td>NaN</td>\n",
       "      <td>NaN</td>\n",
       "      <td>NaN</td>\n",
       "      <td>NaN</td>\n",
       "      <td>...</td>\n",
       "      <td>0.672</td>\n",
       "      <td>0.655</td>\n",
       "      <td>0.645</td>\n",
       "      <td>0.616</td>\n",
       "      <td>0.587</td>\n",
       "      <td>0.545</td>\n",
       "      <td>0.515</td>\n",
       "      <td>0.489</td>\n",
       "      <td>0.483</td>\n",
       "      <td>0.490</td>\n",
       "    </tr>\n",
       "    <tr>\n",
       "      <th>1859</th>\n",
       "      <td>Zambia</td>\n",
       "      <td>ZMB</td>\n",
       "      <td>National</td>\n",
       "      <td>ZMBt</td>\n",
       "      <td>Total</td>\n",
       "      <td>NaN</td>\n",
       "      <td>NaN</td>\n",
       "      <td>NaN</td>\n",
       "      <td>NaN</td>\n",
       "      <td>NaN</td>\n",
       "      <td>...</td>\n",
       "      <td>0.916</td>\n",
       "      <td>0.921</td>\n",
       "      <td>0.926</td>\n",
       "      <td>0.927</td>\n",
       "      <td>0.934</td>\n",
       "      <td>0.936</td>\n",
       "      <td>0.941</td>\n",
       "      <td>0.977</td>\n",
       "      <td>0.979</td>\n",
       "      <td>0.959</td>\n",
       "    </tr>\n",
       "    <tr>\n",
       "      <th>1869</th>\n",
       "      <td>Zimbabwe</td>\n",
       "      <td>ZWE</td>\n",
       "      <td>National</td>\n",
       "      <td>ZWEt</td>\n",
       "      <td>Total</td>\n",
       "      <td>NaN</td>\n",
       "      <td>NaN</td>\n",
       "      <td>NaN</td>\n",
       "      <td>NaN</td>\n",
       "      <td>NaN</td>\n",
       "      <td>...</td>\n",
       "      <td>0.930</td>\n",
       "      <td>0.935</td>\n",
       "      <td>0.939</td>\n",
       "      <td>0.935</td>\n",
       "      <td>0.925</td>\n",
       "      <td>0.927</td>\n",
       "      <td>0.925</td>\n",
       "      <td>0.927</td>\n",
       "      <td>0.928</td>\n",
       "      <td>0.933</td>\n",
       "    </tr>\n",
       "  </tbody>\n",
       "</table>\n",
       "<p>166 rows × 35 columns</p>\n",
       "</div>"
      ],
      "text/plain": [
       "          Country ISO_Code     Level GDLCODE Region  1990  1991  1992  1993  \\\n",
       "0     Afghanistan      AFG  National    AFGt  Total   NaN   NaN   NaN   NaN   \n",
       "9         Albania      ALB  National    ALBt  Total   NaN   NaN   NaN   NaN   \n",
       "22        Algeria      DZA  National    DZAt  Total   NaN   NaN   NaN   NaN   \n",
       "30         Angola      AGO  National    AGOt  Total   NaN   NaN   NaN   NaN   \n",
       "49      Argentina      ARG  National    ARGt  Total   NaN   NaN   NaN   NaN   \n",
       "...           ...      ...       ...     ...    ...   ...   ...   ...   ...   \n",
       "1818    Venezuela      VEN  National    VENt  Total   NaN   NaN   NaN   NaN   \n",
       "1843      Vietnam      VNM  National    VNMt  Total   NaN   NaN   NaN   NaN   \n",
       "1850        Yemen      YEM  National    YEMt  Total   NaN   NaN   NaN   NaN   \n",
       "1859       Zambia      ZMB  National    ZMBt  Total   NaN   NaN   NaN   NaN   \n",
       "1869     Zimbabwe      ZWE  National    ZWEt  Total   NaN   NaN   NaN   NaN   \n",
       "\n",
       "      1994  ...   2010   2011   2012   2013   2014   2015   2016   2017  \\\n",
       "0      NaN  ...  0.597  0.607  0.617  0.627  0.635  0.640  0.646  0.658   \n",
       "9      NaN  ...  0.962  0.956  0.972  0.966  0.964  0.969  0.964  0.964   \n",
       "22     NaN  ...  0.830  0.834  0.835  0.840  0.835  0.855  0.854  0.860   \n",
       "30     NaN  ...    NaN    NaN    NaN    NaN  0.839  0.838  0.903  0.901   \n",
       "49     NaN  ...  0.993  0.993  0.992  0.994  0.992  0.993  0.994  0.993   \n",
       "...    ...  ...    ...    ...    ...    ...    ...    ...    ...    ...   \n",
       "1818   NaN  ...  1.022  1.023  1.024  1.023  1.024  1.021  1.021  1.018   \n",
       "1843   NaN  ...  0.981  0.993  0.998  0.999  1.004  1.005  1.003  0.999   \n",
       "1850   NaN  ...  0.672  0.655  0.645  0.616  0.587  0.545  0.515  0.489   \n",
       "1859   NaN  ...  0.916  0.921  0.926  0.927  0.934  0.936  0.941  0.977   \n",
       "1869   NaN  ...  0.930  0.935  0.939  0.935  0.925  0.927  0.925  0.927   \n",
       "\n",
       "       2018   2019  \n",
       "0     0.662  0.658  \n",
       "9     0.970  0.966  \n",
       "22    0.859  0.857  \n",
       "30    0.901  0.901  \n",
       "49    0.992  0.994  \n",
       "...     ...    ...  \n",
       "1818  1.015  1.010  \n",
       "1843  0.998  0.998  \n",
       "1850  0.483  0.490  \n",
       "1859  0.979  0.959  \n",
       "1869  0.928  0.933  \n",
       "\n",
       "[166 rows x 35 columns]"
      ]
     },
     "execution_count": 2,
     "metadata": {},
     "output_type": "execute_result"
    }
   ],
   "source": [
    "hdi_data = pd.read_excel('World_Suicide_rates.xlsx', 'HDI')\n",
    "gdi_data = pd.read_excel('World_Suicide_rates.xlsx', 'GDI')\n",
    "suicide_data = pd.read_excel('World_Suicide_rates.xlsx', 'World_Sucide_rates')\n",
    "life_expectancy = pd.read_excel('World_Suicide_rates.xlsx', 'LifeExpectancy')\n",
    "hdi_data = hdi_data[hdi_data['Level'] == 'National']\n",
    "gdi_data = gdi_data[gdi_data['Level'] == 'National']\n",
    "gdi_data['Country'] = coco.convert(names = gdi_data['ISO_Code'], to= 'name_short')\n",
    "gdi_data"
   ]
  },
  {
   "cell_type": "code",
   "execution_count": 3,
   "metadata": {},
   "outputs": [
    {
     "name": "stderr",
     "output_type": "stream",
     "text": [
      "XKO not found in ISO3\n",
      "not found not found in regex\n"
     ]
    },
    {
     "data": {
      "text/html": [
       "<div>\n",
       "<style scoped>\n",
       "    .dataframe tbody tr th:only-of-type {\n",
       "        vertical-align: middle;\n",
       "    }\n",
       "\n",
       "    .dataframe tbody tr th {\n",
       "        vertical-align: top;\n",
       "    }\n",
       "\n",
       "    .dataframe thead th {\n",
       "        text-align: right;\n",
       "    }\n",
       "</style>\n",
       "<table border=\"1\" class=\"dataframe\">\n",
       "  <thead>\n",
       "    <tr style=\"text-align: right;\">\n",
       "      <th></th>\n",
       "      <th>Country</th>\n",
       "      <th>ISO_Code</th>\n",
       "      <th>Level</th>\n",
       "      <th>GDLCODE</th>\n",
       "      <th>Region</th>\n",
       "      <th>1990</th>\n",
       "      <th>1991</th>\n",
       "      <th>1992</th>\n",
       "      <th>1993</th>\n",
       "      <th>1994</th>\n",
       "      <th>...</th>\n",
       "      <th>2010</th>\n",
       "      <th>2011</th>\n",
       "      <th>2012</th>\n",
       "      <th>2013</th>\n",
       "      <th>2014</th>\n",
       "      <th>2015</th>\n",
       "      <th>2016</th>\n",
       "      <th>2017</th>\n",
       "      <th>2018</th>\n",
       "      <th>2019</th>\n",
       "    </tr>\n",
       "  </thead>\n",
       "  <tbody>\n",
       "    <tr>\n",
       "      <th>0</th>\n",
       "      <td>Afghanistan</td>\n",
       "      <td>AFG</td>\n",
       "      <td>National</td>\n",
       "      <td>AFGt</td>\n",
       "      <td>Total</td>\n",
       "      <td>0.302</td>\n",
       "      <td>0.308</td>\n",
       "      <td>0.314</td>\n",
       "      <td>0.312</td>\n",
       "      <td>0.307</td>\n",
       "      <td>...</td>\n",
       "      <td>0.471</td>\n",
       "      <td>0.477</td>\n",
       "      <td>0.490</td>\n",
       "      <td>0.497</td>\n",
       "      <td>0.500</td>\n",
       "      <td>0.499</td>\n",
       "      <td>0.502</td>\n",
       "      <td>0.506</td>\n",
       "      <td>0.509</td>\n",
       "      <td>0.511</td>\n",
       "    </tr>\n",
       "    <tr>\n",
       "      <th>9</th>\n",
       "      <td>Albania</td>\n",
       "      <td>ALB</td>\n",
       "      <td>National</td>\n",
       "      <td>ALBt</td>\n",
       "      <td>Total</td>\n",
       "      <td>0.649</td>\n",
       "      <td>0.631</td>\n",
       "      <td>0.615</td>\n",
       "      <td>0.617</td>\n",
       "      <td>0.624</td>\n",
       "      <td>...</td>\n",
       "      <td>0.745</td>\n",
       "      <td>0.764</td>\n",
       "      <td>0.775</td>\n",
       "      <td>0.781</td>\n",
       "      <td>0.787</td>\n",
       "      <td>0.787</td>\n",
       "      <td>0.787</td>\n",
       "      <td>0.790</td>\n",
       "      <td>0.793</td>\n",
       "      <td>0.794</td>\n",
       "    </tr>\n",
       "    <tr>\n",
       "      <th>22</th>\n",
       "      <td>Algeria</td>\n",
       "      <td>DZA</td>\n",
       "      <td>National</td>\n",
       "      <td>DZAt</td>\n",
       "      <td>Total</td>\n",
       "      <td>0.573</td>\n",
       "      <td>0.577</td>\n",
       "      <td>0.582</td>\n",
       "      <td>0.586</td>\n",
       "      <td>0.590</td>\n",
       "      <td>...</td>\n",
       "      <td>0.720</td>\n",
       "      <td>0.729</td>\n",
       "      <td>0.728</td>\n",
       "      <td>0.729</td>\n",
       "      <td>0.736</td>\n",
       "      <td>0.739</td>\n",
       "      <td>0.742</td>\n",
       "      <td>0.746</td>\n",
       "      <td>0.747</td>\n",
       "      <td>0.748</td>\n",
       "    </tr>\n",
       "    <tr>\n",
       "      <th>30</th>\n",
       "      <td>Andorra</td>\n",
       "      <td>AND</td>\n",
       "      <td>National</td>\n",
       "      <td>ANDt</td>\n",
       "      <td>Total</td>\n",
       "      <td>NaN</td>\n",
       "      <td>NaN</td>\n",
       "      <td>NaN</td>\n",
       "      <td>NaN</td>\n",
       "      <td>NaN</td>\n",
       "      <td>...</td>\n",
       "      <td>0.838</td>\n",
       "      <td>0.837</td>\n",
       "      <td>0.858</td>\n",
       "      <td>0.856</td>\n",
       "      <td>0.863</td>\n",
       "      <td>0.862</td>\n",
       "      <td>0.866</td>\n",
       "      <td>0.863</td>\n",
       "      <td>0.867</td>\n",
       "      <td>0.868</td>\n",
       "    </tr>\n",
       "    <tr>\n",
       "      <th>31</th>\n",
       "      <td>Angola</td>\n",
       "      <td>AGO</td>\n",
       "      <td>National</td>\n",
       "      <td>AGOt</td>\n",
       "      <td>Total</td>\n",
       "      <td>NaN</td>\n",
       "      <td>NaN</td>\n",
       "      <td>NaN</td>\n",
       "      <td>NaN</td>\n",
       "      <td>NaN</td>\n",
       "      <td>...</td>\n",
       "      <td>0.517</td>\n",
       "      <td>0.532</td>\n",
       "      <td>0.544</td>\n",
       "      <td>0.556</td>\n",
       "      <td>0.565</td>\n",
       "      <td>0.572</td>\n",
       "      <td>0.578</td>\n",
       "      <td>0.582</td>\n",
       "      <td>0.582</td>\n",
       "      <td>0.582</td>\n",
       "    </tr>\n",
       "    <tr>\n",
       "      <th>...</th>\n",
       "      <td>...</td>\n",
       "      <td>...</td>\n",
       "      <td>...</td>\n",
       "      <td>...</td>\n",
       "      <td>...</td>\n",
       "      <td>...</td>\n",
       "      <td>...</td>\n",
       "      <td>...</td>\n",
       "      <td>...</td>\n",
       "      <td>...</td>\n",
       "      <td>...</td>\n",
       "      <td>...</td>\n",
       "      <td>...</td>\n",
       "      <td>...</td>\n",
       "      <td>...</td>\n",
       "      <td>...</td>\n",
       "      <td>...</td>\n",
       "      <td>...</td>\n",
       "      <td>...</td>\n",
       "      <td>...</td>\n",
       "      <td>...</td>\n",
       "    </tr>\n",
       "    <tr>\n",
       "      <th>1907</th>\n",
       "      <td>Venezuela</td>\n",
       "      <td>VEN</td>\n",
       "      <td>National</td>\n",
       "      <td>VENt</td>\n",
       "      <td>Total</td>\n",
       "      <td>0.645</td>\n",
       "      <td>0.654</td>\n",
       "      <td>0.660</td>\n",
       "      <td>0.661</td>\n",
       "      <td>0.661</td>\n",
       "      <td>...</td>\n",
       "      <td>0.758</td>\n",
       "      <td>0.770</td>\n",
       "      <td>0.771</td>\n",
       "      <td>0.777</td>\n",
       "      <td>0.775</td>\n",
       "      <td>0.770</td>\n",
       "      <td>0.759</td>\n",
       "      <td>0.742</td>\n",
       "      <td>0.732</td>\n",
       "      <td>0.711</td>\n",
       "    </tr>\n",
       "    <tr>\n",
       "      <th>1932</th>\n",
       "      <td>Vietnam</td>\n",
       "      <td>VNM</td>\n",
       "      <td>National</td>\n",
       "      <td>VNMt</td>\n",
       "      <td>Total</td>\n",
       "      <td>0.483</td>\n",
       "      <td>0.493</td>\n",
       "      <td>0.504</td>\n",
       "      <td>0.513</td>\n",
       "      <td>0.526</td>\n",
       "      <td>...</td>\n",
       "      <td>0.661</td>\n",
       "      <td>0.671</td>\n",
       "      <td>0.677</td>\n",
       "      <td>0.681</td>\n",
       "      <td>0.683</td>\n",
       "      <td>0.689</td>\n",
       "      <td>0.694</td>\n",
       "      <td>0.696</td>\n",
       "      <td>0.700</td>\n",
       "      <td>0.704</td>\n",
       "    </tr>\n",
       "    <tr>\n",
       "      <th>1939</th>\n",
       "      <td>Yemen</td>\n",
       "      <td>YEM</td>\n",
       "      <td>National</td>\n",
       "      <td>YEMt</td>\n",
       "      <td>Total</td>\n",
       "      <td>0.400</td>\n",
       "      <td>0.401</td>\n",
       "      <td>0.404</td>\n",
       "      <td>0.407</td>\n",
       "      <td>0.409</td>\n",
       "      <td>...</td>\n",
       "      <td>0.506</td>\n",
       "      <td>0.506</td>\n",
       "      <td>0.505</td>\n",
       "      <td>0.509</td>\n",
       "      <td>0.502</td>\n",
       "      <td>0.484</td>\n",
       "      <td>0.474</td>\n",
       "      <td>0.467</td>\n",
       "      <td>0.468</td>\n",
       "      <td>0.470</td>\n",
       "    </tr>\n",
       "    <tr>\n",
       "      <th>1948</th>\n",
       "      <td>Zambia</td>\n",
       "      <td>ZMB</td>\n",
       "      <td>National</td>\n",
       "      <td>ZMBt</td>\n",
       "      <td>Total</td>\n",
       "      <td>0.421</td>\n",
       "      <td>0.417</td>\n",
       "      <td>0.416</td>\n",
       "      <td>0.419</td>\n",
       "      <td>0.414</td>\n",
       "      <td>...</td>\n",
       "      <td>0.527</td>\n",
       "      <td>0.534</td>\n",
       "      <td>0.549</td>\n",
       "      <td>0.557</td>\n",
       "      <td>0.560</td>\n",
       "      <td>0.569</td>\n",
       "      <td>0.572</td>\n",
       "      <td>0.578</td>\n",
       "      <td>0.582</td>\n",
       "      <td>0.585</td>\n",
       "    </tr>\n",
       "    <tr>\n",
       "      <th>1958</th>\n",
       "      <td>Zimbabwe</td>\n",
       "      <td>ZWE</td>\n",
       "      <td>National</td>\n",
       "      <td>ZWEt</td>\n",
       "      <td>Total</td>\n",
       "      <td>0.478</td>\n",
       "      <td>0.481</td>\n",
       "      <td>0.467</td>\n",
       "      <td>0.463</td>\n",
       "      <td>0.459</td>\n",
       "      <td>...</td>\n",
       "      <td>0.482</td>\n",
       "      <td>0.500</td>\n",
       "      <td>0.526</td>\n",
       "      <td>0.537</td>\n",
       "      <td>0.548</td>\n",
       "      <td>0.552</td>\n",
       "      <td>0.558</td>\n",
       "      <td>0.563</td>\n",
       "      <td>0.570</td>\n",
       "      <td>0.571</td>\n",
       "    </tr>\n",
       "  </tbody>\n",
       "</table>\n",
       "<p>186 rows × 35 columns</p>\n",
       "</div>"
      ],
      "text/plain": [
       "          Country ISO_Code     Level GDLCODE Region   1990   1991   1992  \\\n",
       "0     Afghanistan      AFG  National    AFGt  Total  0.302  0.308  0.314   \n",
       "9         Albania      ALB  National    ALBt  Total  0.649  0.631  0.615   \n",
       "22        Algeria      DZA  National    DZAt  Total  0.573  0.577  0.582   \n",
       "30        Andorra      AND  National    ANDt  Total    NaN    NaN    NaN   \n",
       "31         Angola      AGO  National    AGOt  Total    NaN    NaN    NaN   \n",
       "...           ...      ...       ...     ...    ...    ...    ...    ...   \n",
       "1907    Venezuela      VEN  National    VENt  Total  0.645  0.654  0.660   \n",
       "1932      Vietnam      VNM  National    VNMt  Total  0.483  0.493  0.504   \n",
       "1939        Yemen      YEM  National    YEMt  Total  0.400  0.401  0.404   \n",
       "1948       Zambia      ZMB  National    ZMBt  Total  0.421  0.417  0.416   \n",
       "1958     Zimbabwe      ZWE  National    ZWEt  Total  0.478  0.481  0.467   \n",
       "\n",
       "       1993   1994  ...   2010   2011   2012   2013   2014   2015   2016  \\\n",
       "0     0.312  0.307  ...  0.471  0.477  0.490  0.497  0.500  0.499  0.502   \n",
       "9     0.617  0.624  ...  0.745  0.764  0.775  0.781  0.787  0.787  0.787   \n",
       "22    0.586  0.590  ...  0.720  0.729  0.728  0.729  0.736  0.739  0.742   \n",
       "30      NaN    NaN  ...  0.838  0.837  0.858  0.856  0.863  0.862  0.866   \n",
       "31      NaN    NaN  ...  0.517  0.532  0.544  0.556  0.565  0.572  0.578   \n",
       "...     ...    ...  ...    ...    ...    ...    ...    ...    ...    ...   \n",
       "1907  0.661  0.661  ...  0.758  0.770  0.771  0.777  0.775  0.770  0.759   \n",
       "1932  0.513  0.526  ...  0.661  0.671  0.677  0.681  0.683  0.689  0.694   \n",
       "1939  0.407  0.409  ...  0.506  0.506  0.505  0.509  0.502  0.484  0.474   \n",
       "1948  0.419  0.414  ...  0.527  0.534  0.549  0.557  0.560  0.569  0.572   \n",
       "1958  0.463  0.459  ...  0.482  0.500  0.526  0.537  0.548  0.552  0.558   \n",
       "\n",
       "       2017   2018   2019  \n",
       "0     0.506  0.509  0.511  \n",
       "9     0.790  0.793  0.794  \n",
       "22    0.746  0.747  0.748  \n",
       "30    0.863  0.867  0.868  \n",
       "31    0.582  0.582  0.582  \n",
       "...     ...    ...    ...  \n",
       "1907  0.742  0.732  0.711  \n",
       "1932  0.696  0.700  0.704  \n",
       "1939  0.467  0.468  0.470  \n",
       "1948  0.578  0.582  0.585  \n",
       "1958  0.563  0.570  0.571  \n",
       "\n",
       "[186 rows x 35 columns]"
      ]
     },
     "execution_count": 3,
     "metadata": {},
     "output_type": "execute_result"
    }
   ],
   "source": [
    "hdi_data['Country'] = coco.convert(names = hdi_data['ISO_Code'], to= 'name_short')\n",
    "hdi_data['Country'] = coco.convert(names = hdi_data['Country'], to= 'name_short')\n",
    "hdi_data"
   ]
  },
  {
   "cell_type": "code",
   "execution_count": 4,
   "metadata": {},
   "outputs": [
    {
     "data": {
      "text/html": [
       "<div>\n",
       "<style scoped>\n",
       "    .dataframe tbody tr th:only-of-type {\n",
       "        vertical-align: middle;\n",
       "    }\n",
       "\n",
       "    .dataframe tbody tr th {\n",
       "        vertical-align: top;\n",
       "    }\n",
       "\n",
       "    .dataframe thead th {\n",
       "        text-align: right;\n",
       "    }\n",
       "</style>\n",
       "<table border=\"1\" class=\"dataframe\">\n",
       "  <thead>\n",
       "    <tr style=\"text-align: right;\">\n",
       "      <th></th>\n",
       "      <th>ParentLocationCode</th>\n",
       "      <th>ParentLocation</th>\n",
       "      <th>SpatialDimValueCode</th>\n",
       "      <th>Location</th>\n",
       "      <th>Period</th>\n",
       "      <th>Dim1</th>\n",
       "      <th>Dim1ValueCode</th>\n",
       "      <th>FactValueNumeric</th>\n",
       "      <th>FactValueNumericLow</th>\n",
       "      <th>FactValueNumericHigh</th>\n",
       "      <th>Value</th>\n",
       "    </tr>\n",
       "  </thead>\n",
       "  <tbody>\n",
       "    <tr>\n",
       "      <th>1</th>\n",
       "      <td>EMR</td>\n",
       "      <td>Eastern Mediterranean</td>\n",
       "      <td>AFG</td>\n",
       "      <td>Afghanistan</td>\n",
       "      <td>2019</td>\n",
       "      <td>Both sexes</td>\n",
       "      <td>BTSX</td>\n",
       "      <td>5.96</td>\n",
       "      <td>3.40</td>\n",
       "      <td>9.91</td>\n",
       "      <td>5.96 [3.4 – 9.91]</td>\n",
       "    </tr>\n",
       "    <tr>\n",
       "      <th>4</th>\n",
       "      <td>EMR</td>\n",
       "      <td>Eastern Mediterranean</td>\n",
       "      <td>AFG</td>\n",
       "      <td>Afghanistan</td>\n",
       "      <td>2018</td>\n",
       "      <td>Both sexes</td>\n",
       "      <td>BTSX</td>\n",
       "      <td>5.91</td>\n",
       "      <td>3.38</td>\n",
       "      <td>9.81</td>\n",
       "      <td>5.91 [3.38 – 9.81]</td>\n",
       "    </tr>\n",
       "    <tr>\n",
       "      <th>7</th>\n",
       "      <td>EMR</td>\n",
       "      <td>Eastern Mediterranean</td>\n",
       "      <td>AFG</td>\n",
       "      <td>Afghanistan</td>\n",
       "      <td>2017</td>\n",
       "      <td>Both sexes</td>\n",
       "      <td>BTSX</td>\n",
       "      <td>5.95</td>\n",
       "      <td>3.42</td>\n",
       "      <td>9.88</td>\n",
       "      <td>5.95 [3.42 – 9.88]</td>\n",
       "    </tr>\n",
       "    <tr>\n",
       "      <th>10</th>\n",
       "      <td>EMR</td>\n",
       "      <td>Eastern Mediterranean</td>\n",
       "      <td>AFG</td>\n",
       "      <td>Afghanistan</td>\n",
       "      <td>2016</td>\n",
       "      <td>Both sexes</td>\n",
       "      <td>BTSX</td>\n",
       "      <td>6.01</td>\n",
       "      <td>3.48</td>\n",
       "      <td>9.93</td>\n",
       "      <td>6.01 [3.48 – 9.93]</td>\n",
       "    </tr>\n",
       "    <tr>\n",
       "      <th>13</th>\n",
       "      <td>EMR</td>\n",
       "      <td>Eastern Mediterranean</td>\n",
       "      <td>AFG</td>\n",
       "      <td>Afghanistan</td>\n",
       "      <td>2015</td>\n",
       "      <td>Both sexes</td>\n",
       "      <td>BTSX</td>\n",
       "      <td>5.99</td>\n",
       "      <td>3.48</td>\n",
       "      <td>9.88</td>\n",
       "      <td>5.99 [3.48 – 9.88]</td>\n",
       "    </tr>\n",
       "    <tr>\n",
       "      <th>...</th>\n",
       "      <td>...</td>\n",
       "      <td>...</td>\n",
       "      <td>...</td>\n",
       "      <td>...</td>\n",
       "      <td>...</td>\n",
       "      <td>...</td>\n",
       "      <td>...</td>\n",
       "      <td>...</td>\n",
       "      <td>...</td>\n",
       "      <td>...</td>\n",
       "      <td>...</td>\n",
       "    </tr>\n",
       "    <tr>\n",
       "      <th>10966</th>\n",
       "      <td>AFR</td>\n",
       "      <td>Africa</td>\n",
       "      <td>ZWE</td>\n",
       "      <td>Zimbabwe</td>\n",
       "      <td>2004</td>\n",
       "      <td>Both sexes</td>\n",
       "      <td>BTSX</td>\n",
       "      <td>21.47</td>\n",
       "      <td>11.41</td>\n",
       "      <td>33.75</td>\n",
       "      <td>21.47 [11.41 – 33.75]</td>\n",
       "    </tr>\n",
       "    <tr>\n",
       "      <th>10969</th>\n",
       "      <td>AFR</td>\n",
       "      <td>Africa</td>\n",
       "      <td>ZWE</td>\n",
       "      <td>Zimbabwe</td>\n",
       "      <td>2003</td>\n",
       "      <td>Both sexes</td>\n",
       "      <td>BTSX</td>\n",
       "      <td>20.23</td>\n",
       "      <td>10.69</td>\n",
       "      <td>31.68</td>\n",
       "      <td>20.23 [10.69 – 31.68]</td>\n",
       "    </tr>\n",
       "    <tr>\n",
       "      <th>10972</th>\n",
       "      <td>AFR</td>\n",
       "      <td>Africa</td>\n",
       "      <td>ZWE</td>\n",
       "      <td>Zimbabwe</td>\n",
       "      <td>2002</td>\n",
       "      <td>Both sexes</td>\n",
       "      <td>BTSX</td>\n",
       "      <td>20.34</td>\n",
       "      <td>10.74</td>\n",
       "      <td>31.95</td>\n",
       "      <td>20.34 [10.74 – 31.95]</td>\n",
       "    </tr>\n",
       "    <tr>\n",
       "      <th>10975</th>\n",
       "      <td>AFR</td>\n",
       "      <td>Africa</td>\n",
       "      <td>ZWE</td>\n",
       "      <td>Zimbabwe</td>\n",
       "      <td>2001</td>\n",
       "      <td>Both sexes</td>\n",
       "      <td>BTSX</td>\n",
       "      <td>19.53</td>\n",
       "      <td>10.23</td>\n",
       "      <td>30.75</td>\n",
       "      <td>19.53 [10.23 – 30.75]</td>\n",
       "    </tr>\n",
       "    <tr>\n",
       "      <th>10978</th>\n",
       "      <td>AFR</td>\n",
       "      <td>Africa</td>\n",
       "      <td>ZWE</td>\n",
       "      <td>Zimbabwe</td>\n",
       "      <td>2000</td>\n",
       "      <td>Both sexes</td>\n",
       "      <td>BTSX</td>\n",
       "      <td>19.98</td>\n",
       "      <td>10.34</td>\n",
       "      <td>31.52</td>\n",
       "      <td>19.98 [10.34 – 31.52]</td>\n",
       "    </tr>\n",
       "  </tbody>\n",
       "</table>\n",
       "<p>3660 rows × 11 columns</p>\n",
       "</div>"
      ],
      "text/plain": [
       "      ParentLocationCode         ParentLocation SpatialDimValueCode  \\\n",
       "1                    EMR  Eastern Mediterranean                 AFG   \n",
       "4                    EMR  Eastern Mediterranean                 AFG   \n",
       "7                    EMR  Eastern Mediterranean                 AFG   \n",
       "10                   EMR  Eastern Mediterranean                 AFG   \n",
       "13                   EMR  Eastern Mediterranean                 AFG   \n",
       "...                  ...                    ...                 ...   \n",
       "10966                AFR                 Africa                 ZWE   \n",
       "10969                AFR                 Africa                 ZWE   \n",
       "10972                AFR                 Africa                 ZWE   \n",
       "10975                AFR                 Africa                 ZWE   \n",
       "10978                AFR                 Africa                 ZWE   \n",
       "\n",
       "          Location  Period        Dim1 Dim1ValueCode  FactValueNumeric  \\\n",
       "1      Afghanistan    2019  Both sexes          BTSX              5.96   \n",
       "4      Afghanistan    2018  Both sexes          BTSX              5.91   \n",
       "7      Afghanistan    2017  Both sexes          BTSX              5.95   \n",
       "10     Afghanistan    2016  Both sexes          BTSX              6.01   \n",
       "13     Afghanistan    2015  Both sexes          BTSX              5.99   \n",
       "...            ...     ...         ...           ...               ...   \n",
       "10966     Zimbabwe    2004  Both sexes          BTSX             21.47   \n",
       "10969     Zimbabwe    2003  Both sexes          BTSX             20.23   \n",
       "10972     Zimbabwe    2002  Both sexes          BTSX             20.34   \n",
       "10975     Zimbabwe    2001  Both sexes          BTSX             19.53   \n",
       "10978     Zimbabwe    2000  Both sexes          BTSX             19.98   \n",
       "\n",
       "       FactValueNumericLow  FactValueNumericHigh                  Value  \n",
       "1                     3.40                  9.91      5.96 [3.4 – 9.91]  \n",
       "4                     3.38                  9.81     5.91 [3.38 – 9.81]  \n",
       "7                     3.42                  9.88     5.95 [3.42 – 9.88]  \n",
       "10                    3.48                  9.93     6.01 [3.48 – 9.93]  \n",
       "13                    3.48                  9.88     5.99 [3.48 – 9.88]  \n",
       "...                    ...                   ...                    ...  \n",
       "10966                11.41                 33.75  21.47 [11.41 – 33.75]  \n",
       "10969                10.69                 31.68  20.23 [10.69 – 31.68]  \n",
       "10972                10.74                 31.95  20.34 [10.74 – 31.95]  \n",
       "10975                10.23                 30.75  19.53 [10.23 – 30.75]  \n",
       "10978                10.34                 31.52  19.98 [10.34 – 31.52]  \n",
       "\n",
       "[3660 rows x 11 columns]"
      ]
     },
     "execution_count": 4,
     "metadata": {},
     "output_type": "execute_result"
    }
   ],
   "source": [
    "suicide_data = suicide_data.dropna(axis=1, how='all')\n",
    "# suicide_data = suicide_data[suicide_data.all(suicide_data['Location type'] == 'Country' and suicide_data['Period type'] == 'Year')]\n",
    "suicide_data = suicide_data.drop(columns=['IndicatorCode','Indicator', 'ValueType', 'Location type', 'Period type', 'IsLatestYear', 'Dim1 type', 'Language', 'DateModified'])\n",
    "suicide_data['Location'] = coco.convert(names = suicide_data['SpatialDimValueCode'], to= 'name_short')\n",
    "m_suicide_data = suicide_data[suicide_data['Dim1'] == 'Male']\n",
    "f_suicide_data = suicide_data[suicide_data['Dim1'] == 'Female']\n",
    "bt_suicide_data = suicide_data[suicide_data['Dim1'] == 'Both sexes']\n",
    "bt_suicide_data"
   ]
  },
  {
   "cell_type": "code",
   "execution_count": 5,
   "metadata": {},
   "outputs": [],
   "source": [
    "gdi_data = gdi_data.drop(columns=['ISO_Code', 'Level', 'GDLCODE', 'Region'])\n",
    "gdi_data.index = range(0,len(gdi_data))\n",
    "gdi_data\n",
    "gdi_new = gdi_data.melt(id_vars=['Country'], var_name='Year', value_name='GDI')"
   ]
  },
  {
   "cell_type": "code",
   "execution_count": null,
   "metadata": {},
   "outputs": [],
   "source": []
  },
  {
   "cell_type": "code",
   "execution_count": 6,
   "metadata": {},
   "outputs": [
    {
     "data": {
      "text/html": [
       "<div>\n",
       "<style scoped>\n",
       "    .dataframe tbody tr th:only-of-type {\n",
       "        vertical-align: middle;\n",
       "    }\n",
       "\n",
       "    .dataframe tbody tr th {\n",
       "        vertical-align: top;\n",
       "    }\n",
       "\n",
       "    .dataframe thead th {\n",
       "        text-align: right;\n",
       "    }\n",
       "</style>\n",
       "<table border=\"1\" class=\"dataframe\">\n",
       "  <thead>\n",
       "    <tr style=\"text-align: right;\">\n",
       "      <th></th>\n",
       "      <th>Country</th>\n",
       "      <th>1990</th>\n",
       "      <th>1991</th>\n",
       "      <th>1992</th>\n",
       "      <th>1993</th>\n",
       "      <th>1994</th>\n",
       "      <th>1995</th>\n",
       "      <th>1996</th>\n",
       "      <th>1997</th>\n",
       "      <th>1998</th>\n",
       "      <th>...</th>\n",
       "      <th>2010</th>\n",
       "      <th>2011</th>\n",
       "      <th>2012</th>\n",
       "      <th>2013</th>\n",
       "      <th>2014</th>\n",
       "      <th>2015</th>\n",
       "      <th>2016</th>\n",
       "      <th>2017</th>\n",
       "      <th>2018</th>\n",
       "      <th>2019</th>\n",
       "    </tr>\n",
       "  </thead>\n",
       "  <tbody>\n",
       "    <tr>\n",
       "      <th>0</th>\n",
       "      <td>Afghanistan</td>\n",
       "      <td>0.302</td>\n",
       "      <td>0.308</td>\n",
       "      <td>0.314</td>\n",
       "      <td>0.312</td>\n",
       "      <td>0.307</td>\n",
       "      <td>0.331</td>\n",
       "      <td>0.335</td>\n",
       "      <td>0.340</td>\n",
       "      <td>0.343</td>\n",
       "      <td>...</td>\n",
       "      <td>0.471</td>\n",
       "      <td>0.477</td>\n",
       "      <td>0.490</td>\n",
       "      <td>0.497</td>\n",
       "      <td>0.500</td>\n",
       "      <td>0.499</td>\n",
       "      <td>0.502</td>\n",
       "      <td>0.506</td>\n",
       "      <td>0.509</td>\n",
       "      <td>0.511</td>\n",
       "    </tr>\n",
       "    <tr>\n",
       "      <th>1</th>\n",
       "      <td>Albania</td>\n",
       "      <td>0.649</td>\n",
       "      <td>0.631</td>\n",
       "      <td>0.615</td>\n",
       "      <td>0.617</td>\n",
       "      <td>0.624</td>\n",
       "      <td>0.637</td>\n",
       "      <td>0.646</td>\n",
       "      <td>0.645</td>\n",
       "      <td>0.656</td>\n",
       "      <td>...</td>\n",
       "      <td>0.745</td>\n",
       "      <td>0.764</td>\n",
       "      <td>0.775</td>\n",
       "      <td>0.781</td>\n",
       "      <td>0.787</td>\n",
       "      <td>0.787</td>\n",
       "      <td>0.787</td>\n",
       "      <td>0.790</td>\n",
       "      <td>0.793</td>\n",
       "      <td>0.794</td>\n",
       "    </tr>\n",
       "    <tr>\n",
       "      <th>2</th>\n",
       "      <td>Algeria</td>\n",
       "      <td>0.573</td>\n",
       "      <td>0.577</td>\n",
       "      <td>0.582</td>\n",
       "      <td>0.586</td>\n",
       "      <td>0.590</td>\n",
       "      <td>0.594</td>\n",
       "      <td>0.603</td>\n",
       "      <td>0.611</td>\n",
       "      <td>0.620</td>\n",
       "      <td>...</td>\n",
       "      <td>0.720</td>\n",
       "      <td>0.729</td>\n",
       "      <td>0.728</td>\n",
       "      <td>0.729</td>\n",
       "      <td>0.736</td>\n",
       "      <td>0.739</td>\n",
       "      <td>0.742</td>\n",
       "      <td>0.746</td>\n",
       "      <td>0.747</td>\n",
       "      <td>0.748</td>\n",
       "    </tr>\n",
       "    <tr>\n",
       "      <th>3</th>\n",
       "      <td>Andorra</td>\n",
       "      <td>NaN</td>\n",
       "      <td>NaN</td>\n",
       "      <td>NaN</td>\n",
       "      <td>NaN</td>\n",
       "      <td>NaN</td>\n",
       "      <td>NaN</td>\n",
       "      <td>NaN</td>\n",
       "      <td>NaN</td>\n",
       "      <td>NaN</td>\n",
       "      <td>...</td>\n",
       "      <td>0.838</td>\n",
       "      <td>0.837</td>\n",
       "      <td>0.858</td>\n",
       "      <td>0.856</td>\n",
       "      <td>0.863</td>\n",
       "      <td>0.862</td>\n",
       "      <td>0.866</td>\n",
       "      <td>0.863</td>\n",
       "      <td>0.867</td>\n",
       "      <td>0.868</td>\n",
       "    </tr>\n",
       "    <tr>\n",
       "      <th>4</th>\n",
       "      <td>Angola</td>\n",
       "      <td>NaN</td>\n",
       "      <td>NaN</td>\n",
       "      <td>NaN</td>\n",
       "      <td>NaN</td>\n",
       "      <td>NaN</td>\n",
       "      <td>NaN</td>\n",
       "      <td>NaN</td>\n",
       "      <td>NaN</td>\n",
       "      <td>NaN</td>\n",
       "      <td>...</td>\n",
       "      <td>0.517</td>\n",
       "      <td>0.532</td>\n",
       "      <td>0.544</td>\n",
       "      <td>0.556</td>\n",
       "      <td>0.565</td>\n",
       "      <td>0.572</td>\n",
       "      <td>0.578</td>\n",
       "      <td>0.582</td>\n",
       "      <td>0.582</td>\n",
       "      <td>0.582</td>\n",
       "    </tr>\n",
       "    <tr>\n",
       "      <th>...</th>\n",
       "      <td>...</td>\n",
       "      <td>...</td>\n",
       "      <td>...</td>\n",
       "      <td>...</td>\n",
       "      <td>...</td>\n",
       "      <td>...</td>\n",
       "      <td>...</td>\n",
       "      <td>...</td>\n",
       "      <td>...</td>\n",
       "      <td>...</td>\n",
       "      <td>...</td>\n",
       "      <td>...</td>\n",
       "      <td>...</td>\n",
       "      <td>...</td>\n",
       "      <td>...</td>\n",
       "      <td>...</td>\n",
       "      <td>...</td>\n",
       "      <td>...</td>\n",
       "      <td>...</td>\n",
       "      <td>...</td>\n",
       "      <td>...</td>\n",
       "    </tr>\n",
       "    <tr>\n",
       "      <th>181</th>\n",
       "      <td>Venezuela</td>\n",
       "      <td>0.645</td>\n",
       "      <td>0.654</td>\n",
       "      <td>0.660</td>\n",
       "      <td>0.661</td>\n",
       "      <td>0.661</td>\n",
       "      <td>0.666</td>\n",
       "      <td>0.668</td>\n",
       "      <td>0.670</td>\n",
       "      <td>0.672</td>\n",
       "      <td>...</td>\n",
       "      <td>0.758</td>\n",
       "      <td>0.770</td>\n",
       "      <td>0.771</td>\n",
       "      <td>0.777</td>\n",
       "      <td>0.775</td>\n",
       "      <td>0.770</td>\n",
       "      <td>0.759</td>\n",
       "      <td>0.742</td>\n",
       "      <td>0.732</td>\n",
       "      <td>0.711</td>\n",
       "    </tr>\n",
       "    <tr>\n",
       "      <th>182</th>\n",
       "      <td>Vietnam</td>\n",
       "      <td>0.483</td>\n",
       "      <td>0.493</td>\n",
       "      <td>0.504</td>\n",
       "      <td>0.513</td>\n",
       "      <td>0.526</td>\n",
       "      <td>0.536</td>\n",
       "      <td>0.548</td>\n",
       "      <td>0.546</td>\n",
       "      <td>0.568</td>\n",
       "      <td>...</td>\n",
       "      <td>0.661</td>\n",
       "      <td>0.671</td>\n",
       "      <td>0.677</td>\n",
       "      <td>0.681</td>\n",
       "      <td>0.683</td>\n",
       "      <td>0.689</td>\n",
       "      <td>0.694</td>\n",
       "      <td>0.696</td>\n",
       "      <td>0.700</td>\n",
       "      <td>0.704</td>\n",
       "    </tr>\n",
       "    <tr>\n",
       "      <th>183</th>\n",
       "      <td>Yemen</td>\n",
       "      <td>0.400</td>\n",
       "      <td>0.401</td>\n",
       "      <td>0.404</td>\n",
       "      <td>0.407</td>\n",
       "      <td>0.409</td>\n",
       "      <td>0.415</td>\n",
       "      <td>0.422</td>\n",
       "      <td>0.426</td>\n",
       "      <td>0.432</td>\n",
       "      <td>...</td>\n",
       "      <td>0.506</td>\n",
       "      <td>0.506</td>\n",
       "      <td>0.505</td>\n",
       "      <td>0.509</td>\n",
       "      <td>0.502</td>\n",
       "      <td>0.484</td>\n",
       "      <td>0.474</td>\n",
       "      <td>0.467</td>\n",
       "      <td>0.468</td>\n",
       "      <td>0.470</td>\n",
       "    </tr>\n",
       "    <tr>\n",
       "      <th>184</th>\n",
       "      <td>Zambia</td>\n",
       "      <td>0.421</td>\n",
       "      <td>0.417</td>\n",
       "      <td>0.416</td>\n",
       "      <td>0.419</td>\n",
       "      <td>0.414</td>\n",
       "      <td>0.415</td>\n",
       "      <td>0.415</td>\n",
       "      <td>0.416</td>\n",
       "      <td>0.415</td>\n",
       "      <td>...</td>\n",
       "      <td>0.527</td>\n",
       "      <td>0.534</td>\n",
       "      <td>0.549</td>\n",
       "      <td>0.557</td>\n",
       "      <td>0.560</td>\n",
       "      <td>0.569</td>\n",
       "      <td>0.572</td>\n",
       "      <td>0.578</td>\n",
       "      <td>0.582</td>\n",
       "      <td>0.585</td>\n",
       "    </tr>\n",
       "    <tr>\n",
       "      <th>185</th>\n",
       "      <td>Zimbabwe</td>\n",
       "      <td>0.478</td>\n",
       "      <td>0.481</td>\n",
       "      <td>0.467</td>\n",
       "      <td>0.463</td>\n",
       "      <td>0.459</td>\n",
       "      <td>0.453</td>\n",
       "      <td>0.453</td>\n",
       "      <td>0.448</td>\n",
       "      <td>0.442</td>\n",
       "      <td>...</td>\n",
       "      <td>0.482</td>\n",
       "      <td>0.500</td>\n",
       "      <td>0.526</td>\n",
       "      <td>0.537</td>\n",
       "      <td>0.548</td>\n",
       "      <td>0.552</td>\n",
       "      <td>0.558</td>\n",
       "      <td>0.563</td>\n",
       "      <td>0.570</td>\n",
       "      <td>0.571</td>\n",
       "    </tr>\n",
       "  </tbody>\n",
       "</table>\n",
       "<p>186 rows × 31 columns</p>\n",
       "</div>"
      ],
      "text/plain": [
       "         Country   1990   1991   1992   1993   1994   1995   1996   1997  \\\n",
       "0    Afghanistan  0.302  0.308  0.314  0.312  0.307  0.331  0.335  0.340   \n",
       "1        Albania  0.649  0.631  0.615  0.617  0.624  0.637  0.646  0.645   \n",
       "2        Algeria  0.573  0.577  0.582  0.586  0.590  0.594  0.603  0.611   \n",
       "3        Andorra    NaN    NaN    NaN    NaN    NaN    NaN    NaN    NaN   \n",
       "4         Angola    NaN    NaN    NaN    NaN    NaN    NaN    NaN    NaN   \n",
       "..           ...    ...    ...    ...    ...    ...    ...    ...    ...   \n",
       "181    Venezuela  0.645  0.654  0.660  0.661  0.661  0.666  0.668  0.670   \n",
       "182      Vietnam  0.483  0.493  0.504  0.513  0.526  0.536  0.548  0.546   \n",
       "183        Yemen  0.400  0.401  0.404  0.407  0.409  0.415  0.422  0.426   \n",
       "184       Zambia  0.421  0.417  0.416  0.419  0.414  0.415  0.415  0.416   \n",
       "185     Zimbabwe  0.478  0.481  0.467  0.463  0.459  0.453  0.453  0.448   \n",
       "\n",
       "      1998  ...   2010   2011   2012   2013   2014   2015   2016   2017  \\\n",
       "0    0.343  ...  0.471  0.477  0.490  0.497  0.500  0.499  0.502  0.506   \n",
       "1    0.656  ...  0.745  0.764  0.775  0.781  0.787  0.787  0.787  0.790   \n",
       "2    0.620  ...  0.720  0.729  0.728  0.729  0.736  0.739  0.742  0.746   \n",
       "3      NaN  ...  0.838  0.837  0.858  0.856  0.863  0.862  0.866  0.863   \n",
       "4      NaN  ...  0.517  0.532  0.544  0.556  0.565  0.572  0.578  0.582   \n",
       "..     ...  ...    ...    ...    ...    ...    ...    ...    ...    ...   \n",
       "181  0.672  ...  0.758  0.770  0.771  0.777  0.775  0.770  0.759  0.742   \n",
       "182  0.568  ...  0.661  0.671  0.677  0.681  0.683  0.689  0.694  0.696   \n",
       "183  0.432  ...  0.506  0.506  0.505  0.509  0.502  0.484  0.474  0.467   \n",
       "184  0.415  ...  0.527  0.534  0.549  0.557  0.560  0.569  0.572  0.578   \n",
       "185  0.442  ...  0.482  0.500  0.526  0.537  0.548  0.552  0.558  0.563   \n",
       "\n",
       "      2018   2019  \n",
       "0    0.509  0.511  \n",
       "1    0.793  0.794  \n",
       "2    0.747  0.748  \n",
       "3    0.867  0.868  \n",
       "4    0.582  0.582  \n",
       "..     ...    ...  \n",
       "181  0.732  0.711  \n",
       "182  0.700  0.704  \n",
       "183  0.468  0.470  \n",
       "184  0.582  0.585  \n",
       "185  0.570  0.571  \n",
       "\n",
       "[186 rows x 31 columns]"
      ]
     },
     "execution_count": 6,
     "metadata": {},
     "output_type": "execute_result"
    }
   ],
   "source": [
    "hdi_data = hdi_data.drop(columns=['ISO_Code', 'Level', 'GDLCODE', 'Region'])\n",
    "hdi_data.index = range(0,len(hdi_data))\n",
    "hdi_data"
   ]
  },
  {
   "cell_type": "code",
   "execution_count": 7,
   "metadata": {},
   "outputs": [
    {
     "data": {
      "text/html": [
       "<div>\n",
       "<style scoped>\n",
       "    .dataframe tbody tr th:only-of-type {\n",
       "        vertical-align: middle;\n",
       "    }\n",
       "\n",
       "    .dataframe tbody tr th {\n",
       "        vertical-align: top;\n",
       "    }\n",
       "\n",
       "    .dataframe thead th {\n",
       "        text-align: right;\n",
       "    }\n",
       "</style>\n",
       "<table border=\"1\" class=\"dataframe\">\n",
       "  <thead>\n",
       "    <tr style=\"text-align: right;\">\n",
       "      <th></th>\n",
       "      <th>Country</th>\n",
       "      <th>Year</th>\n",
       "      <th>HDI</th>\n",
       "    </tr>\n",
       "  </thead>\n",
       "  <tbody>\n",
       "    <tr>\n",
       "      <th>0</th>\n",
       "      <td>Afghanistan</td>\n",
       "      <td>1990</td>\n",
       "      <td>0.302</td>\n",
       "    </tr>\n",
       "    <tr>\n",
       "      <th>1</th>\n",
       "      <td>Albania</td>\n",
       "      <td>1990</td>\n",
       "      <td>0.649</td>\n",
       "    </tr>\n",
       "    <tr>\n",
       "      <th>2</th>\n",
       "      <td>Algeria</td>\n",
       "      <td>1990</td>\n",
       "      <td>0.573</td>\n",
       "    </tr>\n",
       "    <tr>\n",
       "      <th>3</th>\n",
       "      <td>Andorra</td>\n",
       "      <td>1990</td>\n",
       "      <td>NaN</td>\n",
       "    </tr>\n",
       "    <tr>\n",
       "      <th>4</th>\n",
       "      <td>Angola</td>\n",
       "      <td>1990</td>\n",
       "      <td>NaN</td>\n",
       "    </tr>\n",
       "    <tr>\n",
       "      <th>...</th>\n",
       "      <td>...</td>\n",
       "      <td>...</td>\n",
       "      <td>...</td>\n",
       "    </tr>\n",
       "    <tr>\n",
       "      <th>5575</th>\n",
       "      <td>Venezuela</td>\n",
       "      <td>2019</td>\n",
       "      <td>0.711</td>\n",
       "    </tr>\n",
       "    <tr>\n",
       "      <th>5576</th>\n",
       "      <td>Vietnam</td>\n",
       "      <td>2019</td>\n",
       "      <td>0.704</td>\n",
       "    </tr>\n",
       "    <tr>\n",
       "      <th>5577</th>\n",
       "      <td>Yemen</td>\n",
       "      <td>2019</td>\n",
       "      <td>0.470</td>\n",
       "    </tr>\n",
       "    <tr>\n",
       "      <th>5578</th>\n",
       "      <td>Zambia</td>\n",
       "      <td>2019</td>\n",
       "      <td>0.585</td>\n",
       "    </tr>\n",
       "    <tr>\n",
       "      <th>5579</th>\n",
       "      <td>Zimbabwe</td>\n",
       "      <td>2019</td>\n",
       "      <td>0.571</td>\n",
       "    </tr>\n",
       "  </tbody>\n",
       "</table>\n",
       "<p>5580 rows × 3 columns</p>\n",
       "</div>"
      ],
      "text/plain": [
       "          Country  Year    HDI\n",
       "0     Afghanistan  1990  0.302\n",
       "1         Albania  1990  0.649\n",
       "2         Algeria  1990  0.573\n",
       "3         Andorra  1990    NaN\n",
       "4          Angola  1990    NaN\n",
       "...           ...   ...    ...\n",
       "5575    Venezuela  2019  0.711\n",
       "5576      Vietnam  2019  0.704\n",
       "5577        Yemen  2019  0.470\n",
       "5578       Zambia  2019  0.585\n",
       "5579     Zimbabwe  2019  0.571\n",
       "\n",
       "[5580 rows x 3 columns]"
      ]
     },
     "execution_count": 7,
     "metadata": {},
     "output_type": "execute_result"
    }
   ],
   "source": [
    "hdi_new = hdi_data.melt(id_vars=['Country'], var_name='Year', value_name='HDI')\n",
    "hdi_new"
   ]
  },
  {
   "cell_type": "code",
   "execution_count": 8,
   "metadata": {},
   "outputs": [
    {
     "name": "stderr",
     "output_type": "stream",
     "text": [
      "XKO not found in ISO3\n"
     ]
    }
   ],
   "source": [
    "life_expectancy = life_expectancy[life_expectancy['Level'] == 'National']\n",
    "life_expectancy['Country'] = coco.convert(names = life_expectancy['ISO_Code'], to= 'name_short')\n",
    "life_expectancy = life_expectancy.drop(columns=['ISO_Code', 'Level', 'GDLCODE', 'Region'])\n",
    "new_lifeExp = life_expectancy.melt(id_vars=['Country'], var_name='Year', value_name='Life Expectancy')\n",
    "\n"
   ]
  },
  {
   "cell_type": "code",
   "execution_count": 9,
   "metadata": {},
   "outputs": [
    {
     "data": {
      "text/html": [
       "<div>\n",
       "<style scoped>\n",
       "    .dataframe tbody tr th:only-of-type {\n",
       "        vertical-align: middle;\n",
       "    }\n",
       "\n",
       "    .dataframe tbody tr th {\n",
       "        vertical-align: top;\n",
       "    }\n",
       "\n",
       "    .dataframe thead th {\n",
       "        text-align: right;\n",
       "    }\n",
       "</style>\n",
       "<table border=\"1\" class=\"dataframe\">\n",
       "  <thead>\n",
       "    <tr style=\"text-align: right;\">\n",
       "      <th></th>\n",
       "      <th>Country</th>\n",
       "      <th>Year</th>\n",
       "      <th>Life Expectancy</th>\n",
       "    </tr>\n",
       "  </thead>\n",
       "  <tbody>\n",
       "    <tr>\n",
       "      <th>0</th>\n",
       "      <td>Afghanistan</td>\n",
       "      <td>1990</td>\n",
       "      <td>50.3</td>\n",
       "    </tr>\n",
       "    <tr>\n",
       "      <th>1</th>\n",
       "      <td>Albania</td>\n",
       "      <td>1990</td>\n",
       "      <td>71.8</td>\n",
       "    </tr>\n",
       "    <tr>\n",
       "      <th>2</th>\n",
       "      <td>Algeria</td>\n",
       "      <td>1990</td>\n",
       "      <td>66.9</td>\n",
       "    </tr>\n",
       "    <tr>\n",
       "      <th>3</th>\n",
       "      <td>Andorra</td>\n",
       "      <td>1990</td>\n",
       "      <td>NaN</td>\n",
       "    </tr>\n",
       "    <tr>\n",
       "      <th>4</th>\n",
       "      <td>Angola</td>\n",
       "      <td>1990</td>\n",
       "      <td>NaN</td>\n",
       "    </tr>\n",
       "    <tr>\n",
       "      <th>...</th>\n",
       "      <td>...</td>\n",
       "      <td>...</td>\n",
       "      <td>...</td>\n",
       "    </tr>\n",
       "    <tr>\n",
       "      <th>5575</th>\n",
       "      <td>Venezuela</td>\n",
       "      <td>2019</td>\n",
       "      <td>72.1</td>\n",
       "    </tr>\n",
       "    <tr>\n",
       "      <th>5576</th>\n",
       "      <td>Vietnam</td>\n",
       "      <td>2019</td>\n",
       "      <td>75.4</td>\n",
       "    </tr>\n",
       "    <tr>\n",
       "      <th>5577</th>\n",
       "      <td>Yemen</td>\n",
       "      <td>2019</td>\n",
       "      <td>66.1</td>\n",
       "    </tr>\n",
       "    <tr>\n",
       "      <th>5578</th>\n",
       "      <td>Zambia</td>\n",
       "      <td>2019</td>\n",
       "      <td>63.9</td>\n",
       "    </tr>\n",
       "    <tr>\n",
       "      <th>5579</th>\n",
       "      <td>Zimbabwe</td>\n",
       "      <td>2019</td>\n",
       "      <td>61.5</td>\n",
       "    </tr>\n",
       "  </tbody>\n",
       "</table>\n",
       "<p>5580 rows × 3 columns</p>\n",
       "</div>"
      ],
      "text/plain": [
       "          Country  Year  Life Expectancy\n",
       "0     Afghanistan  1990             50.3\n",
       "1         Albania  1990             71.8\n",
       "2         Algeria  1990             66.9\n",
       "3         Andorra  1990              NaN\n",
       "4          Angola  1990              NaN\n",
       "...           ...   ...              ...\n",
       "5575    Venezuela  2019             72.1\n",
       "5576      Vietnam  2019             75.4\n",
       "5577        Yemen  2019             66.1\n",
       "5578       Zambia  2019             63.9\n",
       "5579     Zimbabwe  2019             61.5\n",
       "\n",
       "[5580 rows x 3 columns]"
      ]
     },
     "execution_count": 9,
     "metadata": {},
     "output_type": "execute_result"
    }
   ],
   "source": [
    "new_lifeExp"
   ]
  },
  {
   "cell_type": "code",
   "execution_count": 10,
   "metadata": {},
   "outputs": [
    {
     "data": {
      "text/html": [
       "<div>\n",
       "<style scoped>\n",
       "    .dataframe tbody tr th:only-of-type {\n",
       "        vertical-align: middle;\n",
       "    }\n",
       "\n",
       "    .dataframe tbody tr th {\n",
       "        vertical-align: top;\n",
       "    }\n",
       "\n",
       "    .dataframe thead th {\n",
       "        text-align: right;\n",
       "    }\n",
       "</style>\n",
       "<table border=\"1\" class=\"dataframe\">\n",
       "  <thead>\n",
       "    <tr style=\"text-align: right;\">\n",
       "      <th></th>\n",
       "      <th>Country</th>\n",
       "      <th>Year</th>\n",
       "      <th>HDI</th>\n",
       "      <th>GDI</th>\n",
       "      <th>Life Expectancy</th>\n",
       "    </tr>\n",
       "  </thead>\n",
       "  <tbody>\n",
       "    <tr>\n",
       "      <th>0</th>\n",
       "      <td>Afghanistan</td>\n",
       "      <td>1990</td>\n",
       "      <td>0.302</td>\n",
       "      <td>NaN</td>\n",
       "      <td>50.3</td>\n",
       "    </tr>\n",
       "    <tr>\n",
       "      <th>1</th>\n",
       "      <td>Albania</td>\n",
       "      <td>1990</td>\n",
       "      <td>0.649</td>\n",
       "      <td>NaN</td>\n",
       "      <td>71.8</td>\n",
       "    </tr>\n",
       "    <tr>\n",
       "      <th>2</th>\n",
       "      <td>Algeria</td>\n",
       "      <td>1990</td>\n",
       "      <td>0.573</td>\n",
       "      <td>NaN</td>\n",
       "      <td>66.9</td>\n",
       "    </tr>\n",
       "    <tr>\n",
       "      <th>3</th>\n",
       "      <td>Andorra</td>\n",
       "      <td>1990</td>\n",
       "      <td>NaN</td>\n",
       "      <td>NaN</td>\n",
       "      <td>NaN</td>\n",
       "    </tr>\n",
       "    <tr>\n",
       "      <th>4</th>\n",
       "      <td>Angola</td>\n",
       "      <td>1990</td>\n",
       "      <td>NaN</td>\n",
       "      <td>NaN</td>\n",
       "      <td>NaN</td>\n",
       "    </tr>\n",
       "    <tr>\n",
       "      <th>...</th>\n",
       "      <td>...</td>\n",
       "      <td>...</td>\n",
       "      <td>...</td>\n",
       "      <td>...</td>\n",
       "      <td>...</td>\n",
       "    </tr>\n",
       "    <tr>\n",
       "      <th>5575</th>\n",
       "      <td>Venezuela</td>\n",
       "      <td>2019</td>\n",
       "      <td>0.711</td>\n",
       "      <td>1.010</td>\n",
       "      <td>72.1</td>\n",
       "    </tr>\n",
       "    <tr>\n",
       "      <th>5576</th>\n",
       "      <td>Vietnam</td>\n",
       "      <td>2019</td>\n",
       "      <td>0.704</td>\n",
       "      <td>0.998</td>\n",
       "      <td>75.4</td>\n",
       "    </tr>\n",
       "    <tr>\n",
       "      <th>5577</th>\n",
       "      <td>Yemen</td>\n",
       "      <td>2019</td>\n",
       "      <td>0.470</td>\n",
       "      <td>0.490</td>\n",
       "      <td>66.1</td>\n",
       "    </tr>\n",
       "    <tr>\n",
       "      <th>5578</th>\n",
       "      <td>Zambia</td>\n",
       "      <td>2019</td>\n",
       "      <td>0.585</td>\n",
       "      <td>0.959</td>\n",
       "      <td>63.9</td>\n",
       "    </tr>\n",
       "    <tr>\n",
       "      <th>5579</th>\n",
       "      <td>Zimbabwe</td>\n",
       "      <td>2019</td>\n",
       "      <td>0.571</td>\n",
       "      <td>0.933</td>\n",
       "      <td>61.5</td>\n",
       "    </tr>\n",
       "  </tbody>\n",
       "</table>\n",
       "<p>5580 rows × 5 columns</p>\n",
       "</div>"
      ],
      "text/plain": [
       "          Country  Year    HDI    GDI  Life Expectancy\n",
       "0     Afghanistan  1990  0.302    NaN             50.3\n",
       "1         Albania  1990  0.649    NaN             71.8\n",
       "2         Algeria  1990  0.573    NaN             66.9\n",
       "3         Andorra  1990    NaN    NaN              NaN\n",
       "4          Angola  1990    NaN    NaN              NaN\n",
       "...           ...   ...    ...    ...              ...\n",
       "5575    Venezuela  2019  0.711  1.010             72.1\n",
       "5576      Vietnam  2019  0.704  0.998             75.4\n",
       "5577        Yemen  2019  0.470  0.490             66.1\n",
       "5578       Zambia  2019  0.585  0.959             63.9\n",
       "5579     Zimbabwe  2019  0.571  0.933             61.5\n",
       "\n",
       "[5580 rows x 5 columns]"
      ]
     },
     "execution_count": 10,
     "metadata": {},
     "output_type": "execute_result"
    }
   ],
   "source": [
    "combined_indices = pd.merge(hdi_new, gdi_new, on=['Country', 'Year'], how='outer')\n",
    "combined_indices = pd.merge(combined_indices, new_lifeExp, on=['Country', 'Year'], how='outer')\n",
    "combined_indices"
   ]
  },
  {
   "cell_type": "code",
   "execution_count": 11,
   "metadata": {},
   "outputs": [],
   "source": [
    "combined_indices.to_excel('IndicesWithLifeExpectancy.xlsx')"
   ]
  },
  {
   "cell_type": "code",
   "execution_count": 27,
   "metadata": {},
   "outputs": [
    {
     "name": "stderr",
     "output_type": "stream",
     "text": [
      "C:\\Users\\jt271\\AppData\\Local\\Programs\\Python\\Python39\\lib\\site-packages\\pandas\\core\\reshape\\merge.py:916: FutureWarning: In a future version, the Index constructor will not infer numeric dtypes when passed object-dtype sequences (matching Series behavior)\n",
      "  key_col = Index(lvals).where(~mask_left, rvals)\n"
     ]
    },
    {
     "data": {
      "text/html": [
       "<div>\n",
       "<style scoped>\n",
       "    .dataframe tbody tr th:only-of-type {\n",
       "        vertical-align: middle;\n",
       "    }\n",
       "\n",
       "    .dataframe tbody tr th {\n",
       "        vertical-align: top;\n",
       "    }\n",
       "\n",
       "    .dataframe thead th {\n",
       "        text-align: right;\n",
       "    }\n",
       "</style>\n",
       "<table border=\"1\" class=\"dataframe\">\n",
       "  <thead>\n",
       "    <tr style=\"text-align: right;\">\n",
       "      <th></th>\n",
       "      <th>ParentLocationCode</th>\n",
       "      <th>ParentLocation</th>\n",
       "      <th>SpatialDimValueCode</th>\n",
       "      <th>Country</th>\n",
       "      <th>Year</th>\n",
       "      <th>Dim1</th>\n",
       "      <th>Dim1ValueCode</th>\n",
       "      <th>FactValueNumeric</th>\n",
       "      <th>FactValueNumericLow</th>\n",
       "      <th>FactValueNumericHigh</th>\n",
       "      <th>Value</th>\n",
       "      <th>HDI</th>\n",
       "      <th>GDI</th>\n",
       "      <th>Life Expectancy</th>\n",
       "    </tr>\n",
       "  </thead>\n",
       "  <tbody>\n",
       "    <tr>\n",
       "      <th>0</th>\n",
       "      <td>EMR</td>\n",
       "      <td>Eastern Mediterranean</td>\n",
       "      <td>AFG</td>\n",
       "      <td>Afghanistan</td>\n",
       "      <td>2019.0</td>\n",
       "      <td>Both sexes</td>\n",
       "      <td>BTSX</td>\n",
       "      <td>5.96</td>\n",
       "      <td>3.40</td>\n",
       "      <td>9.91</td>\n",
       "      <td>5.96 [3.4 – 9.91]</td>\n",
       "      <td>0.511</td>\n",
       "      <td>0.658</td>\n",
       "      <td>64.8</td>\n",
       "    </tr>\n",
       "    <tr>\n",
       "      <th>1</th>\n",
       "      <td>EMR</td>\n",
       "      <td>Eastern Mediterranean</td>\n",
       "      <td>AFG</td>\n",
       "      <td>Afghanistan</td>\n",
       "      <td>2018.0</td>\n",
       "      <td>Both sexes</td>\n",
       "      <td>BTSX</td>\n",
       "      <td>5.91</td>\n",
       "      <td>3.38</td>\n",
       "      <td>9.81</td>\n",
       "      <td>5.91 [3.38 – 9.81]</td>\n",
       "      <td>0.509</td>\n",
       "      <td>0.662</td>\n",
       "      <td>64.5</td>\n",
       "    </tr>\n",
       "    <tr>\n",
       "      <th>2</th>\n",
       "      <td>EMR</td>\n",
       "      <td>Eastern Mediterranean</td>\n",
       "      <td>AFG</td>\n",
       "      <td>Afghanistan</td>\n",
       "      <td>2017.0</td>\n",
       "      <td>Both sexes</td>\n",
       "      <td>BTSX</td>\n",
       "      <td>5.95</td>\n",
       "      <td>3.42</td>\n",
       "      <td>9.88</td>\n",
       "      <td>5.95 [3.42 – 9.88]</td>\n",
       "      <td>0.506</td>\n",
       "      <td>0.658</td>\n",
       "      <td>64.1</td>\n",
       "    </tr>\n",
       "    <tr>\n",
       "      <th>3</th>\n",
       "      <td>EMR</td>\n",
       "      <td>Eastern Mediterranean</td>\n",
       "      <td>AFG</td>\n",
       "      <td>Afghanistan</td>\n",
       "      <td>2016.0</td>\n",
       "      <td>Both sexes</td>\n",
       "      <td>BTSX</td>\n",
       "      <td>6.01</td>\n",
       "      <td>3.48</td>\n",
       "      <td>9.93</td>\n",
       "      <td>6.01 [3.48 – 9.93]</td>\n",
       "      <td>0.502</td>\n",
       "      <td>0.646</td>\n",
       "      <td>63.8</td>\n",
       "    </tr>\n",
       "    <tr>\n",
       "      <th>4</th>\n",
       "      <td>EMR</td>\n",
       "      <td>Eastern Mediterranean</td>\n",
       "      <td>AFG</td>\n",
       "      <td>Afghanistan</td>\n",
       "      <td>2015.0</td>\n",
       "      <td>Both sexes</td>\n",
       "      <td>BTSX</td>\n",
       "      <td>5.99</td>\n",
       "      <td>3.48</td>\n",
       "      <td>9.88</td>\n",
       "      <td>5.99 [3.48 – 9.88]</td>\n",
       "      <td>0.499</td>\n",
       "      <td>0.640</td>\n",
       "      <td>63.4</td>\n",
       "    </tr>\n",
       "    <tr>\n",
       "      <th>...</th>\n",
       "      <td>...</td>\n",
       "      <td>...</td>\n",
       "      <td>...</td>\n",
       "      <td>...</td>\n",
       "      <td>...</td>\n",
       "      <td>...</td>\n",
       "      <td>...</td>\n",
       "      <td>...</td>\n",
       "      <td>...</td>\n",
       "      <td>...</td>\n",
       "      <td>...</td>\n",
       "      <td>...</td>\n",
       "      <td>...</td>\n",
       "      <td>...</td>\n",
       "    </tr>\n",
       "    <tr>\n",
       "      <th>3655</th>\n",
       "      <td>AFR</td>\n",
       "      <td>Africa</td>\n",
       "      <td>ZWE</td>\n",
       "      <td>Zimbabwe</td>\n",
       "      <td>2004.0</td>\n",
       "      <td>Both sexes</td>\n",
       "      <td>BTSX</td>\n",
       "      <td>21.47</td>\n",
       "      <td>11.41</td>\n",
       "      <td>33.75</td>\n",
       "      <td>21.47 [11.41 – 33.75]</td>\n",
       "      <td>0.411</td>\n",
       "      <td>0.895</td>\n",
       "      <td>43.1</td>\n",
       "    </tr>\n",
       "    <tr>\n",
       "      <th>3656</th>\n",
       "      <td>AFR</td>\n",
       "      <td>Africa</td>\n",
       "      <td>ZWE</td>\n",
       "      <td>Zimbabwe</td>\n",
       "      <td>2003.0</td>\n",
       "      <td>Both sexes</td>\n",
       "      <td>BTSX</td>\n",
       "      <td>20.23</td>\n",
       "      <td>10.69</td>\n",
       "      <td>31.68</td>\n",
       "      <td>20.23 [10.69 – 31.68]</td>\n",
       "      <td>0.414</td>\n",
       "      <td>0.894</td>\n",
       "      <td>43.2</td>\n",
       "    </tr>\n",
       "    <tr>\n",
       "      <th>3657</th>\n",
       "      <td>AFR</td>\n",
       "      <td>Africa</td>\n",
       "      <td>ZWE</td>\n",
       "      <td>Zimbabwe</td>\n",
       "      <td>2002.0</td>\n",
       "      <td>Both sexes</td>\n",
       "      <td>BTSX</td>\n",
       "      <td>20.34</td>\n",
       "      <td>10.74</td>\n",
       "      <td>31.95</td>\n",
       "      <td>20.34 [10.74 – 31.95]</td>\n",
       "      <td>0.423</td>\n",
       "      <td>0.892</td>\n",
       "      <td>43.5</td>\n",
       "    </tr>\n",
       "    <tr>\n",
       "      <th>3658</th>\n",
       "      <td>AFR</td>\n",
       "      <td>Africa</td>\n",
       "      <td>ZWE</td>\n",
       "      <td>Zimbabwe</td>\n",
       "      <td>2001.0</td>\n",
       "      <td>Both sexes</td>\n",
       "      <td>BTSX</td>\n",
       "      <td>19.53</td>\n",
       "      <td>10.23</td>\n",
       "      <td>30.75</td>\n",
       "      <td>19.53 [10.23 – 30.75]</td>\n",
       "      <td>0.431</td>\n",
       "      <td>0.891</td>\n",
       "      <td>44.0</td>\n",
       "    </tr>\n",
       "    <tr>\n",
       "      <th>3659</th>\n",
       "      <td>AFR</td>\n",
       "      <td>Africa</td>\n",
       "      <td>ZWE</td>\n",
       "      <td>Zimbabwe</td>\n",
       "      <td>2000.0</td>\n",
       "      <td>Both sexes</td>\n",
       "      <td>BTSX</td>\n",
       "      <td>19.98</td>\n",
       "      <td>10.34</td>\n",
       "      <td>31.52</td>\n",
       "      <td>19.98 [10.34 – 31.52]</td>\n",
       "      <td>0.430</td>\n",
       "      <td>0.890</td>\n",
       "      <td>44.6</td>\n",
       "    </tr>\n",
       "  </tbody>\n",
       "</table>\n",
       "<p>3660 rows × 14 columns</p>\n",
       "</div>"
      ],
      "text/plain": [
       "     ParentLocationCode         ParentLocation SpatialDimValueCode  \\\n",
       "0                   EMR  Eastern Mediterranean                 AFG   \n",
       "1                   EMR  Eastern Mediterranean                 AFG   \n",
       "2                   EMR  Eastern Mediterranean                 AFG   \n",
       "3                   EMR  Eastern Mediterranean                 AFG   \n",
       "4                   EMR  Eastern Mediterranean                 AFG   \n",
       "...                 ...                    ...                 ...   \n",
       "3655                AFR                 Africa                 ZWE   \n",
       "3656                AFR                 Africa                 ZWE   \n",
       "3657                AFR                 Africa                 ZWE   \n",
       "3658                AFR                 Africa                 ZWE   \n",
       "3659                AFR                 Africa                 ZWE   \n",
       "\n",
       "          Country    Year        Dim1 Dim1ValueCode  FactValueNumeric  \\\n",
       "0     Afghanistan  2019.0  Both sexes          BTSX              5.96   \n",
       "1     Afghanistan  2018.0  Both sexes          BTSX              5.91   \n",
       "2     Afghanistan  2017.0  Both sexes          BTSX              5.95   \n",
       "3     Afghanistan  2016.0  Both sexes          BTSX              6.01   \n",
       "4     Afghanistan  2015.0  Both sexes          BTSX              5.99   \n",
       "...           ...     ...         ...           ...               ...   \n",
       "3655     Zimbabwe  2004.0  Both sexes          BTSX             21.47   \n",
       "3656     Zimbabwe  2003.0  Both sexes          BTSX             20.23   \n",
       "3657     Zimbabwe  2002.0  Both sexes          BTSX             20.34   \n",
       "3658     Zimbabwe  2001.0  Both sexes          BTSX             19.53   \n",
       "3659     Zimbabwe  2000.0  Both sexes          BTSX             19.98   \n",
       "\n",
       "      FactValueNumericLow  FactValueNumericHigh                  Value    HDI  \\\n",
       "0                    3.40                  9.91      5.96 [3.4 – 9.91]  0.511   \n",
       "1                    3.38                  9.81     5.91 [3.38 – 9.81]  0.509   \n",
       "2                    3.42                  9.88     5.95 [3.42 – 9.88]  0.506   \n",
       "3                    3.48                  9.93     6.01 [3.48 – 9.93]  0.502   \n",
       "4                    3.48                  9.88     5.99 [3.48 – 9.88]  0.499   \n",
       "...                   ...                   ...                    ...    ...   \n",
       "3655                11.41                 33.75  21.47 [11.41 – 33.75]  0.411   \n",
       "3656                10.69                 31.68  20.23 [10.69 – 31.68]  0.414   \n",
       "3657                10.74                 31.95  20.34 [10.74 – 31.95]  0.423   \n",
       "3658                10.23                 30.75  19.53 [10.23 – 30.75]  0.431   \n",
       "3659                10.34                 31.52  19.98 [10.34 – 31.52]  0.430   \n",
       "\n",
       "        GDI  Life Expectancy  \n",
       "0     0.658             64.8  \n",
       "1     0.662             64.5  \n",
       "2     0.658             64.1  \n",
       "3     0.646             63.8  \n",
       "4     0.640             63.4  \n",
       "...     ...              ...  \n",
       "3655  0.895             43.1  \n",
       "3656  0.894             43.2  \n",
       "3657  0.892             43.5  \n",
       "3658  0.891             44.0  \n",
       "3659  0.890             44.6  \n",
       "\n",
       "[3660 rows x 14 columns]"
      ]
     },
     "execution_count": 27,
     "metadata": {},
     "output_type": "execute_result"
    }
   ],
   "source": [
    "bt_suicide_data = bt_suicide_data.rename(columns={'Period': 'Year', 'Location' : 'Country'})\n",
    "all_values = pd.merge(bt_suicide_data, combined_indices, on=['Country', 'Year'], how='outer')\n",
    "all_values = all_values[all_values['SpatialDimValueCode'].notna()]\n",
    "all_values"
   ]
  },
  {
   "cell_type": "code",
   "execution_count": 28,
   "metadata": {},
   "outputs": [],
   "source": [
    "all_values.to_excel('All_data.xlsx')"
   ]
  },
  {
   "cell_type": "code",
   "execution_count": 32,
   "metadata": {},
   "outputs": [
    {
     "data": {
      "text/html": [
       "<div>\n",
       "<style scoped>\n",
       "    .dataframe tbody tr th:only-of-type {\n",
       "        vertical-align: middle;\n",
       "    }\n",
       "\n",
       "    .dataframe tbody tr th {\n",
       "        vertical-align: top;\n",
       "    }\n",
       "\n",
       "    .dataframe thead th {\n",
       "        text-align: right;\n",
       "    }\n",
       "</style>\n",
       "<table border=\"1\" class=\"dataframe\">\n",
       "  <thead>\n",
       "    <tr style=\"text-align: right;\">\n",
       "      <th></th>\n",
       "      <th>Country</th>\n",
       "      <th>FactValueNumeric</th>\n",
       "      <th>GDI_Mean</th>\n",
       "      <th>HDI_Mean</th>\n",
       "      <th>GDI_var</th>\n",
       "      <th>HDI_var</th>\n",
       "    </tr>\n",
       "  </thead>\n",
       "  <tbody>\n",
       "    <tr>\n",
       "      <th>170</th>\n",
       "      <td>Uganda</td>\n",
       "      <td>15.6785</td>\n",
       "      <td>0.873800</td>\n",
       "      <td>0.482700</td>\n",
       "      <td>0.000078</td>\n",
       "      <td>0.001993</td>\n",
       "    </tr>\n",
       "    <tr>\n",
       "      <th>171</th>\n",
       "      <td>Ukraine</td>\n",
       "      <td>23.2900</td>\n",
       "      <td>1.001800</td>\n",
       "      <td>0.749400</td>\n",
       "      <td>0.000028</td>\n",
       "      <td>0.000551</td>\n",
       "    </tr>\n",
       "    <tr>\n",
       "      <th>172</th>\n",
       "      <td>United Arab Emirates</td>\n",
       "      <td>6.3105</td>\n",
       "      <td>0.937667</td>\n",
       "      <td>0.829450</td>\n",
       "      <td>0.000140</td>\n",
       "      <td>0.001060</td>\n",
       "    </tr>\n",
       "    <tr>\n",
       "      <th>173</th>\n",
       "      <td>United Kingdom</td>\n",
       "      <td>7.2820</td>\n",
       "      <td>0.970650</td>\n",
       "      <td>0.905950</td>\n",
       "      <td>0.000031</td>\n",
       "      <td>0.000315</td>\n",
       "    </tr>\n",
       "    <tr>\n",
       "      <th>174</th>\n",
       "      <td>United States</td>\n",
       "      <td>11.8875</td>\n",
       "      <td>0.993100</td>\n",
       "      <td>0.910050</td>\n",
       "      <td>0.000010</td>\n",
       "      <td>0.000182</td>\n",
       "    </tr>\n",
       "    <tr>\n",
       "      <th>175</th>\n",
       "      <td>Uruguay</td>\n",
       "      <td>15.5135</td>\n",
       "      <td>1.008150</td>\n",
       "      <td>0.780150</td>\n",
       "      <td>0.000029</td>\n",
       "      <td>0.000653</td>\n",
       "    </tr>\n",
       "    <tr>\n",
       "      <th>176</th>\n",
       "      <td>Uzbekistan</td>\n",
       "      <td>9.4800</td>\n",
       "      <td>0.938850</td>\n",
       "      <td>0.663600</td>\n",
       "      <td>0.000009</td>\n",
       "      <td>0.001558</td>\n",
       "    </tr>\n",
       "    <tr>\n",
       "      <th>177</th>\n",
       "      <td>Vanuatu</td>\n",
       "      <td>21.8535</td>\n",
       "      <td>0.000000</td>\n",
       "      <td>0.592133</td>\n",
       "      <td>0.000000</td>\n",
       "      <td>0.000086</td>\n",
       "    </tr>\n",
       "    <tr>\n",
       "      <th>178</th>\n",
       "      <td>Venezuela</td>\n",
       "      <td>3.8425</td>\n",
       "      <td>1.008550</td>\n",
       "      <td>0.736250</td>\n",
       "      <td>0.000199</td>\n",
       "      <td>0.001096</td>\n",
       "    </tr>\n",
       "    <tr>\n",
       "      <th>179</th>\n",
       "      <td>Vietnam</td>\n",
       "      <td>7.2855</td>\n",
       "      <td>0.984750</td>\n",
       "      <td>0.653300</td>\n",
       "      <td>0.000242</td>\n",
       "      <td>0.001443</td>\n",
       "    </tr>\n",
       "  </tbody>\n",
       "</table>\n",
       "</div>"
      ],
      "text/plain": [
       "                  Country  FactValueNumeric  GDI_Mean  HDI_Mean   GDI_var  \\\n",
       "170                Uganda           15.6785  0.873800  0.482700  0.000078   \n",
       "171               Ukraine           23.2900  1.001800  0.749400  0.000028   \n",
       "172  United Arab Emirates            6.3105  0.937667  0.829450  0.000140   \n",
       "173        United Kingdom            7.2820  0.970650  0.905950  0.000031   \n",
       "174         United States           11.8875  0.993100  0.910050  0.000010   \n",
       "175               Uruguay           15.5135  1.008150  0.780150  0.000029   \n",
       "176            Uzbekistan            9.4800  0.938850  0.663600  0.000009   \n",
       "177               Vanuatu           21.8535  0.000000  0.592133  0.000000   \n",
       "178             Venezuela            3.8425  1.008550  0.736250  0.000199   \n",
       "179               Vietnam            7.2855  0.984750  0.653300  0.000242   \n",
       "\n",
       "      HDI_var  \n",
       "170  0.001993  \n",
       "171  0.000551  \n",
       "172  0.001060  \n",
       "173  0.000315  \n",
       "174  0.000182  \n",
       "175  0.000653  \n",
       "176  0.001558  \n",
       "177  0.000086  \n",
       "178  0.001096  \n",
       "179  0.001443  "
      ]
     },
     "execution_count": 32,
     "metadata": {},
     "output_type": "execute_result"
    }
   ],
   "source": [
    "all_values=all_values.drop(columns=['Dim1', 'Dim1ValueCode'])\n",
    "#Average and Standard deviation of values grouped by countries\n",
    "groups = all_values.groupby(['Country'], as_index = False)\n",
    "summ_vals = groups['FactValueNumeric'].mean()\n",
    "summ_vals['GDI_Mean'] = groups['GDI'].mean()['GDI']\n",
    "summ_vals['HDI_Mean'] = groups['HDI'].mean()['HDI']\n",
    "summ_vals['GDI_var'] = groups['GDI'].var()['GDI']\n",
    "summ_vals['HDI_var'] = groups['HDI'].var()['HDI']\n",
    "# summ_vals.columns = ['ParentLocation', 'Country', 'SuicideRate']\n",
    "summ_vals = summ_vals.fillna(0)\n",
    "summ_vals[170:180]"
   ]
  },
  {
   "cell_type": "code",
   "execution_count": null,
   "metadata": {},
   "outputs": [],
   "source": []
  },
  {
   "cell_type": "code",
   "execution_count": 36,
   "metadata": {},
   "outputs": [
    {
     "data": {
      "text/html": [
       "<div>\n",
       "<style scoped>\n",
       "    .dataframe tbody tr th:only-of-type {\n",
       "        vertical-align: middle;\n",
       "    }\n",
       "\n",
       "    .dataframe tbody tr th {\n",
       "        vertical-align: top;\n",
       "    }\n",
       "\n",
       "    .dataframe thead th {\n",
       "        text-align: right;\n",
       "    }\n",
       "</style>\n",
       "<table border=\"1\" class=\"dataframe\">\n",
       "  <thead>\n",
       "    <tr style=\"text-align: right;\">\n",
       "      <th></th>\n",
       "      <th>ParentLocationCode</th>\n",
       "      <th>ParentLocation</th>\n",
       "      <th>SpatialDimValueCode</th>\n",
       "      <th>Country</th>\n",
       "      <th>Year</th>\n",
       "      <th>FactValueNumeric</th>\n",
       "      <th>FactValueNumericLow</th>\n",
       "      <th>FactValueNumericHigh</th>\n",
       "      <th>Value</th>\n",
       "      <th>HDI</th>\n",
       "      <th>GDI</th>\n",
       "      <th>Life Expectancy</th>\n",
       "    </tr>\n",
       "  </thead>\n",
       "  <tbody>\n",
       "    <tr>\n",
       "      <th>940</th>\n",
       "      <td>EMR</td>\n",
       "      <td>Eastern Mediterranean</td>\n",
       "      <td>DJI</td>\n",
       "      <td>Djibouti</td>\n",
       "      <td>2019.0</td>\n",
       "      <td>11.95</td>\n",
       "      <td>5.90</td>\n",
       "      <td>21.36</td>\n",
       "      <td>11.95 [5.9 – 21.36]</td>\n",
       "      <td>0.524</td>\n",
       "      <td>0.000</td>\n",
       "      <td>67.1</td>\n",
       "    </tr>\n",
       "    <tr>\n",
       "      <th>2148</th>\n",
       "      <td>WPR</td>\n",
       "      <td>Western Pacific</td>\n",
       "      <td>FSM</td>\n",
       "      <td>Micronesia, Fed. Sts.</td>\n",
       "      <td>2011.0</td>\n",
       "      <td>27.52</td>\n",
       "      <td>14.41</td>\n",
       "      <td>42.35</td>\n",
       "      <td>27.52 [14.41 – 42.35]</td>\n",
       "      <td>0.604</td>\n",
       "      <td>0.000</td>\n",
       "      <td>66.6</td>\n",
       "    </tr>\n",
       "    <tr>\n",
       "      <th>2147</th>\n",
       "      <td>WPR</td>\n",
       "      <td>Western Pacific</td>\n",
       "      <td>FSM</td>\n",
       "      <td>Micronesia, Fed. Sts.</td>\n",
       "      <td>2012.0</td>\n",
       "      <td>27.58</td>\n",
       "      <td>13.73</td>\n",
       "      <td>42.87</td>\n",
       "      <td>27.58 [13.73 – 42.87]</td>\n",
       "      <td>0.604</td>\n",
       "      <td>0.000</td>\n",
       "      <td>66.8</td>\n",
       "    </tr>\n",
       "    <tr>\n",
       "      <th>2146</th>\n",
       "      <td>WPR</td>\n",
       "      <td>Western Pacific</td>\n",
       "      <td>FSM</td>\n",
       "      <td>Micronesia, Fed. Sts.</td>\n",
       "      <td>2013.0</td>\n",
       "      <td>27.40</td>\n",
       "      <td>12.73</td>\n",
       "      <td>43.01</td>\n",
       "      <td>27.4 [12.73 – 43.01]</td>\n",
       "      <td>0.605</td>\n",
       "      <td>0.000</td>\n",
       "      <td>67.0</td>\n",
       "    </tr>\n",
       "    <tr>\n",
       "      <th>2145</th>\n",
       "      <td>WPR</td>\n",
       "      <td>Western Pacific</td>\n",
       "      <td>FSM</td>\n",
       "      <td>Micronesia, Fed. Sts.</td>\n",
       "      <td>2014.0</td>\n",
       "      <td>27.41</td>\n",
       "      <td>12.37</td>\n",
       "      <td>43.35</td>\n",
       "      <td>27.41 [12.37 – 43.35]</td>\n",
       "      <td>0.605</td>\n",
       "      <td>0.000</td>\n",
       "      <td>67.2</td>\n",
       "    </tr>\n",
       "    <tr>\n",
       "      <th>...</th>\n",
       "      <td>...</td>\n",
       "      <td>...</td>\n",
       "      <td>...</td>\n",
       "      <td>...</td>\n",
       "      <td>...</td>\n",
       "      <td>...</td>\n",
       "      <td>...</td>\n",
       "      <td>...</td>\n",
       "      <td>...</td>\n",
       "      <td>...</td>\n",
       "      <td>...</td>\n",
       "      <td>...</td>\n",
       "    </tr>\n",
       "    <tr>\n",
       "      <th>1093</th>\n",
       "      <td>EUR</td>\n",
       "      <td>Europe</td>\n",
       "      <td>EST</td>\n",
       "      <td>Estonia</td>\n",
       "      <td>2006.0</td>\n",
       "      <td>16.82</td>\n",
       "      <td>14.06</td>\n",
       "      <td>19.93</td>\n",
       "      <td>16.82 [14.06 – 19.93]</td>\n",
       "      <td>0.840</td>\n",
       "      <td>1.037</td>\n",
       "      <td>73.1</td>\n",
       "    </tr>\n",
       "    <tr>\n",
       "      <th>1096</th>\n",
       "      <td>EUR</td>\n",
       "      <td>Europe</td>\n",
       "      <td>EST</td>\n",
       "      <td>Estonia</td>\n",
       "      <td>2003.0</td>\n",
       "      <td>22.32</td>\n",
       "      <td>18.90</td>\n",
       "      <td>26.22</td>\n",
       "      <td>22.32 [18.9 – 26.22]</td>\n",
       "      <td>0.812</td>\n",
       "      <td>1.037</td>\n",
       "      <td>71.7</td>\n",
       "    </tr>\n",
       "    <tr>\n",
       "      <th>2694</th>\n",
       "      <td>EUR</td>\n",
       "      <td>Europe</td>\n",
       "      <td>RUS</td>\n",
       "      <td>Russia</td>\n",
       "      <td>2005.0</td>\n",
       "      <td>43.56</td>\n",
       "      <td>41.06</td>\n",
       "      <td>45.40</td>\n",
       "      <td>43.56 [41.06 – 45.4]</td>\n",
       "      <td>0.754</td>\n",
       "      <td>1.038</td>\n",
       "      <td>65.8</td>\n",
       "    </tr>\n",
       "    <tr>\n",
       "      <th>1095</th>\n",
       "      <td>EUR</td>\n",
       "      <td>Europe</td>\n",
       "      <td>EST</td>\n",
       "      <td>Estonia</td>\n",
       "      <td>2004.0</td>\n",
       "      <td>23.15</td>\n",
       "      <td>19.58</td>\n",
       "      <td>27.16</td>\n",
       "      <td>23.15 [19.58 – 27.16]</td>\n",
       "      <td>0.821</td>\n",
       "      <td>1.038</td>\n",
       "      <td>72.2</td>\n",
       "    </tr>\n",
       "    <tr>\n",
       "      <th>1094</th>\n",
       "      <td>EUR</td>\n",
       "      <td>Europe</td>\n",
       "      <td>EST</td>\n",
       "      <td>Estonia</td>\n",
       "      <td>2005.0</td>\n",
       "      <td>19.05</td>\n",
       "      <td>16.05</td>\n",
       "      <td>22.43</td>\n",
       "      <td>19.05 [16.05 – 22.43]</td>\n",
       "      <td>0.832</td>\n",
       "      <td>1.039</td>\n",
       "      <td>72.6</td>\n",
       "    </tr>\n",
       "  </tbody>\n",
       "</table>\n",
       "<p>3660 rows × 12 columns</p>\n",
       "</div>"
      ],
      "text/plain": [
       "     ParentLocationCode         ParentLocation SpatialDimValueCode  \\\n",
       "940                 EMR  Eastern Mediterranean                 DJI   \n",
       "2148                WPR        Western Pacific                 FSM   \n",
       "2147                WPR        Western Pacific                 FSM   \n",
       "2146                WPR        Western Pacific                 FSM   \n",
       "2145                WPR        Western Pacific                 FSM   \n",
       "...                 ...                    ...                 ...   \n",
       "1093                EUR                 Europe                 EST   \n",
       "1096                EUR                 Europe                 EST   \n",
       "2694                EUR                 Europe                 RUS   \n",
       "1095                EUR                 Europe                 EST   \n",
       "1094                EUR                 Europe                 EST   \n",
       "\n",
       "                    Country    Year  FactValueNumeric  FactValueNumericLow  \\\n",
       "940                Djibouti  2019.0             11.95                 5.90   \n",
       "2148  Micronesia, Fed. Sts.  2011.0             27.52                14.41   \n",
       "2147  Micronesia, Fed. Sts.  2012.0             27.58                13.73   \n",
       "2146  Micronesia, Fed. Sts.  2013.0             27.40                12.73   \n",
       "2145  Micronesia, Fed. Sts.  2014.0             27.41                12.37   \n",
       "...                     ...     ...               ...                  ...   \n",
       "1093                Estonia  2006.0             16.82                14.06   \n",
       "1096                Estonia  2003.0             22.32                18.90   \n",
       "2694                 Russia  2005.0             43.56                41.06   \n",
       "1095                Estonia  2004.0             23.15                19.58   \n",
       "1094                Estonia  2005.0             19.05                16.05   \n",
       "\n",
       "      FactValueNumericHigh                  Value    HDI    GDI  \\\n",
       "940                  21.36    11.95 [5.9 – 21.36]  0.524  0.000   \n",
       "2148                 42.35  27.52 [14.41 – 42.35]  0.604  0.000   \n",
       "2147                 42.87  27.58 [13.73 – 42.87]  0.604  0.000   \n",
       "2146                 43.01   27.4 [12.73 – 43.01]  0.605  0.000   \n",
       "2145                 43.35  27.41 [12.37 – 43.35]  0.605  0.000   \n",
       "...                    ...                    ...    ...    ...   \n",
       "1093                 19.93  16.82 [14.06 – 19.93]  0.840  1.037   \n",
       "1096                 26.22   22.32 [18.9 – 26.22]  0.812  1.037   \n",
       "2694                 45.40   43.56 [41.06 – 45.4]  0.754  1.038   \n",
       "1095                 27.16  23.15 [19.58 – 27.16]  0.821  1.038   \n",
       "1094                 22.43  19.05 [16.05 – 22.43]  0.832  1.039   \n",
       "\n",
       "      Life Expectancy  \n",
       "940              67.1  \n",
       "2148             66.6  \n",
       "2147             66.8  \n",
       "2146             67.0  \n",
       "2145             67.2  \n",
       "...               ...  \n",
       "1093             73.1  \n",
       "1096             71.7  \n",
       "2694             65.8  \n",
       "1095             72.2  \n",
       "1094             72.6  \n",
       "\n",
       "[3660 rows x 12 columns]"
      ]
     },
     "execution_count": 36,
     "metadata": {},
     "output_type": "execute_result"
    }
   ],
   "source": [
    "all_values['FactValueNumeric'] = all_values['FactValueNumeric'].fillna(all_values.groupby('Country')['FactValueNumeric'].transform('mean'))\n",
    "all_values['GDI'] = all_values['GDI'].fillna(all_values.groupby('Country')['GDI'].transform('mean'))\n",
    "all_values['HDI'] = all_values['HDI'].fillna(all_values.groupby('Country')['HDI'].transform('mean'))\n",
    "all_values = all_values.fillna(0)\n",
    "all_values.sort_values('GDI')"
   ]
  },
  {
   "cell_type": "code",
   "execution_count": 51,
   "metadata": {},
   "outputs": [
    {
     "data": {
      "text/html": [
       "<div>\n",
       "<style scoped>\n",
       "    .dataframe tbody tr th:only-of-type {\n",
       "        vertical-align: middle;\n",
       "    }\n",
       "\n",
       "    .dataframe tbody tr th {\n",
       "        vertical-align: top;\n",
       "    }\n",
       "\n",
       "    .dataframe thead th {\n",
       "        text-align: right;\n",
       "    }\n",
       "</style>\n",
       "<table border=\"1\" class=\"dataframe\">\n",
       "  <thead>\n",
       "    <tr style=\"text-align: right;\">\n",
       "      <th></th>\n",
       "      <th>ParentLocation</th>\n",
       "      <th>Year</th>\n",
       "      <th>HDI</th>\n",
       "      <th>GDI</th>\n",
       "      <th>SuicideRates</th>\n",
       "    </tr>\n",
       "  </thead>\n",
       "  <tbody>\n",
       "    <tr>\n",
       "      <th>0</th>\n",
       "      <td>Africa</td>\n",
       "      <td>2000.0</td>\n",
       "      <td>0.423480</td>\n",
       "      <td>0.776869</td>\n",
       "      <td>17.838511</td>\n",
       "    </tr>\n",
       "    <tr>\n",
       "      <th>1</th>\n",
       "      <td>Africa</td>\n",
       "      <td>2001.0</td>\n",
       "      <td>0.427842</td>\n",
       "      <td>0.778805</td>\n",
       "      <td>17.347872</td>\n",
       "    </tr>\n",
       "    <tr>\n",
       "      <th>2</th>\n",
       "      <td>Africa</td>\n",
       "      <td>2002.0</td>\n",
       "      <td>0.431799</td>\n",
       "      <td>0.780720</td>\n",
       "      <td>17.164255</td>\n",
       "    </tr>\n",
       "    <tr>\n",
       "      <th>3</th>\n",
       "      <td>Africa</td>\n",
       "      <td>2003.0</td>\n",
       "      <td>0.434669</td>\n",
       "      <td>0.782699</td>\n",
       "      <td>16.953617</td>\n",
       "    </tr>\n",
       "    <tr>\n",
       "      <th>4</th>\n",
       "      <td>Africa</td>\n",
       "      <td>2004.0</td>\n",
       "      <td>0.441477</td>\n",
       "      <td>0.784613</td>\n",
       "      <td>16.838298</td>\n",
       "    </tr>\n",
       "    <tr>\n",
       "      <th>...</th>\n",
       "      <td>...</td>\n",
       "      <td>...</td>\n",
       "      <td>...</td>\n",
       "      <td>...</td>\n",
       "      <td>...</td>\n",
       "    </tr>\n",
       "    <tr>\n",
       "      <th>115</th>\n",
       "      <td>Western Pacific</td>\n",
       "      <td>2015.0</td>\n",
       "      <td>0.732333</td>\n",
       "      <td>0.731238</td>\n",
       "      <td>12.164286</td>\n",
       "    </tr>\n",
       "    <tr>\n",
       "      <th>116</th>\n",
       "      <td>Western Pacific</td>\n",
       "      <td>2016.0</td>\n",
       "      <td>0.734667</td>\n",
       "      <td>0.731667</td>\n",
       "      <td>12.027619</td>\n",
       "    </tr>\n",
       "    <tr>\n",
       "      <th>117</th>\n",
       "      <td>Western Pacific</td>\n",
       "      <td>2017.0</td>\n",
       "      <td>0.736762</td>\n",
       "      <td>0.731476</td>\n",
       "      <td>12.039048</td>\n",
       "    </tr>\n",
       "    <tr>\n",
       "      <th>118</th>\n",
       "      <td>Western Pacific</td>\n",
       "      <td>2018.0</td>\n",
       "      <td>0.738524</td>\n",
       "      <td>0.732429</td>\n",
       "      <td>11.948095</td>\n",
       "    </tr>\n",
       "    <tr>\n",
       "      <th>119</th>\n",
       "      <td>Western Pacific</td>\n",
       "      <td>2019.0</td>\n",
       "      <td>0.742238</td>\n",
       "      <td>0.732905</td>\n",
       "      <td>11.845714</td>\n",
       "    </tr>\n",
       "  </tbody>\n",
       "</table>\n",
       "<p>120 rows × 5 columns</p>\n",
       "</div>"
      ],
      "text/plain": [
       "      ParentLocation    Year       HDI       GDI  SuicideRates\n",
       "0             Africa  2000.0  0.423480  0.776869     17.838511\n",
       "1             Africa  2001.0  0.427842  0.778805     17.347872\n",
       "2             Africa  2002.0  0.431799  0.780720     17.164255\n",
       "3             Africa  2003.0  0.434669  0.782699     16.953617\n",
       "4             Africa  2004.0  0.441477  0.784613     16.838298\n",
       "..               ...     ...       ...       ...           ...\n",
       "115  Western Pacific  2015.0  0.732333  0.731238     12.164286\n",
       "116  Western Pacific  2016.0  0.734667  0.731667     12.027619\n",
       "117  Western Pacific  2017.0  0.736762  0.731476     12.039048\n",
       "118  Western Pacific  2018.0  0.738524  0.732429     11.948095\n",
       "119  Western Pacific  2019.0  0.742238  0.732905     11.845714\n",
       "\n",
       "[120 rows x 5 columns]"
      ]
     },
     "execution_count": 51,
     "metadata": {},
     "output_type": "execute_result"
    }
   ],
   "source": [
    "continent_group = all_values.groupby(['ParentLocation', 'Year'], as_index=False)\n",
    "continent_values = continent_group['HDI'].mean()\n",
    "continent_values['GDI'] = continent_group['GDI'].mean()['GDI']\n",
    "continent_values['SuicideRates'] = continent_group['FactValueNumeric'].mean()['FactValueNumeric']\n",
    "continent_values"
   ]
  },
  {
   "cell_type": "code",
   "execution_count": 50,
   "metadata": {},
   "outputs": [
    {
     "data": {
      "application/vnd.plotly.v1+json": {
       "config": {
        "plotlyServerURL": "https://plot.ly"
       },
       "data": [
        {
         "hovertemplate": "ParentLocation=%{text}<br>Year=2000.0<br>SuicideRates=%{x}<br>HDI=%{marker.size}<extra></extra>",
         "ids": [
          "Africa"
         ],
         "legendgroup": "Africa",
         "marker": {
          "color": "#636efa",
          "size": [
           0.42347980809345015
          ],
          "sizemode": "area",
          "sizeref": 0.0020994,
          "symbol": "circle"
         },
         "mode": "markers+text",
         "name": "Africa",
         "orientation": "v",
         "showlegend": true,
         "text": [
          "Africa"
         ],
         "type": "scatter",
         "x": [
          17.838510638297873
         ],
         "xaxis": "x",
         "y": [
          0.42347980809345015
         ],
         "yaxis": "y"
        },
        {
         "hovertemplate": "ParentLocation=%{text}<br>Year=2000.0<br>SuicideRates=%{x}<br>HDI=%{marker.size}<extra></extra>",
         "ids": [
          "Americas"
         ],
         "legendgroup": "Americas",
         "marker": {
          "color": "#EF553B",
          "size": [
           0.690276936026936
          ],
          "sizemode": "area",
          "sizeref": 0.0020994,
          "symbol": "circle"
         },
         "mode": "markers+text",
         "name": "Americas",
         "orientation": "v",
         "showlegend": true,
         "text": [
          "Americas"
         ],
         "type": "scatter",
         "x": [
          8.65030303030303
         ],
         "xaxis": "x",
         "y": [
          0.690276936026936
         ],
         "yaxis": "y"
        },
        {
         "hovertemplate": "ParentLocation=%{text}<br>Year=2000.0<br>SuicideRates=%{x}<br>HDI=%{marker.size}<extra></extra>",
         "ids": [
          "Eastern Mediterranean"
         ],
         "legendgroup": "Eastern Mediterranean",
         "marker": {
          "color": "#00cc96",
          "size": [
           0.6122641723356009
          ],
          "sizemode": "area",
          "sizeref": 0.0020994,
          "symbol": "circle"
         },
         "mode": "markers+text",
         "name": "Eastern Mediterranean",
         "orientation": "v",
         "showlegend": true,
         "text": [
          "Eastern Mediterranean"
         ],
         "type": "scatter",
         "x": [
          6.833333333333333
         ],
         "xaxis": "x",
         "y": [
          0.6122641723356009
         ],
         "yaxis": "y"
        },
        {
         "hovertemplate": "ParentLocation=%{text}<br>Year=2000.0<br>SuicideRates=%{x}<br>HDI=%{marker.size}<extra></extra>",
         "ids": [
          "Europe"
         ],
         "legendgroup": "Europe",
         "marker": {
          "color": "#ab63fa",
          "size": [
           0.7543908571428571
          ],
          "sizemode": "area",
          "sizeref": 0.0020994,
          "symbol": "circle"
         },
         "mode": "markers+text",
         "name": "Europe",
         "orientation": "v",
         "showlegend": true,
         "text": [
          "Europe"
         ],
         "type": "scatter",
         "x": [
          15.251
         ],
         "xaxis": "x",
         "y": [
          0.7543908571428571
         ],
         "yaxis": "y"
        },
        {
         "hovertemplate": "ParentLocation=%{text}<br>Year=2000.0<br>SuicideRates=%{x}<br>HDI=%{marker.size}<extra></extra>",
         "ids": [
          "South-East Asia"
         ],
         "legendgroup": "South-East Asia",
         "marker": {
          "color": "#FFA15A",
          "size": [
           0.5080383838383838
          ],
          "sizemode": "area",
          "sizeref": 0.0020994,
          "symbol": "circle"
         },
         "mode": "markers+text",
         "name": "South-East Asia",
         "orientation": "v",
         "showlegend": true,
         "text": [
          "South-East Asia"
         ],
         "type": "scatter",
         "x": [
          10.196363636363635
         ],
         "xaxis": "x",
         "y": [
          0.5080383838383838
         ],
         "yaxis": "y"
        },
        {
         "hovertemplate": "ParentLocation=%{text}<br>Year=2000.0<br>SuicideRates=%{x}<br>HDI=%{marker.size}<extra></extra>",
         "ids": [
          "Western Pacific"
         ],
         "legendgroup": "Western Pacific",
         "marker": {
          "color": "#19d3f3",
          "size": [
           0.6539111111111111
          ],
          "sizemode": "area",
          "sizeref": 0.0020994,
          "symbol": "circle"
         },
         "mode": "markers+text",
         "name": "Western Pacific",
         "orientation": "v",
         "showlegend": true,
         "text": [
          "Western Pacific"
         ],
         "type": "scatter",
         "x": [
          13.283809523809524
         ],
         "xaxis": "x",
         "y": [
          0.6539111111111111
         ],
         "yaxis": "y"
        }
       ],
       "frames": [
        {
         "data": [
          {
           "hovertemplate": "ParentLocation=%{text}<br>Year=2000.0<br>SuicideRates=%{x}<br>HDI=%{marker.size}<extra></extra>",
           "ids": [
            "Africa"
           ],
           "legendgroup": "Africa",
           "marker": {
            "color": "#636efa",
            "size": [
             0.42347980809345015
            ],
            "sizemode": "area",
            "sizeref": 0.0020994,
            "symbol": "circle"
           },
           "mode": "markers+text",
           "name": "Africa",
           "orientation": "v",
           "showlegend": true,
           "text": [
            "Africa"
           ],
           "type": "scatter",
           "x": [
            17.838510638297873
           ],
           "xaxis": "x",
           "y": [
            0.42347980809345015
           ],
           "yaxis": "y"
          },
          {
           "hovertemplate": "ParentLocation=%{text}<br>Year=2000.0<br>SuicideRates=%{x}<br>HDI=%{marker.size}<extra></extra>",
           "ids": [
            "Americas"
           ],
           "legendgroup": "Americas",
           "marker": {
            "color": "#EF553B",
            "size": [
             0.690276936026936
            ],
            "sizemode": "area",
            "sizeref": 0.0020994,
            "symbol": "circle"
           },
           "mode": "markers+text",
           "name": "Americas",
           "orientation": "v",
           "showlegend": true,
           "text": [
            "Americas"
           ],
           "type": "scatter",
           "x": [
            8.65030303030303
           ],
           "xaxis": "x",
           "y": [
            0.690276936026936
           ],
           "yaxis": "y"
          },
          {
           "hovertemplate": "ParentLocation=%{text}<br>Year=2000.0<br>SuicideRates=%{x}<br>HDI=%{marker.size}<extra></extra>",
           "ids": [
            "Eastern Mediterranean"
           ],
           "legendgroup": "Eastern Mediterranean",
           "marker": {
            "color": "#00cc96",
            "size": [
             0.6122641723356009
            ],
            "sizemode": "area",
            "sizeref": 0.0020994,
            "symbol": "circle"
           },
           "mode": "markers+text",
           "name": "Eastern Mediterranean",
           "orientation": "v",
           "showlegend": true,
           "text": [
            "Eastern Mediterranean"
           ],
           "type": "scatter",
           "x": [
            6.833333333333333
           ],
           "xaxis": "x",
           "y": [
            0.6122641723356009
           ],
           "yaxis": "y"
          },
          {
           "hovertemplate": "ParentLocation=%{text}<br>Year=2000.0<br>SuicideRates=%{x}<br>HDI=%{marker.size}<extra></extra>",
           "ids": [
            "Europe"
           ],
           "legendgroup": "Europe",
           "marker": {
            "color": "#ab63fa",
            "size": [
             0.7543908571428571
            ],
            "sizemode": "area",
            "sizeref": 0.0020994,
            "symbol": "circle"
           },
           "mode": "markers+text",
           "name": "Europe",
           "orientation": "v",
           "showlegend": true,
           "text": [
            "Europe"
           ],
           "type": "scatter",
           "x": [
            15.251
           ],
           "xaxis": "x",
           "y": [
            0.7543908571428571
           ],
           "yaxis": "y"
          },
          {
           "hovertemplate": "ParentLocation=%{text}<br>Year=2000.0<br>SuicideRates=%{x}<br>HDI=%{marker.size}<extra></extra>",
           "ids": [
            "South-East Asia"
           ],
           "legendgroup": "South-East Asia",
           "marker": {
            "color": "#FFA15A",
            "size": [
             0.5080383838383838
            ],
            "sizemode": "area",
            "sizeref": 0.0020994,
            "symbol": "circle"
           },
           "mode": "markers+text",
           "name": "South-East Asia",
           "orientation": "v",
           "showlegend": true,
           "text": [
            "South-East Asia"
           ],
           "type": "scatter",
           "x": [
            10.196363636363635
           ],
           "xaxis": "x",
           "y": [
            0.5080383838383838
           ],
           "yaxis": "y"
          },
          {
           "hovertemplate": "ParentLocation=%{text}<br>Year=2000.0<br>SuicideRates=%{x}<br>HDI=%{marker.size}<extra></extra>",
           "ids": [
            "Western Pacific"
           ],
           "legendgroup": "Western Pacific",
           "marker": {
            "color": "#19d3f3",
            "size": [
             0.6539111111111111
            ],
            "sizemode": "area",
            "sizeref": 0.0020994,
            "symbol": "circle"
           },
           "mode": "markers+text",
           "name": "Western Pacific",
           "orientation": "v",
           "showlegend": true,
           "text": [
            "Western Pacific"
           ],
           "type": "scatter",
           "x": [
            13.283809523809524
           ],
           "xaxis": "x",
           "y": [
            0.6539111111111111
           ],
           "yaxis": "y"
          }
         ],
         "name": "2000.0"
        },
        {
         "data": [
          {
           "hovertemplate": "ParentLocation=%{text}<br>Year=2001.0<br>SuicideRates=%{x}<br>HDI=%{marker.size}<extra></extra>",
           "ids": [
            "Africa"
           ],
           "legendgroup": "Africa",
           "marker": {
            "color": "#636efa",
            "size": [
             0.4278415102211097
            ],
            "sizemode": "area",
            "sizeref": 0.0020994,
            "symbol": "circle"
           },
           "mode": "markers+text",
           "name": "Africa",
           "orientation": "v",
           "showlegend": true,
           "text": [
            "Africa"
           ],
           "type": "scatter",
           "x": [
            17.347872340425532
           ],
           "xaxis": "x",
           "y": [
            0.4278415102211097
           ],
           "yaxis": "y"
          },
          {
           "hovertemplate": "ParentLocation=%{text}<br>Year=2001.0<br>SuicideRates=%{x}<br>HDI=%{marker.size}<extra></extra>",
           "ids": [
            "Americas"
           ],
           "legendgroup": "Americas",
           "marker": {
            "color": "#EF553B",
            "size": [
             0.6946708754208755
            ],
            "sizemode": "area",
            "sizeref": 0.0020994,
            "symbol": "circle"
           },
           "mode": "markers+text",
           "name": "Americas",
           "orientation": "v",
           "showlegend": true,
           "text": [
            "Americas"
           ],
           "type": "scatter",
           "x": [
            8.646666666666667
           ],
           "xaxis": "x",
           "y": [
            0.6946708754208755
           ],
           "yaxis": "y"
          },
          {
           "hovertemplate": "ParentLocation=%{text}<br>Year=2001.0<br>SuicideRates=%{x}<br>HDI=%{marker.size}<extra></extra>",
           "ids": [
            "Eastern Mediterranean"
           ],
           "legendgroup": "Eastern Mediterranean",
           "marker": {
            "color": "#00cc96",
            "size": [
             0.6171689342403628
            ],
            "sizemode": "area",
            "sizeref": 0.0020994,
            "symbol": "circle"
           },
           "mode": "markers+text",
           "name": "Eastern Mediterranean",
           "orientation": "v",
           "showlegend": true,
           "text": [
            "Eastern Mediterranean"
           ],
           "type": "scatter",
           "x": [
            6.8409523809523805
           ],
           "xaxis": "x",
           "y": [
            0.6171689342403628
           ],
           "yaxis": "y"
          },
          {
           "hovertemplate": "ParentLocation=%{text}<br>Year=2001.0<br>SuicideRates=%{x}<br>HDI=%{marker.size}<extra></extra>",
           "ids": [
            "Europe"
           ],
           "legendgroup": "Europe",
           "marker": {
            "color": "#ab63fa",
            "size": [
             0.7609508571428572
            ],
            "sizemode": "area",
            "sizeref": 0.0020994,
            "symbol": "circle"
           },
           "mode": "markers+text",
           "name": "Europe",
           "orientation": "v",
           "showlegend": true,
           "text": [
            "Europe"
           ],
           "type": "scatter",
           "x": [
            14.9224
           ],
           "xaxis": "x",
           "y": [
            0.7609508571428572
           ],
           "yaxis": "y"
          },
          {
           "hovertemplate": "ParentLocation=%{text}<br>Year=2001.0<br>SuicideRates=%{x}<br>HDI=%{marker.size}<extra></extra>",
           "ids": [
            "South-East Asia"
           ],
           "legendgroup": "South-East Asia",
           "marker": {
            "color": "#FFA15A",
            "size": [
             0.5124020202020202
            ],
            "sizemode": "area",
            "sizeref": 0.0020994,
            "symbol": "circle"
           },
           "mode": "markers+text",
           "name": "South-East Asia",
           "orientation": "v",
           "showlegend": true,
           "text": [
            "South-East Asia"
           ],
           "type": "scatter",
           "x": [
            9.426363636363636
           ],
           "xaxis": "x",
           "y": [
            0.5124020202020202
           ],
           "yaxis": "y"
          },
          {
           "hovertemplate": "ParentLocation=%{text}<br>Year=2001.0<br>SuicideRates=%{x}<br>HDI=%{marker.size}<extra></extra>",
           "ids": [
            "Western Pacific"
           ],
           "legendgroup": "Western Pacific",
           "marker": {
            "color": "#19d3f3",
            "size": [
             0.6591968253968253
            ],
            "sizemode": "area",
            "sizeref": 0.0020994,
            "symbol": "circle"
           },
           "mode": "markers+text",
           "name": "Western Pacific",
           "orientation": "v",
           "showlegend": true,
           "text": [
            "Western Pacific"
           ],
           "type": "scatter",
           "x": [
            13.047619047619047
           ],
           "xaxis": "x",
           "y": [
            0.6591968253968253
           ],
           "yaxis": "y"
          }
         ],
         "name": "2001.0"
        },
        {
         "data": [
          {
           "hovertemplate": "ParentLocation=%{text}<br>Year=2002.0<br>SuicideRates=%{x}<br>HDI=%{marker.size}<extra></extra>",
           "ids": [
            "Africa"
           ],
           "legendgroup": "Africa",
           "marker": {
            "color": "#636efa",
            "size": [
             0.43179895702962034
            ],
            "sizemode": "area",
            "sizeref": 0.0020994,
            "symbol": "circle"
           },
           "mode": "markers+text",
           "name": "Africa",
           "orientation": "v",
           "showlegend": true,
           "text": [
            "Africa"
           ],
           "type": "scatter",
           "x": [
            17.164255319148936
           ],
           "xaxis": "x",
           "y": [
            0.43179895702962034
           ],
           "yaxis": "y"
          },
          {
           "hovertemplate": "ParentLocation=%{text}<br>Year=2002.0<br>SuicideRates=%{x}<br>HDI=%{marker.size}<extra></extra>",
           "ids": [
            "Americas"
           ],
           "legendgroup": "Americas",
           "marker": {
            "color": "#EF553B",
            "size": [
             0.6973207070707071
            ],
            "sizemode": "area",
            "sizeref": 0.0020994,
            "symbol": "circle"
           },
           "mode": "markers+text",
           "name": "Americas",
           "orientation": "v",
           "showlegend": true,
           "text": [
            "Americas"
           ],
           "type": "scatter",
           "x": [
            8.724545454545455
           ],
           "xaxis": "x",
           "y": [
            0.6973207070707071
           ],
           "yaxis": "y"
          },
          {
           "hovertemplate": "ParentLocation=%{text}<br>Year=2002.0<br>SuicideRates=%{x}<br>HDI=%{marker.size}<extra></extra>",
           "ids": [
            "Eastern Mediterranean"
           ],
           "legendgroup": "Eastern Mediterranean",
           "marker": {
            "color": "#00cc96",
            "size": [
             0.6223117913832199
            ],
            "sizemode": "area",
            "sizeref": 0.0020994,
            "symbol": "circle"
           },
           "mode": "markers+text",
           "name": "Eastern Mediterranean",
           "orientation": "v",
           "showlegend": true,
           "text": [
            "Eastern Mediterranean"
           ],
           "type": "scatter",
           "x": [
            6.776666666666666
           ],
           "xaxis": "x",
           "y": [
            0.6223117913832199
           ],
           "yaxis": "y"
          },
          {
           "hovertemplate": "ParentLocation=%{text}<br>Year=2002.0<br>SuicideRates=%{x}<br>HDI=%{marker.size}<extra></extra>",
           "ids": [
            "Europe"
           ],
           "legendgroup": "Europe",
           "marker": {
            "color": "#ab63fa",
            "size": [
             0.7668508571428572
            ],
            "sizemode": "area",
            "sizeref": 0.0020994,
            "symbol": "circle"
           },
           "mode": "markers+text",
           "name": "Europe",
           "orientation": "v",
           "showlegend": true,
           "text": [
            "Europe"
           ],
           "type": "scatter",
           "x": [
            14.6394
           ],
           "xaxis": "x",
           "y": [
            0.7668508571428572
           ],
           "yaxis": "y"
          },
          {
           "hovertemplate": "ParentLocation=%{text}<br>Year=2002.0<br>SuicideRates=%{x}<br>HDI=%{marker.size}<extra></extra>",
           "ids": [
            "South-East Asia"
           ],
           "legendgroup": "South-East Asia",
           "marker": {
            "color": "#FFA15A",
            "size": [
             0.5099272727272727
            ],
            "sizemode": "area",
            "sizeref": 0.0020994,
            "symbol": "circle"
           },
           "mode": "markers+text",
           "name": "South-East Asia",
           "orientation": "v",
           "showlegend": true,
           "text": [
            "South-East Asia"
           ],
           "type": "scatter",
           "x": [
            9.123636363636363
           ],
           "xaxis": "x",
           "y": [
            0.5099272727272727
           ],
           "yaxis": "y"
          },
          {
           "hovertemplate": "ParentLocation=%{text}<br>Year=2002.0<br>SuicideRates=%{x}<br>HDI=%{marker.size}<extra></extra>",
           "ids": [
            "Western Pacific"
           ],
           "legendgroup": "Western Pacific",
           "marker": {
            "color": "#19d3f3",
            "size": [
             0.6651968253968255
            ],
            "sizemode": "area",
            "sizeref": 0.0020994,
            "symbol": "circle"
           },
           "mode": "markers+text",
           "name": "Western Pacific",
           "orientation": "v",
           "showlegend": true,
           "text": [
            "Western Pacific"
           ],
           "type": "scatter",
           "x": [
            12.935714285714285
           ],
           "xaxis": "x",
           "y": [
            0.6651968253968255
           ],
           "yaxis": "y"
          }
         ],
         "name": "2002.0"
        },
        {
         "data": [
          {
           "hovertemplate": "ParentLocation=%{text}<br>Year=2003.0<br>SuicideRates=%{x}<br>HDI=%{marker.size}<extra></extra>",
           "ids": [
            "Africa"
           ],
           "legendgroup": "Africa",
           "marker": {
            "color": "#636efa",
            "size": [
             0.4346687943262411
            ],
            "sizemode": "area",
            "sizeref": 0.0020994,
            "symbol": "circle"
           },
           "mode": "markers+text",
           "name": "Africa",
           "orientation": "v",
           "showlegend": true,
           "text": [
            "Africa"
           ],
           "type": "scatter",
           "x": [
            16.953617021276596
           ],
           "xaxis": "x",
           "y": [
            0.4346687943262411
           ],
           "yaxis": "y"
          },
          {
           "hovertemplate": "ParentLocation=%{text}<br>Year=2003.0<br>SuicideRates=%{x}<br>HDI=%{marker.size}<extra></extra>",
           "ids": [
            "Americas"
           ],
           "legendgroup": "Americas",
           "marker": {
            "color": "#EF553B",
            "size": [
             0.7000479797979798
            ],
            "sizemode": "area",
            "sizeref": 0.0020994,
            "symbol": "circle"
           },
           "mode": "markers+text",
           "name": "Americas",
           "orientation": "v",
           "showlegend": true,
           "text": [
            "Americas"
           ],
           "type": "scatter",
           "x": [
            8.555151515151515
           ],
           "xaxis": "x",
           "y": [
            0.7000479797979798
           ],
           "yaxis": "y"
          },
          {
           "hovertemplate": "ParentLocation=%{text}<br>Year=2003.0<br>SuicideRates=%{x}<br>HDI=%{marker.size}<extra></extra>",
           "ids": [
            "Eastern Mediterranean"
           ],
           "legendgroup": "Eastern Mediterranean",
           "marker": {
            "color": "#00cc96",
            "size": [
             0.6280736961451248
            ],
            "sizemode": "area",
            "sizeref": 0.0020994,
            "symbol": "circle"
           },
           "mode": "markers+text",
           "name": "Eastern Mediterranean",
           "orientation": "v",
           "showlegend": true,
           "text": [
            "Eastern Mediterranean"
           ],
           "type": "scatter",
           "x": [
            6.708571428571428
           ],
           "xaxis": "x",
           "y": [
            0.6280736961451248
           ],
           "yaxis": "y"
          },
          {
           "hovertemplate": "ParentLocation=%{text}<br>Year=2003.0<br>SuicideRates=%{x}<br>HDI=%{marker.size}<extra></extra>",
           "ids": [
            "Europe"
           ],
           "legendgroup": "Europe",
           "marker": {
            "color": "#ab63fa",
            "size": [
             0.7732908571428571
            ],
            "sizemode": "area",
            "sizeref": 0.0020994,
            "symbol": "circle"
           },
           "mode": "markers+text",
           "name": "Europe",
           "orientation": "v",
           "showlegend": true,
           "text": [
            "Europe"
           ],
           "type": "scatter",
           "x": [
            14.17
           ],
           "xaxis": "x",
           "y": [
            0.7732908571428571
           ],
           "yaxis": "y"
          },
          {
           "hovertemplate": "ParentLocation=%{text}<br>Year=2003.0<br>SuicideRates=%{x}<br>HDI=%{marker.size}<extra></extra>",
           "ids": [
            "South-East Asia"
           ],
           "legendgroup": "South-East Asia",
           "marker": {
            "color": "#FFA15A",
            "size": [
             0.5163818181818182
            ],
            "sizemode": "area",
            "sizeref": 0.0020994,
            "symbol": "circle"
           },
           "mode": "markers+text",
           "name": "South-East Asia",
           "orientation": "v",
           "showlegend": true,
           "text": [
            "South-East Asia"
           ],
           "type": "scatter",
           "x": [
            8.876363636363637
           ],
           "xaxis": "x",
           "y": [
            0.5163818181818182
           ],
           "yaxis": "y"
          },
          {
           "hovertemplate": "ParentLocation=%{text}<br>Year=2003.0<br>SuicideRates=%{x}<br>HDI=%{marker.size}<extra></extra>",
           "ids": [
            "Western Pacific"
           ],
           "legendgroup": "Western Pacific",
           "marker": {
            "color": "#19d3f3",
            "size": [
             0.6714825396825397
            ],
            "sizemode": "area",
            "sizeref": 0.0020994,
            "symbol": "circle"
           },
           "mode": "markers+text",
           "name": "Western Pacific",
           "orientation": "v",
           "showlegend": true,
           "text": [
            "Western Pacific"
           ],
           "type": "scatter",
           "x": [
            13.165238095238093
           ],
           "xaxis": "x",
           "y": [
            0.6714825396825397
           ],
           "yaxis": "y"
          }
         ],
         "name": "2003.0"
        },
        {
         "data": [
          {
           "hovertemplate": "ParentLocation=%{text}<br>Year=2004.0<br>SuicideRates=%{x}<br>HDI=%{marker.size}<extra></extra>",
           "ids": [
            "Africa"
           ],
           "legendgroup": "Africa",
           "marker": {
            "color": "#636efa",
            "size": [
             0.44147730496453896
            ],
            "sizemode": "area",
            "sizeref": 0.0020994,
            "symbol": "circle"
           },
           "mode": "markers+text",
           "name": "Africa",
           "orientation": "v",
           "showlegend": true,
           "text": [
            "Africa"
           ],
           "type": "scatter",
           "x": [
            16.838297872340426
           ],
           "xaxis": "x",
           "y": [
            0.44147730496453896
           ],
           "yaxis": "y"
          },
          {
           "hovertemplate": "ParentLocation=%{text}<br>Year=2004.0<br>SuicideRates=%{x}<br>HDI=%{marker.size}<extra></extra>",
           "ids": [
            "Americas"
           ],
           "legendgroup": "Americas",
           "marker": {
            "color": "#EF553B",
            "size": [
             0.7045252525252526
            ],
            "sizemode": "area",
            "sizeref": 0.0020994,
            "symbol": "circle"
           },
           "mode": "markers+text",
           "name": "Americas",
           "orientation": "v",
           "showlegend": true,
           "text": [
            "Americas"
           ],
           "type": "scatter",
           "x": [
            8.557272727272727
           ],
           "xaxis": "x",
           "y": [
            0.7045252525252526
           ],
           "yaxis": "y"
          },
          {
           "hovertemplate": "ParentLocation=%{text}<br>Year=2004.0<br>SuicideRates=%{x}<br>HDI=%{marker.size}<extra></extra>",
           "ids": [
            "Eastern Mediterranean"
           ],
           "legendgroup": "Eastern Mediterranean",
           "marker": {
            "color": "#00cc96",
            "size": [
             0.6348356009070295
            ],
            "sizemode": "area",
            "sizeref": 0.0020994,
            "symbol": "circle"
           },
           "mode": "markers+text",
           "name": "Eastern Mediterranean",
           "orientation": "v",
           "showlegend": true,
           "text": [
            "Eastern Mediterranean"
           ],
           "type": "scatter",
           "x": [
            6.614285714285715
           ],
           "xaxis": "x",
           "y": [
            0.6348356009070295
           ],
           "yaxis": "y"
          },
          {
           "hovertemplate": "ParentLocation=%{text}<br>Year=2004.0<br>SuicideRates=%{x}<br>HDI=%{marker.size}<extra></extra>",
           "ids": [
            "Europe"
           ],
           "legendgroup": "Europe",
           "marker": {
            "color": "#ab63fa",
            "size": [
             0.7795308571428572
            ],
            "sizemode": "area",
            "sizeref": 0.0020994,
            "symbol": "circle"
           },
           "mode": "markers+text",
           "name": "Europe",
           "orientation": "v",
           "showlegend": true,
           "text": [
            "Europe"
           ],
           "type": "scatter",
           "x": [
            13.8308
           ],
           "xaxis": "x",
           "y": [
            0.7795308571428572
           ],
           "yaxis": "y"
          },
          {
           "hovertemplate": "ParentLocation=%{text}<br>Year=2004.0<br>SuicideRates=%{x}<br>HDI=%{marker.size}<extra></extra>",
           "ids": [
            "South-East Asia"
           ],
           "legendgroup": "South-East Asia",
           "marker": {
            "color": "#FFA15A",
            "size": [
             0.5230181818181818
            ],
            "sizemode": "area",
            "sizeref": 0.0020994,
            "symbol": "circle"
           },
           "mode": "markers+text",
           "name": "South-East Asia",
           "orientation": "v",
           "showlegend": true,
           "text": [
            "South-East Asia"
           ],
           "type": "scatter",
           "x": [
            8.712727272727273
           ],
           "xaxis": "x",
           "y": [
            0.5230181818181818
           ],
           "yaxis": "y"
          },
          {
           "hovertemplate": "ParentLocation=%{text}<br>Year=2004.0<br>SuicideRates=%{x}<br>HDI=%{marker.size}<extra></extra>",
           "ids": [
            "Western Pacific"
           ],
           "legendgroup": "Western Pacific",
           "marker": {
            "color": "#19d3f3",
            "size": [
             0.6771968253968254
            ],
            "sizemode": "area",
            "sizeref": 0.0020994,
            "symbol": "circle"
           },
           "mode": "markers+text",
           "name": "Western Pacific",
           "orientation": "v",
           "showlegend": true,
           "text": [
            "Western Pacific"
           ],
           "type": "scatter",
           "x": [
            12.980476190476189
           ],
           "xaxis": "x",
           "y": [
            0.6771968253968254
           ],
           "yaxis": "y"
          }
         ],
         "name": "2004.0"
        },
        {
         "data": [
          {
           "hovertemplate": "ParentLocation=%{text}<br>Year=2005.0<br>SuicideRates=%{x}<br>HDI=%{marker.size}<extra></extra>",
           "ids": [
            "Africa"
           ],
           "legendgroup": "Africa",
           "marker": {
            "color": "#636efa",
            "size": [
             0.44668297872340423
            ],
            "sizemode": "area",
            "sizeref": 0.0020994,
            "symbol": "circle"
           },
           "mode": "markers+text",
           "name": "Africa",
           "orientation": "v",
           "showlegend": true,
           "text": [
            "Africa"
           ],
           "type": "scatter",
           "x": [
            16.816170212765957
           ],
           "xaxis": "x",
           "y": [
            0.44668297872340423
           ],
           "yaxis": "y"
          },
          {
           "hovertemplate": "ParentLocation=%{text}<br>Year=2005.0<br>SuicideRates=%{x}<br>HDI=%{marker.size}<extra></extra>",
           "ids": [
            "Americas"
           ],
           "legendgroup": "Americas",
           "marker": {
            "color": "#EF553B",
            "size": [
             0.7087272727272728
            ],
            "sizemode": "area",
            "sizeref": 0.0020994,
            "symbol": "circle"
           },
           "mode": "markers+text",
           "name": "Americas",
           "orientation": "v",
           "showlegend": true,
           "text": [
            "Americas"
           ],
           "type": "scatter",
           "x": [
            8.444848484848485
           ],
           "xaxis": "x",
           "y": [
            0.7087272727272728
           ],
           "yaxis": "y"
          },
          {
           "hovertemplate": "ParentLocation=%{text}<br>Year=2005.0<br>SuicideRates=%{x}<br>HDI=%{marker.size}<extra></extra>",
           "ids": [
            "Eastern Mediterranean"
           ],
           "legendgroup": "Eastern Mediterranean",
           "marker": {
            "color": "#00cc96",
            "size": [
             0.6398673469387754
            ],
            "sizemode": "area",
            "sizeref": 0.0020994,
            "symbol": "circle"
           },
           "mode": "markers+text",
           "name": "Eastern Mediterranean",
           "orientation": "v",
           "showlegend": true,
           "text": [
            "Eastern Mediterranean"
           ],
           "type": "scatter",
           "x": [
            6.507142857142857
           ],
           "xaxis": "x",
           "y": [
            0.6398673469387754
           ],
           "yaxis": "y"
          },
          {
           "hovertemplate": "ParentLocation=%{text}<br>Year=2005.0<br>SuicideRates=%{x}<br>HDI=%{marker.size}<extra></extra>",
           "ids": [
            "Europe"
           ],
           "legendgroup": "Europe",
           "marker": {
            "color": "#ab63fa",
            "size": [
             0.7858108571428573
            ],
            "sizemode": "area",
            "sizeref": 0.0020994,
            "symbol": "circle"
           },
           "mode": "markers+text",
           "name": "Europe",
           "orientation": "v",
           "showlegend": true,
           "text": [
            "Europe"
           ],
           "type": "scatter",
           "x": [
            13.648800000000001
           ],
           "xaxis": "x",
           "y": [
            0.7858108571428573
           ],
           "yaxis": "y"
          },
          {
           "hovertemplate": "ParentLocation=%{text}<br>Year=2005.0<br>SuicideRates=%{x}<br>HDI=%{marker.size}<extra></extra>",
           "ids": [
            "South-East Asia"
           ],
           "legendgroup": "South-East Asia",
           "marker": {
            "color": "#FFA15A",
            "size": [
             0.5225454545454545
            ],
            "sizemode": "area",
            "sizeref": 0.0020994,
            "symbol": "circle"
           },
           "mode": "markers+text",
           "name": "South-East Asia",
           "orientation": "v",
           "showlegend": true,
           "text": [
            "South-East Asia"
           ],
           "type": "scatter",
           "x": [
            9.15
           ],
           "xaxis": "x",
           "y": [
            0.5225454545454545
           ],
           "yaxis": "y"
          },
          {
           "hovertemplate": "ParentLocation=%{text}<br>Year=2005.0<br>SuicideRates=%{x}<br>HDI=%{marker.size}<extra></extra>",
           "ids": [
            "Western Pacific"
           ],
           "legendgroup": "Western Pacific",
           "marker": {
            "color": "#19d3f3",
            "size": [
             0.6823333333333333
            ],
            "sizemode": "area",
            "sizeref": 0.0020994,
            "symbol": "circle"
           },
           "mode": "markers+text",
           "name": "Western Pacific",
           "orientation": "v",
           "showlegend": true,
           "text": [
            "Western Pacific"
           ],
           "type": "scatter",
           "x": [
            13.10904761904762
           ],
           "xaxis": "x",
           "y": [
            0.6823333333333333
           ],
           "yaxis": "y"
          }
         ],
         "name": "2005.0"
        },
        {
         "data": [
          {
           "hovertemplate": "ParentLocation=%{text}<br>Year=2006.0<br>SuicideRates=%{x}<br>HDI=%{marker.size}<extra></extra>",
           "ids": [
            "Africa"
           ],
           "legendgroup": "Africa",
           "marker": {
            "color": "#636efa",
            "size": [
             0.45438510638297874
            ],
            "sizemode": "area",
            "sizeref": 0.0020994,
            "symbol": "circle"
           },
           "mode": "markers+text",
           "name": "Africa",
           "orientation": "v",
           "showlegend": true,
           "text": [
            "Africa"
           ],
           "type": "scatter",
           "x": [
            17.066382978723404
           ],
           "xaxis": "x",
           "y": [
            0.45438510638297874
           ],
           "yaxis": "y"
          },
          {
           "hovertemplate": "ParentLocation=%{text}<br>Year=2006.0<br>SuicideRates=%{x}<br>HDI=%{marker.size}<extra></extra>",
           "ids": [
            "Americas"
           ],
           "legendgroup": "Americas",
           "marker": {
            "color": "#EF553B",
            "size": [
             0.7152727272727273
            ],
            "sizemode": "area",
            "sizeref": 0.0020994,
            "symbol": "circle"
           },
           "mode": "markers+text",
           "name": "Americas",
           "orientation": "v",
           "showlegend": true,
           "text": [
            "Americas"
           ],
           "type": "scatter",
           "x": [
            8.253333333333334
           ],
           "xaxis": "x",
           "y": [
            0.7152727272727273
           ],
           "yaxis": "y"
          },
          {
           "hovertemplate": "ParentLocation=%{text}<br>Year=2006.0<br>SuicideRates=%{x}<br>HDI=%{marker.size}<extra></extra>",
           "ids": [
            "Eastern Mediterranean"
           ],
           "legendgroup": "Eastern Mediterranean",
           "marker": {
            "color": "#00cc96",
            "size": [
             0.6481428571428571
            ],
            "sizemode": "area",
            "sizeref": 0.0020994,
            "symbol": "circle"
           },
           "mode": "markers+text",
           "name": "Eastern Mediterranean",
           "orientation": "v",
           "showlegend": true,
           "text": [
            "Eastern Mediterranean"
           ],
           "type": "scatter",
           "x": [
            6.347619047619048
           ],
           "xaxis": "x",
           "y": [
            0.6481428571428571
           ],
           "yaxis": "y"
          },
          {
           "hovertemplate": "ParentLocation=%{text}<br>Year=2006.0<br>SuicideRates=%{x}<br>HDI=%{marker.size}<extra></extra>",
           "ids": [
            "Europe"
           ],
           "legendgroup": "Europe",
           "marker": {
            "color": "#ab63fa",
            "size": [
             0.7912279999999999
            ],
            "sizemode": "area",
            "sizeref": 0.0020994,
            "symbol": "circle"
           },
           "mode": "markers+text",
           "name": "Europe",
           "orientation": "v",
           "showlegend": true,
           "text": [
            "Europe"
           ],
           "type": "scatter",
           "x": [
            13.167200000000001
           ],
           "xaxis": "x",
           "y": [
            0.7912279999999999
           ],
           "yaxis": "y"
          },
          {
           "hovertemplate": "ParentLocation=%{text}<br>Year=2006.0<br>SuicideRates=%{x}<br>HDI=%{marker.size}<extra></extra>",
           "ids": [
            "South-East Asia"
           ],
           "legendgroup": "South-East Asia",
           "marker": {
            "color": "#FFA15A",
            "size": [
             0.5316363636363636
            ],
            "sizemode": "area",
            "sizeref": 0.0020994,
            "symbol": "circle"
           },
           "mode": "markers+text",
           "name": "South-East Asia",
           "orientation": "v",
           "showlegend": true,
           "text": [
            "South-East Asia"
           ],
           "type": "scatter",
           "x": [
            8.116363636363637
           ],
           "xaxis": "x",
           "y": [
            0.5316363636363636
           ],
           "yaxis": "y"
          },
          {
           "hovertemplate": "ParentLocation=%{text}<br>Year=2006.0<br>SuicideRates=%{x}<br>HDI=%{marker.size}<extra></extra>",
           "ids": [
            "Western Pacific"
           ],
           "legendgroup": "Western Pacific",
           "marker": {
            "color": "#19d3f3",
            "size": [
             0.6874761904761905
            ],
            "sizemode": "area",
            "sizeref": 0.0020994,
            "symbol": "circle"
           },
           "mode": "markers+text",
           "name": "Western Pacific",
           "orientation": "v",
           "showlegend": true,
           "text": [
            "Western Pacific"
           ],
           "type": "scatter",
           "x": [
            12.82095238095238
           ],
           "xaxis": "x",
           "y": [
            0.6874761904761905
           ],
           "yaxis": "y"
          }
         ],
         "name": "2006.0"
        },
        {
         "data": [
          {
           "hovertemplate": "ParentLocation=%{text}<br>Year=2007.0<br>SuicideRates=%{x}<br>HDI=%{marker.size}<extra></extra>",
           "ids": [
            "Africa"
           ],
           "legendgroup": "Africa",
           "marker": {
            "color": "#636efa",
            "size": [
             0.4619170212765958
            ],
            "sizemode": "area",
            "sizeref": 0.0020994,
            "symbol": "circle"
           },
           "mode": "markers+text",
           "name": "Africa",
           "orientation": "v",
           "showlegend": true,
           "text": [
            "Africa"
           ],
           "type": "scatter",
           "x": [
            17.212340425531917
           ],
           "xaxis": "x",
           "y": [
            0.4619170212765958
           ],
           "yaxis": "y"
          },
          {
           "hovertemplate": "ParentLocation=%{text}<br>Year=2007.0<br>SuicideRates=%{x}<br>HDI=%{marker.size}<extra></extra>",
           "ids": [
            "Americas"
           ],
           "legendgroup": "Americas",
           "marker": {
            "color": "#EF553B",
            "size": [
             0.7212424242424242
            ],
            "sizemode": "area",
            "sizeref": 0.0020994,
            "symbol": "circle"
           },
           "mode": "markers+text",
           "name": "Americas",
           "orientation": "v",
           "showlegend": true,
           "text": [
            "Americas"
           ],
           "type": "scatter",
           "x": [
            8.104242424242424
           ],
           "xaxis": "x",
           "y": [
            0.7212424242424242
           ],
           "yaxis": "y"
          },
          {
           "hovertemplate": "ParentLocation=%{text}<br>Year=2007.0<br>SuicideRates=%{x}<br>HDI=%{marker.size}<extra></extra>",
           "ids": [
            "Eastern Mediterranean"
           ],
           "legendgroup": "Eastern Mediterranean",
           "marker": {
            "color": "#00cc96",
            "size": [
             0.6538095238095238
            ],
            "sizemode": "area",
            "sizeref": 0.0020994,
            "symbol": "circle"
           },
           "mode": "markers+text",
           "name": "Eastern Mediterranean",
           "orientation": "v",
           "showlegend": true,
           "text": [
            "Eastern Mediterranean"
           ],
           "type": "scatter",
           "x": [
            6.430952380952381
           ],
           "xaxis": "x",
           "y": [
            0.6538095238095238
           ],
           "yaxis": "y"
          },
          {
           "hovertemplate": "ParentLocation=%{text}<br>Year=2007.0<br>SuicideRates=%{x}<br>HDI=%{marker.size}<extra></extra>",
           "ids": [
            "Europe"
           ],
           "legendgroup": "Europe",
           "marker": {
            "color": "#ab63fa",
            "size": [
             0.7975279999999999
            ],
            "sizemode": "area",
            "sizeref": 0.0020994,
            "symbol": "circle"
           },
           "mode": "markers+text",
           "name": "Europe",
           "orientation": "v",
           "showlegend": true,
           "text": [
            "Europe"
           ],
           "type": "scatter",
           "x": [
            12.523599999999998
           ],
           "xaxis": "x",
           "y": [
            0.7975279999999999
           ],
           "yaxis": "y"
          },
          {
           "hovertemplate": "ParentLocation=%{text}<br>Year=2007.0<br>SuicideRates=%{x}<br>HDI=%{marker.size}<extra></extra>",
           "ids": [
            "South-East Asia"
           ],
           "legendgroup": "South-East Asia",
           "marker": {
            "color": "#FFA15A",
            "size": [
             0.5405454545454546
            ],
            "sizemode": "area",
            "sizeref": 0.0020994,
            "symbol": "circle"
           },
           "mode": "markers+text",
           "name": "South-East Asia",
           "orientation": "v",
           "showlegend": true,
           "text": [
            "South-East Asia"
           ],
           "type": "scatter",
           "x": [
            8.108181818181817
           ],
           "xaxis": "x",
           "y": [
            0.5405454545454546
           ],
           "yaxis": "y"
          },
          {
           "hovertemplate": "ParentLocation=%{text}<br>Year=2007.0<br>SuicideRates=%{x}<br>HDI=%{marker.size}<extra></extra>",
           "ids": [
            "Western Pacific"
           ],
           "legendgroup": "Western Pacific",
           "marker": {
            "color": "#19d3f3",
            "size": [
             0.6942857142857143
            ],
            "sizemode": "area",
            "sizeref": 0.0020994,
            "symbol": "circle"
           },
           "mode": "markers+text",
           "name": "Western Pacific",
           "orientation": "v",
           "showlegend": true,
           "text": [
            "Western Pacific"
           ],
           "type": "scatter",
           "x": [
            12.938571428571427
           ],
           "xaxis": "x",
           "y": [
            0.6942857142857143
           ],
           "yaxis": "y"
          }
         ],
         "name": "2007.0"
        },
        {
         "data": [
          {
           "hovertemplate": "ParentLocation=%{text}<br>Year=2008.0<br>SuicideRates=%{x}<br>HDI=%{marker.size}<extra></extra>",
           "ids": [
            "Africa"
           ],
           "legendgroup": "Africa",
           "marker": {
            "color": "#636efa",
            "size": [
             0.4698531914893617
            ],
            "sizemode": "area",
            "sizeref": 0.0020994,
            "symbol": "circle"
           },
           "mode": "markers+text",
           "name": "Africa",
           "orientation": "v",
           "showlegend": true,
           "text": [
            "Africa"
           ],
           "type": "scatter",
           "x": [
            17.46212765957447
           ],
           "xaxis": "x",
           "y": [
            0.4698531914893617
           ],
           "yaxis": "y"
          },
          {
           "hovertemplate": "ParentLocation=%{text}<br>Year=2008.0<br>SuicideRates=%{x}<br>HDI=%{marker.size}<extra></extra>",
           "ids": [
            "Americas"
           ],
           "legendgroup": "Americas",
           "marker": {
            "color": "#EF553B",
            "size": [
             0.7268484848484849
            ],
            "sizemode": "area",
            "sizeref": 0.0020994,
            "symbol": "circle"
           },
           "mode": "markers+text",
           "name": "Americas",
           "orientation": "v",
           "showlegend": true,
           "text": [
            "Americas"
           ],
           "type": "scatter",
           "x": [
            7.958787878787878
           ],
           "xaxis": "x",
           "y": [
            0.7268484848484849
           ],
           "yaxis": "y"
          },
          {
           "hovertemplate": "ParentLocation=%{text}<br>Year=2008.0<br>SuicideRates=%{x}<br>HDI=%{marker.size}<extra></extra>",
           "ids": [
            "Eastern Mediterranean"
           ],
           "legendgroup": "Eastern Mediterranean",
           "marker": {
            "color": "#00cc96",
            "size": [
             0.6582857142857143
            ],
            "sizemode": "area",
            "sizeref": 0.0020994,
            "symbol": "circle"
           },
           "mode": "markers+text",
           "name": "Eastern Mediterranean",
           "orientation": "v",
           "showlegend": true,
           "text": [
            "Eastern Mediterranean"
           ],
           "type": "scatter",
           "x": [
            6.3723809523809525
           ],
           "xaxis": "x",
           "y": [
            0.6582857142857143
           ],
           "yaxis": "y"
          },
          {
           "hovertemplate": "ParentLocation=%{text}<br>Year=2008.0<br>SuicideRates=%{x}<br>HDI=%{marker.size}<extra></extra>",
           "ids": [
            "Europe"
           ],
           "legendgroup": "Europe",
           "marker": {
            "color": "#ab63fa",
            "size": [
             0.801888
            ],
            "sizemode": "area",
            "sizeref": 0.0020994,
            "symbol": "circle"
           },
           "mode": "markers+text",
           "name": "Europe",
           "orientation": "v",
           "showlegend": true,
           "text": [
            "Europe"
           ],
           "type": "scatter",
           "x": [
            12.6608
           ],
           "xaxis": "x",
           "y": [
            0.801888
           ],
           "yaxis": "y"
          },
          {
           "hovertemplate": "ParentLocation=%{text}<br>Year=2008.0<br>SuicideRates=%{x}<br>HDI=%{marker.size}<extra></extra>",
           "ids": [
            "South-East Asia"
           ],
           "legendgroup": "South-East Asia",
           "marker": {
            "color": "#FFA15A",
            "size": [
             0.5500909090909091
            ],
            "sizemode": "area",
            "sizeref": 0.0020994,
            "symbol": "circle"
           },
           "mode": "markers+text",
           "name": "South-East Asia",
           "orientation": "v",
           "showlegend": true,
           "text": [
            "South-East Asia"
           ],
           "type": "scatter",
           "x": [
            7.751818181818181
           ],
           "xaxis": "x",
           "y": [
            0.5500909090909091
           ],
           "yaxis": "y"
          },
          {
           "hovertemplate": "ParentLocation=%{text}<br>Year=2008.0<br>SuicideRates=%{x}<br>HDI=%{marker.size}<extra></extra>",
           "ids": [
            "Western Pacific"
           ],
           "legendgroup": "Western Pacific",
           "marker": {
            "color": "#19d3f3",
            "size": [
             0.698952380952381
            ],
            "sizemode": "area",
            "sizeref": 0.0020994,
            "symbol": "circle"
           },
           "mode": "markers+text",
           "name": "Western Pacific",
           "orientation": "v",
           "showlegend": true,
           "text": [
            "Western Pacific"
           ],
           "type": "scatter",
           "x": [
            12.992857142857144
           ],
           "xaxis": "x",
           "y": [
            0.698952380952381
           ],
           "yaxis": "y"
          }
         ],
         "name": "2008.0"
        },
        {
         "data": [
          {
           "hovertemplate": "ParentLocation=%{text}<br>Year=2009.0<br>SuicideRates=%{x}<br>HDI=%{marker.size}<extra></extra>",
           "ids": [
            "Africa"
           ],
           "legendgroup": "Africa",
           "marker": {
            "color": "#636efa",
            "size": [
             0.47834255319148933
            ],
            "sizemode": "area",
            "sizeref": 0.0020994,
            "symbol": "circle"
           },
           "mode": "markers+text",
           "name": "Africa",
           "orientation": "v",
           "showlegend": true,
           "text": [
            "Africa"
           ],
           "type": "scatter",
           "x": [
            17.510212765957448
           ],
           "xaxis": "x",
           "y": [
            0.47834255319148933
           ],
           "yaxis": "y"
          },
          {
           "hovertemplate": "ParentLocation=%{text}<br>Year=2009.0<br>SuicideRates=%{x}<br>HDI=%{marker.size}<extra></extra>",
           "ids": [
            "Americas"
           ],
           "legendgroup": "Americas",
           "marker": {
            "color": "#EF553B",
            "size": [
             0.7283636363636364
            ],
            "sizemode": "area",
            "sizeref": 0.0020994,
            "symbol": "circle"
           },
           "mode": "markers+text",
           "name": "Americas",
           "orientation": "v",
           "showlegend": true,
           "text": [
            "Americas"
           ],
           "type": "scatter",
           "x": [
            7.986060606060606
           ],
           "xaxis": "x",
           "y": [
            0.7283636363636364
           ],
           "yaxis": "y"
          },
          {
           "hovertemplate": "ParentLocation=%{text}<br>Year=2009.0<br>SuicideRates=%{x}<br>HDI=%{marker.size}<extra></extra>",
           "ids": [
            "Eastern Mediterranean"
           ],
           "legendgroup": "Eastern Mediterranean",
           "marker": {
            "color": "#00cc96",
            "size": [
             0.6608095238095238
            ],
            "sizemode": "area",
            "sizeref": 0.0020994,
            "symbol": "circle"
           },
           "mode": "markers+text",
           "name": "Eastern Mediterranean",
           "orientation": "v",
           "showlegend": true,
           "text": [
            "Eastern Mediterranean"
           ],
           "type": "scatter",
           "x": [
            6.302380952380952
           ],
           "xaxis": "x",
           "y": [
            0.6608095238095238
           ],
           "yaxis": "y"
          },
          {
           "hovertemplate": "ParentLocation=%{text}<br>Year=2009.0<br>SuicideRates=%{x}<br>HDI=%{marker.size}<extra></extra>",
           "ids": [
            "Europe"
           ],
           "legendgroup": "Europe",
           "marker": {
            "color": "#ab63fa",
            "size": [
             0.803128
            ],
            "sizemode": "area",
            "sizeref": 0.0020994,
            "symbol": "circle"
           },
           "mode": "markers+text",
           "name": "Europe",
           "orientation": "v",
           "showlegend": true,
           "text": [
            "Europe"
           ],
           "type": "scatter",
           "x": [
            12.552
           ],
           "xaxis": "x",
           "y": [
            0.803128
           ],
           "yaxis": "y"
          },
          {
           "hovertemplate": "ParentLocation=%{text}<br>Year=2009.0<br>SuicideRates=%{x}<br>HDI=%{marker.size}<extra></extra>",
           "ids": [
            "South-East Asia"
           ],
           "legendgroup": "South-East Asia",
           "marker": {
            "color": "#FFA15A",
            "size": [
             0.5555454545454546
            ],
            "sizemode": "area",
            "sizeref": 0.0020994,
            "symbol": "circle"
           },
           "mode": "markers+text",
           "name": "South-East Asia",
           "orientation": "v",
           "showlegend": true,
           "text": [
            "South-East Asia"
           ],
           "type": "scatter",
           "x": [
            8.197272727272727
           ],
           "xaxis": "x",
           "y": [
            0.5555454545454546
           ],
           "yaxis": "y"
          },
          {
           "hovertemplate": "ParentLocation=%{text}<br>Year=2009.0<br>SuicideRates=%{x}<br>HDI=%{marker.size}<extra></extra>",
           "ids": [
            "Western Pacific"
           ],
           "legendgroup": "Western Pacific",
           "marker": {
            "color": "#19d3f3",
            "size": [
             0.7021428571428572
            ],
            "sizemode": "area",
            "sizeref": 0.0020994,
            "symbol": "circle"
           },
           "mode": "markers+text",
           "name": "Western Pacific",
           "orientation": "v",
           "showlegend": true,
           "text": [
            "Western Pacific"
           ],
           "type": "scatter",
           "x": [
            13.05142857142857
           ],
           "xaxis": "x",
           "y": [
            0.7021428571428572
           ],
           "yaxis": "y"
          }
         ],
         "name": "2009.0"
        },
        {
         "data": [
          {
           "hovertemplate": "ParentLocation=%{text}<br>Year=2010.0<br>SuicideRates=%{x}<br>HDI=%{marker.size}<extra></extra>",
           "ids": [
            "Africa"
           ],
           "legendgroup": "Africa",
           "marker": {
            "color": "#636efa",
            "size": [
             0.48510638297872344
            ],
            "sizemode": "area",
            "sizeref": 0.0020994,
            "symbol": "circle"
           },
           "mode": "markers+text",
           "name": "Africa",
           "orientation": "v",
           "showlegend": true,
           "text": [
            "Africa"
           ],
           "type": "scatter",
           "x": [
            17.335744680851064
           ],
           "xaxis": "x",
           "y": [
            0.48510638297872344
           ],
           "yaxis": "y"
          },
          {
           "hovertemplate": "ParentLocation=%{text}<br>Year=2010.0<br>SuicideRates=%{x}<br>HDI=%{marker.size}<extra></extra>",
           "ids": [
            "Americas"
           ],
           "legendgroup": "Americas",
           "marker": {
            "color": "#EF553B",
            "size": [
             0.7313939393939394
            ],
            "sizemode": "area",
            "sizeref": 0.0020994,
            "symbol": "circle"
           },
           "mode": "markers+text",
           "name": "Americas",
           "orientation": "v",
           "showlegend": true,
           "text": [
            "Americas"
           ],
           "type": "scatter",
           "x": [
            7.951818181818181
           ],
           "xaxis": "x",
           "y": [
            0.7313939393939394
           ],
           "yaxis": "y"
          },
          {
           "hovertemplate": "ParentLocation=%{text}<br>Year=2010.0<br>SuicideRates=%{x}<br>HDI=%{marker.size}<extra></extra>",
           "ids": [
            "Eastern Mediterranean"
           ],
           "legendgroup": "Eastern Mediterranean",
           "marker": {
            "color": "#00cc96",
            "size": [
             0.6638095238095237
            ],
            "sizemode": "area",
            "sizeref": 0.0020994,
            "symbol": "circle"
           },
           "mode": "markers+text",
           "name": "Eastern Mediterranean",
           "orientation": "v",
           "showlegend": true,
           "text": [
            "Eastern Mediterranean"
           ],
           "type": "scatter",
           "x": [
            6.216190476190476
           ],
           "xaxis": "x",
           "y": [
            0.6638095238095237
           ],
           "yaxis": "y"
          },
          {
           "hovertemplate": "ParentLocation=%{text}<br>Year=2010.0<br>SuicideRates=%{x}<br>HDI=%{marker.size}<extra></extra>",
           "ids": [
            "Europe"
           ],
           "legendgroup": "Europe",
           "marker": {
            "color": "#ab63fa",
            "size": [
             0.8066599999999999
            ],
            "sizemode": "area",
            "sizeref": 0.0020994,
            "symbol": "circle"
           },
           "mode": "markers+text",
           "name": "Europe",
           "orientation": "v",
           "showlegend": true,
           "text": [
            "Europe"
           ],
           "type": "scatter",
           "x": [
            12.0744
           ],
           "xaxis": "x",
           "y": [
            0.8066599999999999
           ],
           "yaxis": "y"
          },
          {
           "hovertemplate": "ParentLocation=%{text}<br>Year=2010.0<br>SuicideRates=%{x}<br>HDI=%{marker.size}<extra></extra>",
           "ids": [
            "South-East Asia"
           ],
           "legendgroup": "South-East Asia",
           "marker": {
            "color": "#FFA15A",
            "size": [
             0.5651818181818182
            ],
            "sizemode": "area",
            "sizeref": 0.0020994,
            "symbol": "circle"
           },
           "mode": "markers+text",
           "name": "South-East Asia",
           "orientation": "v",
           "showlegend": true,
           "text": [
            "South-East Asia"
           ],
           "type": "scatter",
           "x": [
            8.032727272727273
           ],
           "xaxis": "x",
           "y": [
            0.5651818181818182
           ],
           "yaxis": "y"
          },
          {
           "hovertemplate": "ParentLocation=%{text}<br>Year=2010.0<br>SuicideRates=%{x}<br>HDI=%{marker.size}<extra></extra>",
           "ids": [
            "Western Pacific"
           ],
           "legendgroup": "Western Pacific",
           "marker": {
            "color": "#19d3f3",
            "size": [
             0.7094285714285714
            ],
            "sizemode": "area",
            "sizeref": 0.0020994,
            "symbol": "circle"
           },
           "mode": "markers+text",
           "name": "Western Pacific",
           "orientation": "v",
           "showlegend": true,
           "text": [
            "Western Pacific"
           ],
           "type": "scatter",
           "x": [
            13.008571428571429
           ],
           "xaxis": "x",
           "y": [
            0.7094285714285714
           ],
           "yaxis": "y"
          }
         ],
         "name": "2010.0"
        },
        {
         "data": [
          {
           "hovertemplate": "ParentLocation=%{text}<br>Year=2011.0<br>SuicideRates=%{x}<br>HDI=%{marker.size}<extra></extra>",
           "ids": [
            "Africa"
           ],
           "legendgroup": "Africa",
           "marker": {
            "color": "#636efa",
            "size": [
             0.4927446808510638
            ],
            "sizemode": "area",
            "sizeref": 0.0020994,
            "symbol": "circle"
           },
           "mode": "markers+text",
           "name": "Africa",
           "orientation": "v",
           "showlegend": true,
           "text": [
            "Africa"
           ],
           "type": "scatter",
           "x": [
            17.065106382978723
           ],
           "xaxis": "x",
           "y": [
            0.4927446808510638
           ],
           "yaxis": "y"
          },
          {
           "hovertemplate": "ParentLocation=%{text}<br>Year=2011.0<br>SuicideRates=%{x}<br>HDI=%{marker.size}<extra></extra>",
           "ids": [
            "Americas"
           ],
           "legendgroup": "Americas",
           "marker": {
            "color": "#EF553B",
            "size": [
             0.7358787878787878
            ],
            "sizemode": "area",
            "sizeref": 0.0020994,
            "symbol": "circle"
           },
           "mode": "markers+text",
           "name": "Americas",
           "orientation": "v",
           "showlegend": true,
           "text": [
            "Americas"
           ],
           "type": "scatter",
           "x": [
            7.950909090909091
           ],
           "xaxis": "x",
           "y": [
            0.7358787878787878
           ],
           "yaxis": "y"
          },
          {
           "hovertemplate": "ParentLocation=%{text}<br>Year=2011.0<br>SuicideRates=%{x}<br>HDI=%{marker.size}<extra></extra>",
           "ids": [
            "Eastern Mediterranean"
           ],
           "legendgroup": "Eastern Mediterranean",
           "marker": {
            "color": "#00cc96",
            "size": [
             0.6659047619047619
            ],
            "sizemode": "area",
            "sizeref": 0.0020994,
            "symbol": "circle"
           },
           "mode": "markers+text",
           "name": "Eastern Mediterranean",
           "orientation": "v",
           "showlegend": true,
           "text": [
            "Eastern Mediterranean"
           ],
           "type": "scatter",
           "x": [
            6.159523809523809
           ],
           "xaxis": "x",
           "y": [
            0.6659047619047619
           ],
           "yaxis": "y"
          },
          {
           "hovertemplate": "ParentLocation=%{text}<br>Year=2011.0<br>SuicideRates=%{x}<br>HDI=%{marker.size}<extra></extra>",
           "ids": [
            "Europe"
           ],
           "legendgroup": "Europe",
           "marker": {
            "color": "#ab63fa",
            "size": [
             0.81116
            ],
            "sizemode": "area",
            "sizeref": 0.0020994,
            "symbol": "circle"
           },
           "mode": "markers+text",
           "name": "Europe",
           "orientation": "v",
           "showlegend": true,
           "text": [
            "Europe"
           ],
           "type": "scatter",
           "x": [
            11.798399999999999
           ],
           "xaxis": "x",
           "y": [
            0.81116
           ],
           "yaxis": "y"
          },
          {
           "hovertemplate": "ParentLocation=%{text}<br>Year=2011.0<br>SuicideRates=%{x}<br>HDI=%{marker.size}<extra></extra>",
           "ids": [
            "South-East Asia"
           ],
           "legendgroup": "South-East Asia",
           "marker": {
            "color": "#FFA15A",
            "size": [
             0.5742727272727273
            ],
            "sizemode": "area",
            "sizeref": 0.0020994,
            "symbol": "circle"
           },
           "mode": "markers+text",
           "name": "South-East Asia",
           "orientation": "v",
           "showlegend": true,
           "text": [
            "South-East Asia"
           ],
           "type": "scatter",
           "x": [
            7.612727272727273
           ],
           "xaxis": "x",
           "y": [
            0.5742727272727273
           ],
           "yaxis": "y"
          },
          {
           "hovertemplate": "ParentLocation=%{text}<br>Year=2011.0<br>SuicideRates=%{x}<br>HDI=%{marker.size}<extra></extra>",
           "ids": [
            "Western Pacific"
           ],
           "legendgroup": "Western Pacific",
           "marker": {
            "color": "#19d3f3",
            "size": [
             0.7147619047619047
            ],
            "sizemode": "area",
            "sizeref": 0.0020994,
            "symbol": "circle"
           },
           "mode": "markers+text",
           "name": "Western Pacific",
           "orientation": "v",
           "showlegend": true,
           "text": [
            "Western Pacific"
           ],
           "type": "scatter",
           "x": [
            12.893809523809523
           ],
           "xaxis": "x",
           "y": [
            0.7147619047619047
           ],
           "yaxis": "y"
          }
         ],
         "name": "2011.0"
        },
        {
         "data": [
          {
           "hovertemplate": "ParentLocation=%{text}<br>Year=2012.0<br>SuicideRates=%{x}<br>HDI=%{marker.size}<extra></extra>",
           "ids": [
            "Africa"
           ],
           "legendgroup": "Africa",
           "marker": {
            "color": "#636efa",
            "size": [
             0.4997234042553192
            ],
            "sizemode": "area",
            "sizeref": 0.0020994,
            "symbol": "circle"
           },
           "mode": "markers+text",
           "name": "Africa",
           "orientation": "v",
           "showlegend": true,
           "text": [
            "Africa"
           ],
           "type": "scatter",
           "x": [
            17.039787234042553
           ],
           "xaxis": "x",
           "y": [
            0.4997234042553192
           ],
           "yaxis": "y"
          },
          {
           "hovertemplate": "ParentLocation=%{text}<br>Year=2012.0<br>SuicideRates=%{x}<br>HDI=%{marker.size}<extra></extra>",
           "ids": [
            "Americas"
           ],
           "legendgroup": "Americas",
           "marker": {
            "color": "#EF553B",
            "size": [
             0.7393030303030302
            ],
            "sizemode": "area",
            "sizeref": 0.0020994,
            "symbol": "circle"
           },
           "mode": "markers+text",
           "name": "Americas",
           "orientation": "v",
           "showlegend": true,
           "text": [
            "Americas"
           ],
           "type": "scatter",
           "x": [
            7.96909090909091
           ],
           "xaxis": "x",
           "y": [
            0.7393030303030302
           ],
           "yaxis": "y"
          },
          {
           "hovertemplate": "ParentLocation=%{text}<br>Year=2012.0<br>SuicideRates=%{x}<br>HDI=%{marker.size}<extra></extra>",
           "ids": [
            "Eastern Mediterranean"
           ],
           "legendgroup": "Eastern Mediterranean",
           "marker": {
            "color": "#00cc96",
            "size": [
             0.670595238095238
            ],
            "sizemode": "area",
            "sizeref": 0.0020994,
            "symbol": "circle"
           },
           "mode": "markers+text",
           "name": "Eastern Mediterranean",
           "orientation": "v",
           "showlegend": true,
           "text": [
            "Eastern Mediterranean"
           ],
           "type": "scatter",
           "x": [
            6.095714285714285
           ],
           "xaxis": "x",
           "y": [
            0.670595238095238
           ],
           "yaxis": "y"
          },
          {
           "hovertemplate": "ParentLocation=%{text}<br>Year=2012.0<br>SuicideRates=%{x}<br>HDI=%{marker.size}<extra></extra>",
           "ids": [
            "Europe"
           ],
           "legendgroup": "Europe",
           "marker": {
            "color": "#ab63fa",
            "size": [
             0.8147199999999999
            ],
            "sizemode": "area",
            "sizeref": 0.0020994,
            "symbol": "circle"
           },
           "mode": "markers+text",
           "name": "Europe",
           "orientation": "v",
           "showlegend": true,
           "text": [
            "Europe"
           ],
           "type": "scatter",
           "x": [
            11.761600000000001
           ],
           "xaxis": "x",
           "y": [
            0.8147199999999999
           ],
           "yaxis": "y"
          },
          {
           "hovertemplate": "ParentLocation=%{text}<br>Year=2012.0<br>SuicideRates=%{x}<br>HDI=%{marker.size}<extra></extra>",
           "ids": [
            "South-East Asia"
           ],
           "legendgroup": "South-East Asia",
           "marker": {
            "color": "#FFA15A",
            "size": [
             0.5808181818181818
            ],
            "sizemode": "area",
            "sizeref": 0.0020994,
            "symbol": "circle"
           },
           "mode": "markers+text",
           "name": "South-East Asia",
           "orientation": "v",
           "showlegend": true,
           "text": [
            "South-East Asia"
           ],
           "type": "scatter",
           "x": [
            7.350909090909091
           ],
           "xaxis": "x",
           "y": [
            0.5808181818181818
           ],
           "yaxis": "y"
          },
          {
           "hovertemplate": "ParentLocation=%{text}<br>Year=2012.0<br>SuicideRates=%{x}<br>HDI=%{marker.size}<extra></extra>",
           "ids": [
            "Western Pacific"
           ],
           "legendgroup": "Western Pacific",
           "marker": {
            "color": "#19d3f3",
            "size": [
             0.719047619047619
            ],
            "sizemode": "area",
            "sizeref": 0.0020994,
            "symbol": "circle"
           },
           "mode": "markers+text",
           "name": "Western Pacific",
           "orientation": "v",
           "showlegend": true,
           "text": [
            "Western Pacific"
           ],
           "type": "scatter",
           "x": [
            12.680476190476192
           ],
           "xaxis": "x",
           "y": [
            0.719047619047619
           ],
           "yaxis": "y"
          }
         ],
         "name": "2012.0"
        },
        {
         "data": [
          {
           "hovertemplate": "ParentLocation=%{text}<br>Year=2013.0<br>SuicideRates=%{x}<br>HDI=%{marker.size}<extra></extra>",
           "ids": [
            "Africa"
           ],
           "legendgroup": "Africa",
           "marker": {
            "color": "#636efa",
            "size": [
             0.5074042553191489
            ],
            "sizemode": "area",
            "sizeref": 0.0020994,
            "symbol": "circle"
           },
           "mode": "markers+text",
           "name": "Africa",
           "orientation": "v",
           "showlegend": true,
           "text": [
            "Africa"
           ],
           "type": "scatter",
           "x": [
            16.819787234042554
           ],
           "xaxis": "x",
           "y": [
            0.5074042553191489
           ],
           "yaxis": "y"
          },
          {
           "hovertemplate": "ParentLocation=%{text}<br>Year=2013.0<br>SuicideRates=%{x}<br>HDI=%{marker.size}<extra></extra>",
           "ids": [
            "Americas"
           ],
           "legendgroup": "Americas",
           "marker": {
            "color": "#EF553B",
            "size": [
             0.7430000000000001
            ],
            "sizemode": "area",
            "sizeref": 0.0020994,
            "symbol": "circle"
           },
           "mode": "markers+text",
           "name": "Americas",
           "orientation": "v",
           "showlegend": true,
           "text": [
            "Americas"
           ],
           "type": "scatter",
           "x": [
            7.867181818181819
           ],
           "xaxis": "x",
           "y": [
            0.7430000000000001
           ],
           "yaxis": "y"
          },
          {
           "hovertemplate": "ParentLocation=%{text}<br>Year=2013.0<br>SuicideRates=%{x}<br>HDI=%{marker.size}<extra></extra>",
           "ids": [
            "Eastern Mediterranean"
           ],
           "legendgroup": "Eastern Mediterranean",
           "marker": {
            "color": "#00cc96",
            "size": [
             0.6722619047619047
            ],
            "sizemode": "area",
            "sizeref": 0.0020994,
            "symbol": "circle"
           },
           "mode": "markers+text",
           "name": "Eastern Mediterranean",
           "orientation": "v",
           "showlegend": true,
           "text": [
            "Eastern Mediterranean"
           ],
           "type": "scatter",
           "x": [
            5.96047619047619
           ],
           "xaxis": "x",
           "y": [
            0.6722619047619047
           ],
           "yaxis": "y"
          },
          {
           "hovertemplate": "ParentLocation=%{text}<br>Year=2013.0<br>SuicideRates=%{x}<br>HDI=%{marker.size}<extra></extra>",
           "ids": [
            "Europe"
           ],
           "legendgroup": "Europe",
           "marker": {
            "color": "#ab63fa",
            "size": [
             0.82026
            ],
            "sizemode": "area",
            "sizeref": 0.0020994,
            "symbol": "circle"
           },
           "mode": "markers+text",
           "name": "Europe",
           "orientation": "v",
           "showlegend": true,
           "text": [
            "Europe"
           ],
           "type": "scatter",
           "x": [
            11.490599999999999
           ],
           "xaxis": "x",
           "y": [
            0.82026
           ],
           "yaxis": "y"
          },
          {
           "hovertemplate": "ParentLocation=%{text}<br>Year=2013.0<br>SuicideRates=%{x}<br>HDI=%{marker.size}<extra></extra>",
           "ids": [
            "South-East Asia"
           ],
           "legendgroup": "South-East Asia",
           "marker": {
            "color": "#FFA15A",
            "size": [
             0.5849090909090909
            ],
            "sizemode": "area",
            "sizeref": 0.0020994,
            "symbol": "circle"
           },
           "mode": "markers+text",
           "name": "South-East Asia",
           "orientation": "v",
           "showlegend": true,
           "text": [
            "South-East Asia"
           ],
           "type": "scatter",
           "x": [
            7.052727272727273
           ],
           "xaxis": "x",
           "y": [
            0.5849090909090909
           ],
           "yaxis": "y"
          },
          {
           "hovertemplate": "ParentLocation=%{text}<br>Year=2013.0<br>SuicideRates=%{x}<br>HDI=%{marker.size}<extra></extra>",
           "ids": [
            "Western Pacific"
           ],
           "legendgroup": "Western Pacific",
           "marker": {
            "color": "#19d3f3",
            "size": [
             0.7234761904761905
            ],
            "sizemode": "area",
            "sizeref": 0.0020994,
            "symbol": "circle"
           },
           "mode": "markers+text",
           "name": "Western Pacific",
           "orientation": "v",
           "showlegend": true,
           "text": [
            "Western Pacific"
           ],
           "type": "scatter",
           "x": [
            12.444761904761906
           ],
           "xaxis": "x",
           "y": [
            0.7234761904761905
           ],
           "yaxis": "y"
          }
         ],
         "name": "2013.0"
        },
        {
         "data": [
          {
           "hovertemplate": "ParentLocation=%{text}<br>Year=2014.0<br>SuicideRates=%{x}<br>HDI=%{marker.size}<extra></extra>",
           "ids": [
            "Africa"
           ],
           "legendgroup": "Africa",
           "marker": {
            "color": "#636efa",
            "size": [
             0.5136170212765958
            ],
            "sizemode": "area",
            "sizeref": 0.0020994,
            "symbol": "circle"
           },
           "mode": "markers+text",
           "name": "Africa",
           "orientation": "v",
           "showlegend": true,
           "text": [
            "Africa"
           ],
           "type": "scatter",
           "x": [
            16.549148936170216
           ],
           "xaxis": "x",
           "y": [
            0.5136170212765958
           ],
           "yaxis": "y"
          },
          {
           "hovertemplate": "ParentLocation=%{text}<br>Year=2014.0<br>SuicideRates=%{x}<br>HDI=%{marker.size}<extra></extra>",
           "ids": [
            "Americas"
           ],
           "legendgroup": "Americas",
           "marker": {
            "color": "#EF553B",
            "size": [
             0.7476363636363637
            ],
            "sizemode": "area",
            "sizeref": 0.0020994,
            "symbol": "circle"
           },
           "mode": "markers+text",
           "name": "Americas",
           "orientation": "v",
           "showlegend": true,
           "text": [
            "Americas"
           ],
           "type": "scatter",
           "x": [
            7.800606060606061
           ],
           "xaxis": "x",
           "y": [
            0.7476363636363637
           ],
           "yaxis": "y"
          },
          {
           "hovertemplate": "ParentLocation=%{text}<br>Year=2014.0<br>SuicideRates=%{x}<br>HDI=%{marker.size}<extra></extra>",
           "ids": [
            "Eastern Mediterranean"
           ],
           "legendgroup": "Eastern Mediterranean",
           "marker": {
            "color": "#00cc96",
            "size": [
             0.6732619047619048
            ],
            "sizemode": "area",
            "sizeref": 0.0020994,
            "symbol": "circle"
           },
           "mode": "markers+text",
           "name": "Eastern Mediterranean",
           "orientation": "v",
           "showlegend": true,
           "text": [
            "Eastern Mediterranean"
           ],
           "type": "scatter",
           "x": [
            5.940952380952381
           ],
           "xaxis": "x",
           "y": [
            0.6732619047619048
           ],
           "yaxis": "y"
          },
          {
           "hovertemplate": "ParentLocation=%{text}<br>Year=2014.0<br>SuicideRates=%{x}<br>HDI=%{marker.size}<extra></extra>",
           "ids": [
            "Europe"
           ],
           "legendgroup": "Europe",
           "marker": {
            "color": "#ab63fa",
            "size": [
             0.82428
            ],
            "sizemode": "area",
            "sizeref": 0.0020994,
            "symbol": "circle"
           },
           "mode": "markers+text",
           "name": "Europe",
           "orientation": "v",
           "showlegend": true,
           "text": [
            "Europe"
           ],
           "type": "scatter",
           "x": [
            11.2624
           ],
           "xaxis": "x",
           "y": [
            0.82428
           ],
           "yaxis": "y"
          },
          {
           "hovertemplate": "ParentLocation=%{text}<br>Year=2014.0<br>SuicideRates=%{x}<br>HDI=%{marker.size}<extra></extra>",
           "ids": [
            "South-East Asia"
           ],
           "legendgroup": "South-East Asia",
           "marker": {
            "color": "#FFA15A",
            "size": [
             0.589090909090909
            ],
            "sizemode": "area",
            "sizeref": 0.0020994,
            "symbol": "circle"
           },
           "mode": "markers+text",
           "name": "South-East Asia",
           "orientation": "v",
           "showlegend": true,
           "text": [
            "South-East Asia"
           ],
           "type": "scatter",
           "x": [
            6.746363636363637
           ],
           "xaxis": "x",
           "y": [
            0.589090909090909
           ],
           "yaxis": "y"
          },
          {
           "hovertemplate": "ParentLocation=%{text}<br>Year=2014.0<br>SuicideRates=%{x}<br>HDI=%{marker.size}<extra></extra>",
           "ids": [
            "Western Pacific"
           ],
           "legendgroup": "Western Pacific",
           "marker": {
            "color": "#19d3f3",
            "size": [
             0.7271428571428571
            ],
            "sizemode": "area",
            "sizeref": 0.0020994,
            "symbol": "circle"
           },
           "mode": "markers+text",
           "name": "Western Pacific",
           "orientation": "v",
           "showlegend": true,
           "text": [
            "Western Pacific"
           ],
           "type": "scatter",
           "x": [
            12.22857142857143
           ],
           "xaxis": "x",
           "y": [
            0.7271428571428571
           ],
           "yaxis": "y"
          }
         ],
         "name": "2014.0"
        },
        {
         "data": [
          {
           "hovertemplate": "ParentLocation=%{text}<br>Year=2015.0<br>SuicideRates=%{x}<br>HDI=%{marker.size}<extra></extra>",
           "ids": [
            "Africa"
           ],
           "legendgroup": "Africa",
           "marker": {
            "color": "#636efa",
            "size": [
             0.5182978723404256
            ],
            "sizemode": "area",
            "sizeref": 0.0020994,
            "symbol": "circle"
           },
           "mode": "markers+text",
           "name": "Africa",
           "orientation": "v",
           "showlegend": true,
           "text": [
            "Africa"
           ],
           "type": "scatter",
           "x": [
            16.093617021276597
           ],
           "xaxis": "x",
           "y": [
            0.5182978723404256
           ],
           "yaxis": "y"
          },
          {
           "hovertemplate": "ParentLocation=%{text}<br>Year=2015.0<br>SuicideRates=%{x}<br>HDI=%{marker.size}<extra></extra>",
           "ids": [
            "Americas"
           ],
           "legendgroup": "Americas",
           "marker": {
            "color": "#EF553B",
            "size": [
             0.7510909090909091
            ],
            "sizemode": "area",
            "sizeref": 0.0020994,
            "symbol": "circle"
           },
           "mode": "markers+text",
           "name": "Americas",
           "orientation": "v",
           "showlegend": true,
           "text": [
            "Americas"
           ],
           "type": "scatter",
           "x": [
            7.902121212121211
           ],
           "xaxis": "x",
           "y": [
            0.7510909090909091
           ],
           "yaxis": "y"
          },
          {
           "hovertemplate": "ParentLocation=%{text}<br>Year=2015.0<br>SuicideRates=%{x}<br>HDI=%{marker.size}<extra></extra>",
           "ids": [
            "Eastern Mediterranean"
           ],
           "legendgroup": "Eastern Mediterranean",
           "marker": {
            "color": "#00cc96",
            "size": [
             0.6760238095238096
            ],
            "sizemode": "area",
            "sizeref": 0.0020994,
            "symbol": "circle"
           },
           "mode": "markers+text",
           "name": "Eastern Mediterranean",
           "orientation": "v",
           "showlegend": true,
           "text": [
            "Eastern Mediterranean"
           ],
           "type": "scatter",
           "x": [
            5.805714285714286
           ],
           "xaxis": "x",
           "y": [
            0.6760238095238096
           ],
           "yaxis": "y"
          },
          {
           "hovertemplate": "ParentLocation=%{text}<br>Year=2015.0<br>SuicideRates=%{x}<br>HDI=%{marker.size}<extra></extra>",
           "ids": [
            "Europe"
           ],
           "legendgroup": "Europe",
           "marker": {
            "color": "#ab63fa",
            "size": [
             0.8273199999999999
            ],
            "sizemode": "area",
            "sizeref": 0.0020994,
            "symbol": "circle"
           },
           "mode": "markers+text",
           "name": "Europe",
           "orientation": "v",
           "showlegend": true,
           "text": [
            "Europe"
           ],
           "type": "scatter",
           "x": [
            10.78
           ],
           "xaxis": "x",
           "y": [
            0.8273199999999999
           ],
           "yaxis": "y"
          },
          {
           "hovertemplate": "ParentLocation=%{text}<br>Year=2015.0<br>SuicideRates=%{x}<br>HDI=%{marker.size}<extra></extra>",
           "ids": [
            "South-East Asia"
           ],
           "legendgroup": "South-East Asia",
           "marker": {
            "color": "#FFA15A",
            "size": [
             0.5947272727272727
            ],
            "sizemode": "area",
            "sizeref": 0.0020994,
            "symbol": "circle"
           },
           "mode": "markers+text",
           "name": "South-East Asia",
           "orientation": "v",
           "showlegend": true,
           "text": [
            "South-East Asia"
           ],
           "type": "scatter",
           "x": [
            6.919090909090909
           ],
           "xaxis": "x",
           "y": [
            0.5947272727272727
           ],
           "yaxis": "y"
          },
          {
           "hovertemplate": "ParentLocation=%{text}<br>Year=2015.0<br>SuicideRates=%{x}<br>HDI=%{marker.size}<extra></extra>",
           "ids": [
            "Western Pacific"
           ],
           "legendgroup": "Western Pacific",
           "marker": {
            "color": "#19d3f3",
            "size": [
             0.7323333333333333
            ],
            "sizemode": "area",
            "sizeref": 0.0020994,
            "symbol": "circle"
           },
           "mode": "markers+text",
           "name": "Western Pacific",
           "orientation": "v",
           "showlegend": true,
           "text": [
            "Western Pacific"
           ],
           "type": "scatter",
           "x": [
            12.164285714285715
           ],
           "xaxis": "x",
           "y": [
            0.7323333333333333
           ],
           "yaxis": "y"
          }
         ],
         "name": "2015.0"
        },
        {
         "data": [
          {
           "hovertemplate": "ParentLocation=%{text}<br>Year=2016.0<br>SuicideRates=%{x}<br>HDI=%{marker.size}<extra></extra>",
           "ids": [
            "Africa"
           ],
           "legendgroup": "Africa",
           "marker": {
            "color": "#636efa",
            "size": [
             0.5216808510638298
            ],
            "sizemode": "area",
            "sizeref": 0.0020994,
            "symbol": "circle"
           },
           "mode": "markers+text",
           "name": "Africa",
           "orientation": "v",
           "showlegend": true,
           "text": [
            "Africa"
           ],
           "type": "scatter",
           "x": [
            15.561276595744681
           ],
           "xaxis": "x",
           "y": [
            0.5216808510638298
           ],
           "yaxis": "y"
          },
          {
           "hovertemplate": "ParentLocation=%{text}<br>Year=2016.0<br>SuicideRates=%{x}<br>HDI=%{marker.size}<extra></extra>",
           "ids": [
            "Americas"
           ],
           "legendgroup": "Americas",
           "marker": {
            "color": "#EF553B",
            "size": [
             0.7533333333333333
            ],
            "sizemode": "area",
            "sizeref": 0.0020994,
            "symbol": "circle"
           },
           "mode": "markers+text",
           "name": "Americas",
           "orientation": "v",
           "showlegend": true,
           "text": [
            "Americas"
           ],
           "type": "scatter",
           "x": [
            7.761818181818182
           ],
           "xaxis": "x",
           "y": [
            0.7533333333333333
           ],
           "yaxis": "y"
          },
          {
           "hovertemplate": "ParentLocation=%{text}<br>Year=2016.0<br>SuicideRates=%{x}<br>HDI=%{marker.size}<extra></extra>",
           "ids": [
            "Eastern Mediterranean"
           ],
           "legendgroup": "Eastern Mediterranean",
           "marker": {
            "color": "#00cc96",
            "size": [
             0.6785952380952381
            ],
            "sizemode": "area",
            "sizeref": 0.0020994,
            "symbol": "circle"
           },
           "mode": "markers+text",
           "name": "Eastern Mediterranean",
           "orientation": "v",
           "showlegend": true,
           "text": [
            "Eastern Mediterranean"
           ],
           "type": "scatter",
           "x": [
            5.742857142857143
           ],
           "xaxis": "x",
           "y": [
            0.6785952380952381
           ],
           "yaxis": "y"
          },
          {
           "hovertemplate": "ParentLocation=%{text}<br>Year=2016.0<br>SuicideRates=%{x}<br>HDI=%{marker.size}<extra></extra>",
           "ids": [
            "Europe"
           ],
           "legendgroup": "Europe",
           "marker": {
            "color": "#ab63fa",
            "size": [
             0.8301999999999999
            ],
            "sizemode": "area",
            "sizeref": 0.0020994,
            "symbol": "circle"
           },
           "mode": "markers+text",
           "name": "Europe",
           "orientation": "v",
           "showlegend": true,
           "text": [
            "Europe"
           ],
           "type": "scatter",
           "x": [
            10.357000000000001
           ],
           "xaxis": "x",
           "y": [
            0.8301999999999999
           ],
           "yaxis": "y"
          },
          {
           "hovertemplate": "ParentLocation=%{text}<br>Year=2016.0<br>SuicideRates=%{x}<br>HDI=%{marker.size}<extra></extra>",
           "ids": [
            "South-East Asia"
           ],
           "legendgroup": "South-East Asia",
           "marker": {
            "color": "#FFA15A",
            "size": [
             0.5982727272727272
            ],
            "sizemode": "area",
            "sizeref": 0.0020994,
            "symbol": "circle"
           },
           "mode": "markers+text",
           "name": "South-East Asia",
           "orientation": "v",
           "showlegend": true,
           "text": [
            "South-East Asia"
           ],
           "type": "scatter",
           "x": [
            6.858181818181818
           ],
           "xaxis": "x",
           "y": [
            0.5982727272727272
           ],
           "yaxis": "y"
          },
          {
           "hovertemplate": "ParentLocation=%{text}<br>Year=2016.0<br>SuicideRates=%{x}<br>HDI=%{marker.size}<extra></extra>",
           "ids": [
            "Western Pacific"
           ],
           "legendgroup": "Western Pacific",
           "marker": {
            "color": "#19d3f3",
            "size": [
             0.7346666666666667
            ],
            "sizemode": "area",
            "sizeref": 0.0020994,
            "symbol": "circle"
           },
           "mode": "markers+text",
           "name": "Western Pacific",
           "orientation": "v",
           "showlegend": true,
           "text": [
            "Western Pacific"
           ],
           "type": "scatter",
           "x": [
            12.027619047619046
           ],
           "xaxis": "x",
           "y": [
            0.7346666666666667
           ],
           "yaxis": "y"
          }
         ],
         "name": "2016.0"
        },
        {
         "data": [
          {
           "hovertemplate": "ParentLocation=%{text}<br>Year=2017.0<br>SuicideRates=%{x}<br>HDI=%{marker.size}<extra></extra>",
           "ids": [
            "Africa"
           ],
           "legendgroup": "Africa",
           "marker": {
            "color": "#636efa",
            "size": [
             0.5259574468085106
            ],
            "sizemode": "area",
            "sizeref": 0.0020994,
            "symbol": "circle"
           },
           "mode": "markers+text",
           "name": "Africa",
           "orientation": "v",
           "showlegend": true,
           "text": [
            "Africa"
           ],
           "type": "scatter",
           "x": [
            15.048297872340425
           ],
           "xaxis": "x",
           "y": [
            0.5259574468085106
           ],
           "yaxis": "y"
          },
          {
           "hovertemplate": "ParentLocation=%{text}<br>Year=2017.0<br>SuicideRates=%{x}<br>HDI=%{marker.size}<extra></extra>",
           "ids": [
            "Americas"
           ],
           "legendgroup": "Americas",
           "marker": {
            "color": "#EF553B",
            "size": [
             0.7550606060606061
            ],
            "sizemode": "area",
            "sizeref": 0.0020994,
            "symbol": "circle"
           },
           "mode": "markers+text",
           "name": "Americas",
           "orientation": "v",
           "showlegend": true,
           "text": [
            "Americas"
           ],
           "type": "scatter",
           "x": [
            7.813939393939394
           ],
           "xaxis": "x",
           "y": [
            0.7550606060606061
           ],
           "yaxis": "y"
          },
          {
           "hovertemplate": "ParentLocation=%{text}<br>Year=2017.0<br>SuicideRates=%{x}<br>HDI=%{marker.size}<extra></extra>",
           "ids": [
            "Eastern Mediterranean"
           ],
           "legendgroup": "Eastern Mediterranean",
           "marker": {
            "color": "#00cc96",
            "size": [
             0.6831190476190476
            ],
            "sizemode": "area",
            "sizeref": 0.0020994,
            "symbol": "circle"
           },
           "mode": "markers+text",
           "name": "Eastern Mediterranean",
           "orientation": "v",
           "showlegend": true,
           "text": [
            "Eastern Mediterranean"
           ],
           "type": "scatter",
           "x": [
            5.744285714285714
           ],
           "xaxis": "x",
           "y": [
            0.6831190476190476
           ],
           "yaxis": "y"
          },
          {
           "hovertemplate": "ParentLocation=%{text}<br>Year=2017.0<br>SuicideRates=%{x}<br>HDI=%{marker.size}<extra></extra>",
           "ids": [
            "Europe"
           ],
           "legendgroup": "Europe",
           "marker": {
            "color": "#ab63fa",
            "size": [
             0.83354
            ],
            "sizemode": "area",
            "sizeref": 0.0020994,
            "symbol": "circle"
           },
           "mode": "markers+text",
           "name": "Europe",
           "orientation": "v",
           "showlegend": true,
           "text": [
            "Europe"
           ],
           "type": "scatter",
           "x": [
            9.9278
           ],
           "xaxis": "x",
           "y": [
            0.83354
           ],
           "yaxis": "y"
          },
          {
           "hovertemplate": "ParentLocation=%{text}<br>Year=2017.0<br>SuicideRates=%{x}<br>HDI=%{marker.size}<extra></extra>",
           "ids": [
            "South-East Asia"
           ],
           "legendgroup": "South-East Asia",
           "marker": {
            "color": "#FFA15A",
            "size": [
             0.6036363636363636
            ],
            "sizemode": "area",
            "sizeref": 0.0020994,
            "symbol": "circle"
           },
           "mode": "markers+text",
           "name": "South-East Asia",
           "orientation": "v",
           "showlegend": true,
           "text": [
            "South-East Asia"
           ],
           "type": "scatter",
           "x": [
            6.720909090909092
           ],
           "xaxis": "x",
           "y": [
            0.6036363636363636
           ],
           "yaxis": "y"
          },
          {
           "hovertemplate": "ParentLocation=%{text}<br>Year=2017.0<br>SuicideRates=%{x}<br>HDI=%{marker.size}<extra></extra>",
           "ids": [
            "Western Pacific"
           ],
           "legendgroup": "Western Pacific",
           "marker": {
            "color": "#19d3f3",
            "size": [
             0.7367619047619047
            ],
            "sizemode": "area",
            "sizeref": 0.0020994,
            "symbol": "circle"
           },
           "mode": "markers+text",
           "name": "Western Pacific",
           "orientation": "v",
           "showlegend": true,
           "text": [
            "Western Pacific"
           ],
           "type": "scatter",
           "x": [
            12.039047619047619
           ],
           "xaxis": "x",
           "y": [
            0.7367619047619047
           ],
           "yaxis": "y"
          }
         ],
         "name": "2017.0"
        },
        {
         "data": [
          {
           "hovertemplate": "ParentLocation=%{text}<br>Year=2018.0<br>SuicideRates=%{x}<br>HDI=%{marker.size}<extra></extra>",
           "ids": [
            "Africa"
           ],
           "legendgroup": "Africa",
           "marker": {
            "color": "#636efa",
            "size": [
             0.5291063829787234
            ],
            "sizemode": "area",
            "sizeref": 0.0020994,
            "symbol": "circle"
           },
           "mode": "markers+text",
           "name": "Africa",
           "orientation": "v",
           "showlegend": true,
           "text": [
            "Africa"
           ],
           "type": "scatter",
           "x": [
            14.648297872340427
           ],
           "xaxis": "x",
           "y": [
            0.5291063829787234
           ],
           "yaxis": "y"
          },
          {
           "hovertemplate": "ParentLocation=%{text}<br>Year=2018.0<br>SuicideRates=%{x}<br>HDI=%{marker.size}<extra></extra>",
           "ids": [
            "Americas"
           ],
           "legendgroup": "Americas",
           "marker": {
            "color": "#EF553B",
            "size": [
             0.7566060606060606
            ],
            "sizemode": "area",
            "sizeref": 0.0020994,
            "symbol": "circle"
           },
           "mode": "markers+text",
           "name": "Americas",
           "orientation": "v",
           "showlegend": true,
           "text": [
            "Americas"
           ],
           "type": "scatter",
           "x": [
            7.757878787878788
           ],
           "xaxis": "x",
           "y": [
            0.7566060606060606
           ],
           "yaxis": "y"
          },
          {
           "hovertemplate": "ParentLocation=%{text}<br>Year=2018.0<br>SuicideRates=%{x}<br>HDI=%{marker.size}<extra></extra>",
           "ids": [
            "Eastern Mediterranean"
           ],
           "legendgroup": "Eastern Mediterranean",
           "marker": {
            "color": "#00cc96",
            "size": [
             0.6850238095238096
            ],
            "sizemode": "area",
            "sizeref": 0.0020994,
            "symbol": "circle"
           },
           "mode": "markers+text",
           "name": "Eastern Mediterranean",
           "orientation": "v",
           "showlegend": true,
           "text": [
            "Eastern Mediterranean"
           ],
           "type": "scatter",
           "x": [
            5.720952380952381
           ],
           "xaxis": "x",
           "y": [
            0.6850238095238096
           ],
           "yaxis": "y"
          },
          {
           "hovertemplate": "ParentLocation=%{text}<br>Year=2018.0<br>SuicideRates=%{x}<br>HDI=%{marker.size}<extra></extra>",
           "ids": [
            "Europe"
           ],
           "legendgroup": "Europe",
           "marker": {
            "color": "#ab63fa",
            "size": [
             0.8367
            ],
            "sizemode": "area",
            "sizeref": 0.0020994,
            "symbol": "circle"
           },
           "mode": "markers+text",
           "name": "Europe",
           "orientation": "v",
           "showlegend": true,
           "text": [
            "Europe"
           ],
           "type": "scatter",
           "x": [
            9.7054
           ],
           "xaxis": "x",
           "y": [
            0.8367
           ],
           "yaxis": "y"
          },
          {
           "hovertemplate": "ParentLocation=%{text}<br>Year=2018.0<br>SuicideRates=%{x}<br>HDI=%{marker.size}<extra></extra>",
           "ids": [
            "South-East Asia"
           ],
           "legendgroup": "South-East Asia",
           "marker": {
            "color": "#FFA15A",
            "size": [
             0.608
            ],
            "sizemode": "area",
            "sizeref": 0.0020994,
            "symbol": "circle"
           },
           "mode": "markers+text",
           "name": "South-East Asia",
           "orientation": "v",
           "showlegend": true,
           "text": [
            "South-East Asia"
           ],
           "type": "scatter",
           "x": [
            6.696363636363636
           ],
           "xaxis": "x",
           "y": [
            0.608
           ],
           "yaxis": "y"
          },
          {
           "hovertemplate": "ParentLocation=%{text}<br>Year=2018.0<br>SuicideRates=%{x}<br>HDI=%{marker.size}<extra></extra>",
           "ids": [
            "Western Pacific"
           ],
           "legendgroup": "Western Pacific",
           "marker": {
            "color": "#19d3f3",
            "size": [
             0.7385238095238096
            ],
            "sizemode": "area",
            "sizeref": 0.0020994,
            "symbol": "circle"
           },
           "mode": "markers+text",
           "name": "Western Pacific",
           "orientation": "v",
           "showlegend": true,
           "text": [
            "Western Pacific"
           ],
           "type": "scatter",
           "x": [
            11.948095238095238
           ],
           "xaxis": "x",
           "y": [
            0.7385238095238096
           ],
           "yaxis": "y"
          }
         ],
         "name": "2018.0"
        },
        {
         "data": [
          {
           "hovertemplate": "ParentLocation=%{text}<br>Year=2019.0<br>SuicideRates=%{x}<br>HDI=%{marker.size}<extra></extra>",
           "ids": [
            "Africa"
           ],
           "legendgroup": "Africa",
           "marker": {
            "color": "#636efa",
            "size": [
             0.5326382978723404
            ],
            "sizemode": "area",
            "sizeref": 0.0020994,
            "symbol": "circle"
           },
           "mode": "markers+text",
           "name": "Africa",
           "orientation": "v",
           "showlegend": true,
           "text": [
            "Africa"
           ],
           "type": "scatter",
           "x": [
            14.330425531914893
           ],
           "xaxis": "x",
           "y": [
            0.5326382978723404
           ],
           "yaxis": "y"
          },
          {
           "hovertemplate": "ParentLocation=%{text}<br>Year=2019.0<br>SuicideRates=%{x}<br>HDI=%{marker.size}<extra></extra>",
           "ids": [
            "Americas"
           ],
           "legendgroup": "Americas",
           "marker": {
            "color": "#EF553B",
            "size": [
             0.7583333333333333
            ],
            "sizemode": "area",
            "sizeref": 0.0020994,
            "symbol": "circle"
           },
           "mode": "markers+text",
           "name": "Americas",
           "orientation": "v",
           "showlegend": true,
           "text": [
            "Americas"
           ],
           "type": "scatter",
           "x": [
            7.720303030303031
           ],
           "xaxis": "x",
           "y": [
            0.7583333333333333
           ],
           "yaxis": "y"
          },
          {
           "hovertemplate": "ParentLocation=%{text}<br>Year=2019.0<br>SuicideRates=%{x}<br>HDI=%{marker.size}<extra></extra>",
           "ids": [
            "Eastern Mediterranean"
           ],
           "legendgroup": "Eastern Mediterranean",
           "marker": {
            "color": "#00cc96",
            "size": [
             0.6869761904761905
            ],
            "sizemode": "area",
            "sizeref": 0.0020994,
            "symbol": "circle"
           },
           "mode": "markers+text",
           "name": "Eastern Mediterranean",
           "orientation": "v",
           "showlegend": true,
           "text": [
            "Eastern Mediterranean"
           ],
           "type": "scatter",
           "x": [
            5.6623809523809525
           ],
           "xaxis": "x",
           "y": [
            0.6869761904761905
           ],
           "yaxis": "y"
          },
          {
           "hovertemplate": "ParentLocation=%{text}<br>Year=2019.0<br>SuicideRates=%{x}<br>HDI=%{marker.size}<extra></extra>",
           "ids": [
            "Europe"
           ],
           "legendgroup": "Europe",
           "marker": {
            "color": "#ab63fa",
            "size": [
             0.83976
            ],
            "sizemode": "area",
            "sizeref": 0.0020994,
            "symbol": "circle"
           },
           "mode": "markers+text",
           "name": "Europe",
           "orientation": "v",
           "showlegend": true,
           "text": [
            "Europe"
           ],
           "type": "scatter",
           "x": [
            9.4998
           ],
           "xaxis": "x",
           "y": [
            0.83976
           ],
           "yaxis": "y"
          },
          {
           "hovertemplate": "ParentLocation=%{text}<br>Year=2019.0<br>SuicideRates=%{x}<br>HDI=%{marker.size}<extra></extra>",
           "ids": [
            "South-East Asia"
           ],
           "legendgroup": "South-East Asia",
           "marker": {
            "color": "#FFA15A",
            "size": [
             0.6126363636363636
            ],
            "sizemode": "area",
            "sizeref": 0.0020994,
            "symbol": "circle"
           },
           "mode": "markers+text",
           "name": "South-East Asia",
           "orientation": "v",
           "showlegend": true,
           "text": [
            "South-East Asia"
           ],
           "type": "scatter",
           "x": [
            6.676363636363636
           ],
           "xaxis": "x",
           "y": [
            0.6126363636363636
           ],
           "yaxis": "y"
          },
          {
           "hovertemplate": "ParentLocation=%{text}<br>Year=2019.0<br>SuicideRates=%{x}<br>HDI=%{marker.size}<extra></extra>",
           "ids": [
            "Western Pacific"
           ],
           "legendgroup": "Western Pacific",
           "marker": {
            "color": "#19d3f3",
            "size": [
             0.7422380952380953
            ],
            "sizemode": "area",
            "sizeref": 0.0020994,
            "symbol": "circle"
           },
           "mode": "markers+text",
           "name": "Western Pacific",
           "orientation": "v",
           "showlegend": true,
           "text": [
            "Western Pacific"
           ],
           "type": "scatter",
           "x": [
            11.845714285714285
           ],
           "xaxis": "x",
           "y": [
            0.7422380952380953
           ],
           "yaxis": "y"
          }
         ],
         "name": "2019.0"
        }
       ],
       "layout": {
        "legend": {
         "itemsizing": "constant",
         "title": {
          "text": "ParentLocation"
         },
         "tracegroupgap": 0
        },
        "margin": {
         "t": 60
        },
        "sliders": [
         {
          "active": 0,
          "currentvalue": {
           "prefix": "Year="
          },
          "len": 0.9,
          "pad": {
           "b": 10,
           "t": 60
          },
          "steps": [
           {
            "args": [
             [
              "2000.0"
             ],
             {
              "frame": {
               "duration": 0,
               "redraw": false
              },
              "fromcurrent": true,
              "mode": "immediate",
              "transition": {
               "duration": 0,
               "easing": "linear"
              }
             }
            ],
            "label": "2000.0",
            "method": "animate"
           },
           {
            "args": [
             [
              "2001.0"
             ],
             {
              "frame": {
               "duration": 0,
               "redraw": false
              },
              "fromcurrent": true,
              "mode": "immediate",
              "transition": {
               "duration": 0,
               "easing": "linear"
              }
             }
            ],
            "label": "2001.0",
            "method": "animate"
           },
           {
            "args": [
             [
              "2002.0"
             ],
             {
              "frame": {
               "duration": 0,
               "redraw": false
              },
              "fromcurrent": true,
              "mode": "immediate",
              "transition": {
               "duration": 0,
               "easing": "linear"
              }
             }
            ],
            "label": "2002.0",
            "method": "animate"
           },
           {
            "args": [
             [
              "2003.0"
             ],
             {
              "frame": {
               "duration": 0,
               "redraw": false
              },
              "fromcurrent": true,
              "mode": "immediate",
              "transition": {
               "duration": 0,
               "easing": "linear"
              }
             }
            ],
            "label": "2003.0",
            "method": "animate"
           },
           {
            "args": [
             [
              "2004.0"
             ],
             {
              "frame": {
               "duration": 0,
               "redraw": false
              },
              "fromcurrent": true,
              "mode": "immediate",
              "transition": {
               "duration": 0,
               "easing": "linear"
              }
             }
            ],
            "label": "2004.0",
            "method": "animate"
           },
           {
            "args": [
             [
              "2005.0"
             ],
             {
              "frame": {
               "duration": 0,
               "redraw": false
              },
              "fromcurrent": true,
              "mode": "immediate",
              "transition": {
               "duration": 0,
               "easing": "linear"
              }
             }
            ],
            "label": "2005.0",
            "method": "animate"
           },
           {
            "args": [
             [
              "2006.0"
             ],
             {
              "frame": {
               "duration": 0,
               "redraw": false
              },
              "fromcurrent": true,
              "mode": "immediate",
              "transition": {
               "duration": 0,
               "easing": "linear"
              }
             }
            ],
            "label": "2006.0",
            "method": "animate"
           },
           {
            "args": [
             [
              "2007.0"
             ],
             {
              "frame": {
               "duration": 0,
               "redraw": false
              },
              "fromcurrent": true,
              "mode": "immediate",
              "transition": {
               "duration": 0,
               "easing": "linear"
              }
             }
            ],
            "label": "2007.0",
            "method": "animate"
           },
           {
            "args": [
             [
              "2008.0"
             ],
             {
              "frame": {
               "duration": 0,
               "redraw": false
              },
              "fromcurrent": true,
              "mode": "immediate",
              "transition": {
               "duration": 0,
               "easing": "linear"
              }
             }
            ],
            "label": "2008.0",
            "method": "animate"
           },
           {
            "args": [
             [
              "2009.0"
             ],
             {
              "frame": {
               "duration": 0,
               "redraw": false
              },
              "fromcurrent": true,
              "mode": "immediate",
              "transition": {
               "duration": 0,
               "easing": "linear"
              }
             }
            ],
            "label": "2009.0",
            "method": "animate"
           },
           {
            "args": [
             [
              "2010.0"
             ],
             {
              "frame": {
               "duration": 0,
               "redraw": false
              },
              "fromcurrent": true,
              "mode": "immediate",
              "transition": {
               "duration": 0,
               "easing": "linear"
              }
             }
            ],
            "label": "2010.0",
            "method": "animate"
           },
           {
            "args": [
             [
              "2011.0"
             ],
             {
              "frame": {
               "duration": 0,
               "redraw": false
              },
              "fromcurrent": true,
              "mode": "immediate",
              "transition": {
               "duration": 0,
               "easing": "linear"
              }
             }
            ],
            "label": "2011.0",
            "method": "animate"
           },
           {
            "args": [
             [
              "2012.0"
             ],
             {
              "frame": {
               "duration": 0,
               "redraw": false
              },
              "fromcurrent": true,
              "mode": "immediate",
              "transition": {
               "duration": 0,
               "easing": "linear"
              }
             }
            ],
            "label": "2012.0",
            "method": "animate"
           },
           {
            "args": [
             [
              "2013.0"
             ],
             {
              "frame": {
               "duration": 0,
               "redraw": false
              },
              "fromcurrent": true,
              "mode": "immediate",
              "transition": {
               "duration": 0,
               "easing": "linear"
              }
             }
            ],
            "label": "2013.0",
            "method": "animate"
           },
           {
            "args": [
             [
              "2014.0"
             ],
             {
              "frame": {
               "duration": 0,
               "redraw": false
              },
              "fromcurrent": true,
              "mode": "immediate",
              "transition": {
               "duration": 0,
               "easing": "linear"
              }
             }
            ],
            "label": "2014.0",
            "method": "animate"
           },
           {
            "args": [
             [
              "2015.0"
             ],
             {
              "frame": {
               "duration": 0,
               "redraw": false
              },
              "fromcurrent": true,
              "mode": "immediate",
              "transition": {
               "duration": 0,
               "easing": "linear"
              }
             }
            ],
            "label": "2015.0",
            "method": "animate"
           },
           {
            "args": [
             [
              "2016.0"
             ],
             {
              "frame": {
               "duration": 0,
               "redraw": false
              },
              "fromcurrent": true,
              "mode": "immediate",
              "transition": {
               "duration": 0,
               "easing": "linear"
              }
             }
            ],
            "label": "2016.0",
            "method": "animate"
           },
           {
            "args": [
             [
              "2017.0"
             ],
             {
              "frame": {
               "duration": 0,
               "redraw": false
              },
              "fromcurrent": true,
              "mode": "immediate",
              "transition": {
               "duration": 0,
               "easing": "linear"
              }
             }
            ],
            "label": "2017.0",
            "method": "animate"
           },
           {
            "args": [
             [
              "2018.0"
             ],
             {
              "frame": {
               "duration": 0,
               "redraw": false
              },
              "fromcurrent": true,
              "mode": "immediate",
              "transition": {
               "duration": 0,
               "easing": "linear"
              }
             }
            ],
            "label": "2018.0",
            "method": "animate"
           },
           {
            "args": [
             [
              "2019.0"
             ],
             {
              "frame": {
               "duration": 0,
               "redraw": false
              },
              "fromcurrent": true,
              "mode": "immediate",
              "transition": {
               "duration": 0,
               "easing": "linear"
              }
             }
            ],
            "label": "2019.0",
            "method": "animate"
           }
          ],
          "x": 0.1,
          "xanchor": "left",
          "y": 0,
          "yanchor": "top"
         }
        ],
        "template": {
         "data": {
          "bar": [
           {
            "error_x": {
             "color": "#2a3f5f"
            },
            "error_y": {
             "color": "#2a3f5f"
            },
            "marker": {
             "line": {
              "color": "#E5ECF6",
              "width": 0.5
             },
             "pattern": {
              "fillmode": "overlay",
              "size": 10,
              "solidity": 0.2
             }
            },
            "type": "bar"
           }
          ],
          "barpolar": [
           {
            "marker": {
             "line": {
              "color": "#E5ECF6",
              "width": 0.5
             },
             "pattern": {
              "fillmode": "overlay",
              "size": 10,
              "solidity": 0.2
             }
            },
            "type": "barpolar"
           }
          ],
          "carpet": [
           {
            "aaxis": {
             "endlinecolor": "#2a3f5f",
             "gridcolor": "white",
             "linecolor": "white",
             "minorgridcolor": "white",
             "startlinecolor": "#2a3f5f"
            },
            "baxis": {
             "endlinecolor": "#2a3f5f",
             "gridcolor": "white",
             "linecolor": "white",
             "minorgridcolor": "white",
             "startlinecolor": "#2a3f5f"
            },
            "type": "carpet"
           }
          ],
          "choropleth": [
           {
            "colorbar": {
             "outlinewidth": 0,
             "ticks": ""
            },
            "type": "choropleth"
           }
          ],
          "contour": [
           {
            "colorbar": {
             "outlinewidth": 0,
             "ticks": ""
            },
            "colorscale": [
             [
              0,
              "#0d0887"
             ],
             [
              0.1111111111111111,
              "#46039f"
             ],
             [
              0.2222222222222222,
              "#7201a8"
             ],
             [
              0.3333333333333333,
              "#9c179e"
             ],
             [
              0.4444444444444444,
              "#bd3786"
             ],
             [
              0.5555555555555556,
              "#d8576b"
             ],
             [
              0.6666666666666666,
              "#ed7953"
             ],
             [
              0.7777777777777778,
              "#fb9f3a"
             ],
             [
              0.8888888888888888,
              "#fdca26"
             ],
             [
              1,
              "#f0f921"
             ]
            ],
            "type": "contour"
           }
          ],
          "contourcarpet": [
           {
            "colorbar": {
             "outlinewidth": 0,
             "ticks": ""
            },
            "type": "contourcarpet"
           }
          ],
          "heatmap": [
           {
            "colorbar": {
             "outlinewidth": 0,
             "ticks": ""
            },
            "colorscale": [
             [
              0,
              "#0d0887"
             ],
             [
              0.1111111111111111,
              "#46039f"
             ],
             [
              0.2222222222222222,
              "#7201a8"
             ],
             [
              0.3333333333333333,
              "#9c179e"
             ],
             [
              0.4444444444444444,
              "#bd3786"
             ],
             [
              0.5555555555555556,
              "#d8576b"
             ],
             [
              0.6666666666666666,
              "#ed7953"
             ],
             [
              0.7777777777777778,
              "#fb9f3a"
             ],
             [
              0.8888888888888888,
              "#fdca26"
             ],
             [
              1,
              "#f0f921"
             ]
            ],
            "type": "heatmap"
           }
          ],
          "heatmapgl": [
           {
            "colorbar": {
             "outlinewidth": 0,
             "ticks": ""
            },
            "colorscale": [
             [
              0,
              "#0d0887"
             ],
             [
              0.1111111111111111,
              "#46039f"
             ],
             [
              0.2222222222222222,
              "#7201a8"
             ],
             [
              0.3333333333333333,
              "#9c179e"
             ],
             [
              0.4444444444444444,
              "#bd3786"
             ],
             [
              0.5555555555555556,
              "#d8576b"
             ],
             [
              0.6666666666666666,
              "#ed7953"
             ],
             [
              0.7777777777777778,
              "#fb9f3a"
             ],
             [
              0.8888888888888888,
              "#fdca26"
             ],
             [
              1,
              "#f0f921"
             ]
            ],
            "type": "heatmapgl"
           }
          ],
          "histogram": [
           {
            "marker": {
             "pattern": {
              "fillmode": "overlay",
              "size": 10,
              "solidity": 0.2
             }
            },
            "type": "histogram"
           }
          ],
          "histogram2d": [
           {
            "colorbar": {
             "outlinewidth": 0,
             "ticks": ""
            },
            "colorscale": [
             [
              0,
              "#0d0887"
             ],
             [
              0.1111111111111111,
              "#46039f"
             ],
             [
              0.2222222222222222,
              "#7201a8"
             ],
             [
              0.3333333333333333,
              "#9c179e"
             ],
             [
              0.4444444444444444,
              "#bd3786"
             ],
             [
              0.5555555555555556,
              "#d8576b"
             ],
             [
              0.6666666666666666,
              "#ed7953"
             ],
             [
              0.7777777777777778,
              "#fb9f3a"
             ],
             [
              0.8888888888888888,
              "#fdca26"
             ],
             [
              1,
              "#f0f921"
             ]
            ],
            "type": "histogram2d"
           }
          ],
          "histogram2dcontour": [
           {
            "colorbar": {
             "outlinewidth": 0,
             "ticks": ""
            },
            "colorscale": [
             [
              0,
              "#0d0887"
             ],
             [
              0.1111111111111111,
              "#46039f"
             ],
             [
              0.2222222222222222,
              "#7201a8"
             ],
             [
              0.3333333333333333,
              "#9c179e"
             ],
             [
              0.4444444444444444,
              "#bd3786"
             ],
             [
              0.5555555555555556,
              "#d8576b"
             ],
             [
              0.6666666666666666,
              "#ed7953"
             ],
             [
              0.7777777777777778,
              "#fb9f3a"
             ],
             [
              0.8888888888888888,
              "#fdca26"
             ],
             [
              1,
              "#f0f921"
             ]
            ],
            "type": "histogram2dcontour"
           }
          ],
          "mesh3d": [
           {
            "colorbar": {
             "outlinewidth": 0,
             "ticks": ""
            },
            "type": "mesh3d"
           }
          ],
          "parcoords": [
           {
            "line": {
             "colorbar": {
              "outlinewidth": 0,
              "ticks": ""
             }
            },
            "type": "parcoords"
           }
          ],
          "pie": [
           {
            "automargin": true,
            "type": "pie"
           }
          ],
          "scatter": [
           {
            "marker": {
             "colorbar": {
              "outlinewidth": 0,
              "ticks": ""
             }
            },
            "type": "scatter"
           }
          ],
          "scatter3d": [
           {
            "line": {
             "colorbar": {
              "outlinewidth": 0,
              "ticks": ""
             }
            },
            "marker": {
             "colorbar": {
              "outlinewidth": 0,
              "ticks": ""
             }
            },
            "type": "scatter3d"
           }
          ],
          "scattercarpet": [
           {
            "marker": {
             "colorbar": {
              "outlinewidth": 0,
              "ticks": ""
             }
            },
            "type": "scattercarpet"
           }
          ],
          "scattergeo": [
           {
            "marker": {
             "colorbar": {
              "outlinewidth": 0,
              "ticks": ""
             }
            },
            "type": "scattergeo"
           }
          ],
          "scattergl": [
           {
            "marker": {
             "colorbar": {
              "outlinewidth": 0,
              "ticks": ""
             }
            },
            "type": "scattergl"
           }
          ],
          "scattermapbox": [
           {
            "marker": {
             "colorbar": {
              "outlinewidth": 0,
              "ticks": ""
             }
            },
            "type": "scattermapbox"
           }
          ],
          "scatterpolar": [
           {
            "marker": {
             "colorbar": {
              "outlinewidth": 0,
              "ticks": ""
             }
            },
            "type": "scatterpolar"
           }
          ],
          "scatterpolargl": [
           {
            "marker": {
             "colorbar": {
              "outlinewidth": 0,
              "ticks": ""
             }
            },
            "type": "scatterpolargl"
           }
          ],
          "scatterternary": [
           {
            "marker": {
             "colorbar": {
              "outlinewidth": 0,
              "ticks": ""
             }
            },
            "type": "scatterternary"
           }
          ],
          "surface": [
           {
            "colorbar": {
             "outlinewidth": 0,
             "ticks": ""
            },
            "colorscale": [
             [
              0,
              "#0d0887"
             ],
             [
              0.1111111111111111,
              "#46039f"
             ],
             [
              0.2222222222222222,
              "#7201a8"
             ],
             [
              0.3333333333333333,
              "#9c179e"
             ],
             [
              0.4444444444444444,
              "#bd3786"
             ],
             [
              0.5555555555555556,
              "#d8576b"
             ],
             [
              0.6666666666666666,
              "#ed7953"
             ],
             [
              0.7777777777777778,
              "#fb9f3a"
             ],
             [
              0.8888888888888888,
              "#fdca26"
             ],
             [
              1,
              "#f0f921"
             ]
            ],
            "type": "surface"
           }
          ],
          "table": [
           {
            "cells": {
             "fill": {
              "color": "#EBF0F8"
             },
             "line": {
              "color": "white"
             }
            },
            "header": {
             "fill": {
              "color": "#C8D4E3"
             },
             "line": {
              "color": "white"
             }
            },
            "type": "table"
           }
          ]
         },
         "layout": {
          "annotationdefaults": {
           "arrowcolor": "#2a3f5f",
           "arrowhead": 0,
           "arrowwidth": 1
          },
          "autotypenumbers": "strict",
          "coloraxis": {
           "colorbar": {
            "outlinewidth": 0,
            "ticks": ""
           }
          },
          "colorscale": {
           "diverging": [
            [
             0,
             "#8e0152"
            ],
            [
             0.1,
             "#c51b7d"
            ],
            [
             0.2,
             "#de77ae"
            ],
            [
             0.3,
             "#f1b6da"
            ],
            [
             0.4,
             "#fde0ef"
            ],
            [
             0.5,
             "#f7f7f7"
            ],
            [
             0.6,
             "#e6f5d0"
            ],
            [
             0.7,
             "#b8e186"
            ],
            [
             0.8,
             "#7fbc41"
            ],
            [
             0.9,
             "#4d9221"
            ],
            [
             1,
             "#276419"
            ]
           ],
           "sequential": [
            [
             0,
             "#0d0887"
            ],
            [
             0.1111111111111111,
             "#46039f"
            ],
            [
             0.2222222222222222,
             "#7201a8"
            ],
            [
             0.3333333333333333,
             "#9c179e"
            ],
            [
             0.4444444444444444,
             "#bd3786"
            ],
            [
             0.5555555555555556,
             "#d8576b"
            ],
            [
             0.6666666666666666,
             "#ed7953"
            ],
            [
             0.7777777777777778,
             "#fb9f3a"
            ],
            [
             0.8888888888888888,
             "#fdca26"
            ],
            [
             1,
             "#f0f921"
            ]
           ],
           "sequentialminus": [
            [
             0,
             "#0d0887"
            ],
            [
             0.1111111111111111,
             "#46039f"
            ],
            [
             0.2222222222222222,
             "#7201a8"
            ],
            [
             0.3333333333333333,
             "#9c179e"
            ],
            [
             0.4444444444444444,
             "#bd3786"
            ],
            [
             0.5555555555555556,
             "#d8576b"
            ],
            [
             0.6666666666666666,
             "#ed7953"
            ],
            [
             0.7777777777777778,
             "#fb9f3a"
            ],
            [
             0.8888888888888888,
             "#fdca26"
            ],
            [
             1,
             "#f0f921"
            ]
           ]
          },
          "colorway": [
           "#636efa",
           "#EF553B",
           "#00cc96",
           "#ab63fa",
           "#FFA15A",
           "#19d3f3",
           "#FF6692",
           "#B6E880",
           "#FF97FF",
           "#FECB52"
          ],
          "font": {
           "color": "#2a3f5f"
          },
          "geo": {
           "bgcolor": "white",
           "lakecolor": "white",
           "landcolor": "#E5ECF6",
           "showlakes": true,
           "showland": true,
           "subunitcolor": "white"
          },
          "hoverlabel": {
           "align": "left"
          },
          "hovermode": "closest",
          "mapbox": {
           "style": "light"
          },
          "paper_bgcolor": "white",
          "plot_bgcolor": "#E5ECF6",
          "polar": {
           "angularaxis": {
            "gridcolor": "white",
            "linecolor": "white",
            "ticks": ""
           },
           "bgcolor": "#E5ECF6",
           "radialaxis": {
            "gridcolor": "white",
            "linecolor": "white",
            "ticks": ""
           }
          },
          "scene": {
           "xaxis": {
            "backgroundcolor": "#E5ECF6",
            "gridcolor": "white",
            "gridwidth": 2,
            "linecolor": "white",
            "showbackground": true,
            "ticks": "",
            "zerolinecolor": "white"
           },
           "yaxis": {
            "backgroundcolor": "#E5ECF6",
            "gridcolor": "white",
            "gridwidth": 2,
            "linecolor": "white",
            "showbackground": true,
            "ticks": "",
            "zerolinecolor": "white"
           },
           "zaxis": {
            "backgroundcolor": "#E5ECF6",
            "gridcolor": "white",
            "gridwidth": 2,
            "linecolor": "white",
            "showbackground": true,
            "ticks": "",
            "zerolinecolor": "white"
           }
          },
          "shapedefaults": {
           "line": {
            "color": "#2a3f5f"
           }
          },
          "ternary": {
           "aaxis": {
            "gridcolor": "white",
            "linecolor": "white",
            "ticks": ""
           },
           "baxis": {
            "gridcolor": "white",
            "linecolor": "white",
            "ticks": ""
           },
           "bgcolor": "#E5ECF6",
           "caxis": {
            "gridcolor": "white",
            "linecolor": "white",
            "ticks": ""
           }
          },
          "title": {
           "x": 0.05
          },
          "xaxis": {
           "automargin": true,
           "gridcolor": "white",
           "linecolor": "white",
           "ticks": "",
           "title": {
            "standoff": 15
           },
           "zerolinecolor": "white",
           "zerolinewidth": 2
          },
          "yaxis": {
           "automargin": true,
           "gridcolor": "white",
           "linecolor": "white",
           "ticks": "",
           "title": {
            "standoff": 15
           },
           "zerolinecolor": "white",
           "zerolinewidth": 2
          }
         }
        },
        "updatemenus": [
         {
          "buttons": [
           {
            "args": [
             null,
             {
              "frame": {
               "duration": 500,
               "redraw": false
              },
              "fromcurrent": true,
              "mode": "immediate",
              "transition": {
               "duration": 500,
               "easing": "linear"
              }
             }
            ],
            "label": "&#9654;",
            "method": "animate"
           },
           {
            "args": [
             [
              null
             ],
             {
              "frame": {
               "duration": 0,
               "redraw": false
              },
              "fromcurrent": true,
              "mode": "immediate",
              "transition": {
               "duration": 0,
               "easing": "linear"
              }
             }
            ],
            "label": "&#9724;",
            "method": "animate"
           }
          ],
          "direction": "left",
          "pad": {
           "r": 10,
           "t": 70
          },
          "showactive": false,
          "type": "buttons",
          "x": 0.1,
          "xanchor": "right",
          "y": 0,
          "yanchor": "top"
         }
        ],
        "xaxis": {
         "anchor": "y",
         "domain": [
          0,
          1
         ],
         "range": [
          0,
          20
         ],
         "title": {
          "text": "SuicideRates"
         }
        },
        "yaxis": {
         "anchor": "x",
         "domain": [
          0,
          1
         ],
         "range": [
          0,
          1
         ],
         "title": {
          "text": "HDI"
         }
        }
       }
      }
     },
     "metadata": {},
     "output_type": "display_data"
    }
   ],
   "source": [
    "import plotly_express as px\n",
    "px.scatter(continent_values,x = 'SuicideRates', y = 'HDI',color='ParentLocation',\n",
    "           size='HDI',animation_frame='Year', animation_group='ParentLocation',range_x = [0,20],\n",
    "          range_y = [0,1],text='ParentLocation')"
   ]
  },
  {
   "cell_type": "code",
   "execution_count": 16,
   "metadata": {},
   "outputs": [],
   "source": [
    "suicide_data = suicide_data.drop(columns='Dim1ValueCode')\n",
    "suicide_data.to_excel('Suicide_Data.xlsx')"
   ]
  },
  {
   "cell_type": "code",
   "execution_count": 17,
   "metadata": {},
   "outputs": [
    {
     "data": {
      "text/html": [
       "<div>\n",
       "<style scoped>\n",
       "    .dataframe tbody tr th:only-of-type {\n",
       "        vertical-align: middle;\n",
       "    }\n",
       "\n",
       "    .dataframe tbody tr th {\n",
       "        vertical-align: top;\n",
       "    }\n",
       "\n",
       "    .dataframe thead th {\n",
       "        text-align: right;\n",
       "    }\n",
       "</style>\n",
       "<table border=\"1\" class=\"dataframe\">\n",
       "  <thead>\n",
       "    <tr style=\"text-align: right;\">\n",
       "      <th></th>\n",
       "      <th>ParentLocationCode</th>\n",
       "      <th>ParentLocation</th>\n",
       "      <th>SpatialDimValueCode</th>\n",
       "      <th>Country</th>\n",
       "      <th>Year</th>\n",
       "      <th>Dim1</th>\n",
       "      <th>Dim1ValueCode</th>\n",
       "      <th>FactValueNumeric</th>\n",
       "      <th>FactValueNumericLow</th>\n",
       "      <th>FactValueNumericHigh</th>\n",
       "      <th>Value</th>\n",
       "      <th>HDI</th>\n",
       "      <th>GDI</th>\n",
       "      <th>Life Expectancy</th>\n",
       "    </tr>\n",
       "  </thead>\n",
       "  <tbody>\n",
       "    <tr>\n",
       "      <th>0</th>\n",
       "      <td>EMR</td>\n",
       "      <td>Eastern Mediterranean</td>\n",
       "      <td>AFG</td>\n",
       "      <td>Afghanistan</td>\n",
       "      <td>2019.0</td>\n",
       "      <td>Both sexes</td>\n",
       "      <td>BTSX</td>\n",
       "      <td>5.96</td>\n",
       "      <td>3.40</td>\n",
       "      <td>9.91</td>\n",
       "      <td>5.96 [3.4 – 9.91]</td>\n",
       "      <td>0.511</td>\n",
       "      <td>0.658</td>\n",
       "      <td>64.8</td>\n",
       "    </tr>\n",
       "    <tr>\n",
       "      <th>1</th>\n",
       "      <td>EMR</td>\n",
       "      <td>Eastern Mediterranean</td>\n",
       "      <td>AFG</td>\n",
       "      <td>Afghanistan</td>\n",
       "      <td>2018.0</td>\n",
       "      <td>Both sexes</td>\n",
       "      <td>BTSX</td>\n",
       "      <td>5.91</td>\n",
       "      <td>3.38</td>\n",
       "      <td>9.81</td>\n",
       "      <td>5.91 [3.38 – 9.81]</td>\n",
       "      <td>0.509</td>\n",
       "      <td>0.662</td>\n",
       "      <td>64.5</td>\n",
       "    </tr>\n",
       "    <tr>\n",
       "      <th>2</th>\n",
       "      <td>EMR</td>\n",
       "      <td>Eastern Mediterranean</td>\n",
       "      <td>AFG</td>\n",
       "      <td>Afghanistan</td>\n",
       "      <td>2017.0</td>\n",
       "      <td>Both sexes</td>\n",
       "      <td>BTSX</td>\n",
       "      <td>5.95</td>\n",
       "      <td>3.42</td>\n",
       "      <td>9.88</td>\n",
       "      <td>5.95 [3.42 – 9.88]</td>\n",
       "      <td>0.506</td>\n",
       "      <td>0.658</td>\n",
       "      <td>64.1</td>\n",
       "    </tr>\n",
       "    <tr>\n",
       "      <th>3</th>\n",
       "      <td>EMR</td>\n",
       "      <td>Eastern Mediterranean</td>\n",
       "      <td>AFG</td>\n",
       "      <td>Afghanistan</td>\n",
       "      <td>2016.0</td>\n",
       "      <td>Both sexes</td>\n",
       "      <td>BTSX</td>\n",
       "      <td>6.01</td>\n",
       "      <td>3.48</td>\n",
       "      <td>9.93</td>\n",
       "      <td>6.01 [3.48 – 9.93]</td>\n",
       "      <td>0.502</td>\n",
       "      <td>0.646</td>\n",
       "      <td>63.8</td>\n",
       "    </tr>\n",
       "    <tr>\n",
       "      <th>4</th>\n",
       "      <td>EMR</td>\n",
       "      <td>Eastern Mediterranean</td>\n",
       "      <td>AFG</td>\n",
       "      <td>Afghanistan</td>\n",
       "      <td>2015.0</td>\n",
       "      <td>Both sexes</td>\n",
       "      <td>BTSX</td>\n",
       "      <td>5.99</td>\n",
       "      <td>3.48</td>\n",
       "      <td>9.88</td>\n",
       "      <td>5.99 [3.48 – 9.88]</td>\n",
       "      <td>0.499</td>\n",
       "      <td>0.640</td>\n",
       "      <td>63.4</td>\n",
       "    </tr>\n",
       "    <tr>\n",
       "      <th>...</th>\n",
       "      <td>...</td>\n",
       "      <td>...</td>\n",
       "      <td>...</td>\n",
       "      <td>...</td>\n",
       "      <td>...</td>\n",
       "      <td>...</td>\n",
       "      <td>...</td>\n",
       "      <td>...</td>\n",
       "      <td>...</td>\n",
       "      <td>...</td>\n",
       "      <td>...</td>\n",
       "      <td>...</td>\n",
       "      <td>...</td>\n",
       "      <td>...</td>\n",
       "    </tr>\n",
       "    <tr>\n",
       "      <th>3655</th>\n",
       "      <td>AFR</td>\n",
       "      <td>Africa</td>\n",
       "      <td>ZWE</td>\n",
       "      <td>Zimbabwe</td>\n",
       "      <td>2004.0</td>\n",
       "      <td>Both sexes</td>\n",
       "      <td>BTSX</td>\n",
       "      <td>21.47</td>\n",
       "      <td>11.41</td>\n",
       "      <td>33.75</td>\n",
       "      <td>21.47 [11.41 – 33.75]</td>\n",
       "      <td>0.411</td>\n",
       "      <td>0.895</td>\n",
       "      <td>43.1</td>\n",
       "    </tr>\n",
       "    <tr>\n",
       "      <th>3656</th>\n",
       "      <td>AFR</td>\n",
       "      <td>Africa</td>\n",
       "      <td>ZWE</td>\n",
       "      <td>Zimbabwe</td>\n",
       "      <td>2003.0</td>\n",
       "      <td>Both sexes</td>\n",
       "      <td>BTSX</td>\n",
       "      <td>20.23</td>\n",
       "      <td>10.69</td>\n",
       "      <td>31.68</td>\n",
       "      <td>20.23 [10.69 – 31.68]</td>\n",
       "      <td>0.414</td>\n",
       "      <td>0.894</td>\n",
       "      <td>43.2</td>\n",
       "    </tr>\n",
       "    <tr>\n",
       "      <th>3657</th>\n",
       "      <td>AFR</td>\n",
       "      <td>Africa</td>\n",
       "      <td>ZWE</td>\n",
       "      <td>Zimbabwe</td>\n",
       "      <td>2002.0</td>\n",
       "      <td>Both sexes</td>\n",
       "      <td>BTSX</td>\n",
       "      <td>20.34</td>\n",
       "      <td>10.74</td>\n",
       "      <td>31.95</td>\n",
       "      <td>20.34 [10.74 – 31.95]</td>\n",
       "      <td>0.423</td>\n",
       "      <td>0.892</td>\n",
       "      <td>43.5</td>\n",
       "    </tr>\n",
       "    <tr>\n",
       "      <th>3658</th>\n",
       "      <td>AFR</td>\n",
       "      <td>Africa</td>\n",
       "      <td>ZWE</td>\n",
       "      <td>Zimbabwe</td>\n",
       "      <td>2001.0</td>\n",
       "      <td>Both sexes</td>\n",
       "      <td>BTSX</td>\n",
       "      <td>19.53</td>\n",
       "      <td>10.23</td>\n",
       "      <td>30.75</td>\n",
       "      <td>19.53 [10.23 – 30.75]</td>\n",
       "      <td>0.431</td>\n",
       "      <td>0.891</td>\n",
       "      <td>44.0</td>\n",
       "    </tr>\n",
       "    <tr>\n",
       "      <th>3659</th>\n",
       "      <td>AFR</td>\n",
       "      <td>Africa</td>\n",
       "      <td>ZWE</td>\n",
       "      <td>Zimbabwe</td>\n",
       "      <td>2000.0</td>\n",
       "      <td>Both sexes</td>\n",
       "      <td>BTSX</td>\n",
       "      <td>19.98</td>\n",
       "      <td>10.34</td>\n",
       "      <td>31.52</td>\n",
       "      <td>19.98 [10.34 – 31.52]</td>\n",
       "      <td>0.430</td>\n",
       "      <td>0.890</td>\n",
       "      <td>44.6</td>\n",
       "    </tr>\n",
       "  </tbody>\n",
       "</table>\n",
       "<p>3044 rows × 14 columns</p>\n",
       "</div>"
      ],
      "text/plain": [
       "     ParentLocationCode         ParentLocation SpatialDimValueCode  \\\n",
       "0                   EMR  Eastern Mediterranean                 AFG   \n",
       "1                   EMR  Eastern Mediterranean                 AFG   \n",
       "2                   EMR  Eastern Mediterranean                 AFG   \n",
       "3                   EMR  Eastern Mediterranean                 AFG   \n",
       "4                   EMR  Eastern Mediterranean                 AFG   \n",
       "...                 ...                    ...                 ...   \n",
       "3655                AFR                 Africa                 ZWE   \n",
       "3656                AFR                 Africa                 ZWE   \n",
       "3657                AFR                 Africa                 ZWE   \n",
       "3658                AFR                 Africa                 ZWE   \n",
       "3659                AFR                 Africa                 ZWE   \n",
       "\n",
       "          Country    Year        Dim1 Dim1ValueCode  FactValueNumeric  \\\n",
       "0     Afghanistan  2019.0  Both sexes          BTSX              5.96   \n",
       "1     Afghanistan  2018.0  Both sexes          BTSX              5.91   \n",
       "2     Afghanistan  2017.0  Both sexes          BTSX              5.95   \n",
       "3     Afghanistan  2016.0  Both sexes          BTSX              6.01   \n",
       "4     Afghanistan  2015.0  Both sexes          BTSX              5.99   \n",
       "...           ...     ...         ...           ...               ...   \n",
       "3655     Zimbabwe  2004.0  Both sexes          BTSX             21.47   \n",
       "3656     Zimbabwe  2003.0  Both sexes          BTSX             20.23   \n",
       "3657     Zimbabwe  2002.0  Both sexes          BTSX             20.34   \n",
       "3658     Zimbabwe  2001.0  Both sexes          BTSX             19.53   \n",
       "3659     Zimbabwe  2000.0  Both sexes          BTSX             19.98   \n",
       "\n",
       "      FactValueNumericLow  FactValueNumericHigh                  Value    HDI  \\\n",
       "0                    3.40                  9.91      5.96 [3.4 – 9.91]  0.511   \n",
       "1                    3.38                  9.81     5.91 [3.38 – 9.81]  0.509   \n",
       "2                    3.42                  9.88     5.95 [3.42 – 9.88]  0.506   \n",
       "3                    3.48                  9.93     6.01 [3.48 – 9.93]  0.502   \n",
       "4                    3.48                  9.88     5.99 [3.48 – 9.88]  0.499   \n",
       "...                   ...                   ...                    ...    ...   \n",
       "3655                11.41                 33.75  21.47 [11.41 – 33.75]  0.411   \n",
       "3656                10.69                 31.68  20.23 [10.69 – 31.68]  0.414   \n",
       "3657                10.74                 31.95  20.34 [10.74 – 31.95]  0.423   \n",
       "3658                10.23                 30.75  19.53 [10.23 – 30.75]  0.431   \n",
       "3659                10.34                 31.52  19.98 [10.34 – 31.52]  0.430   \n",
       "\n",
       "        GDI  Life Expectancy  \n",
       "0     0.658             64.8  \n",
       "1     0.662             64.5  \n",
       "2     0.658             64.1  \n",
       "3     0.646             63.8  \n",
       "4     0.640             63.4  \n",
       "...     ...              ...  \n",
       "3655  0.895             43.1  \n",
       "3656  0.894             43.2  \n",
       "3657  0.892             43.5  \n",
       "3658  0.891             44.0  \n",
       "3659  0.890             44.6  \n",
       "\n",
       "[3044 rows x 14 columns]"
      ]
     },
     "execution_count": 17,
     "metadata": {},
     "output_type": "execute_result"
    }
   ],
   "source": [
    "all_nonans = all_values.dropna(how='any')\n",
    "all_nonans"
   ]
  },
  {
   "cell_type": "code",
   "execution_count": 18,
   "metadata": {},
   "outputs": [
    {
     "data": {
      "text/html": [
       "<div>\n",
       "<style scoped>\n",
       "    .dataframe tbody tr th:only-of-type {\n",
       "        vertical-align: middle;\n",
       "    }\n",
       "\n",
       "    .dataframe tbody tr th {\n",
       "        vertical-align: top;\n",
       "    }\n",
       "\n",
       "    .dataframe thead th {\n",
       "        text-align: right;\n",
       "    }\n",
       "</style>\n",
       "<table border=\"1\" class=\"dataframe\">\n",
       "  <thead>\n",
       "    <tr style=\"text-align: right;\">\n",
       "      <th></th>\n",
       "      <th>Country</th>\n",
       "      <th>Year</th>\n",
       "      <th>HDI</th>\n",
       "      <th>GDI</th>\n",
       "      <th>Life Expectancy</th>\n",
       "    </tr>\n",
       "  </thead>\n",
       "  <tbody>\n",
       "    <tr>\n",
       "      <th>1860</th>\n",
       "      <td>Afghanistan</td>\n",
       "      <td>2000</td>\n",
       "      <td>0.352</td>\n",
       "      <td>0.325</td>\n",
       "      <td>55.8</td>\n",
       "    </tr>\n",
       "    <tr>\n",
       "      <th>1861</th>\n",
       "      <td>Albania</td>\n",
       "      <td>2000</td>\n",
       "      <td>0.672</td>\n",
       "      <td>0.935</td>\n",
       "      <td>74.0</td>\n",
       "    </tr>\n",
       "    <tr>\n",
       "      <th>1862</th>\n",
       "      <td>Algeria</td>\n",
       "      <td>2000</td>\n",
       "      <td>0.637</td>\n",
       "      <td>0.779</td>\n",
       "      <td>70.6</td>\n",
       "    </tr>\n",
       "    <tr>\n",
       "      <th>1866</th>\n",
       "      <td>Argentina</td>\n",
       "      <td>2000</td>\n",
       "      <td>0.782</td>\n",
       "      <td>0.984</td>\n",
       "      <td>73.6</td>\n",
       "    </tr>\n",
       "    <tr>\n",
       "      <th>1867</th>\n",
       "      <td>Armenia</td>\n",
       "      <td>2000</td>\n",
       "      <td>0.669</td>\n",
       "      <td>0.942</td>\n",
       "      <td>71.4</td>\n",
       "    </tr>\n",
       "    <tr>\n",
       "      <th>...</th>\n",
       "      <td>...</td>\n",
       "      <td>...</td>\n",
       "      <td>...</td>\n",
       "      <td>...</td>\n",
       "      <td>...</td>\n",
       "    </tr>\n",
       "    <tr>\n",
       "      <th>5575</th>\n",
       "      <td>Venezuela</td>\n",
       "      <td>2019</td>\n",
       "      <td>0.711</td>\n",
       "      <td>1.010</td>\n",
       "      <td>72.1</td>\n",
       "    </tr>\n",
       "    <tr>\n",
       "      <th>5576</th>\n",
       "      <td>Vietnam</td>\n",
       "      <td>2019</td>\n",
       "      <td>0.704</td>\n",
       "      <td>0.998</td>\n",
       "      <td>75.4</td>\n",
       "    </tr>\n",
       "    <tr>\n",
       "      <th>5577</th>\n",
       "      <td>Yemen</td>\n",
       "      <td>2019</td>\n",
       "      <td>0.470</td>\n",
       "      <td>0.490</td>\n",
       "      <td>66.1</td>\n",
       "    </tr>\n",
       "    <tr>\n",
       "      <th>5578</th>\n",
       "      <td>Zambia</td>\n",
       "      <td>2019</td>\n",
       "      <td>0.585</td>\n",
       "      <td>0.959</td>\n",
       "      <td>63.9</td>\n",
       "    </tr>\n",
       "    <tr>\n",
       "      <th>5579</th>\n",
       "      <td>Zimbabwe</td>\n",
       "      <td>2019</td>\n",
       "      <td>0.571</td>\n",
       "      <td>0.933</td>\n",
       "      <td>61.5</td>\n",
       "    </tr>\n",
       "  </tbody>\n",
       "</table>\n",
       "<p>3059 rows × 5 columns</p>\n",
       "</div>"
      ],
      "text/plain": [
       "          Country  Year    HDI    GDI  Life Expectancy\n",
       "1860  Afghanistan  2000  0.352  0.325             55.8\n",
       "1861      Albania  2000  0.672  0.935             74.0\n",
       "1862      Algeria  2000  0.637  0.779             70.6\n",
       "1866    Argentina  2000  0.782  0.984             73.6\n",
       "1867      Armenia  2000  0.669  0.942             71.4\n",
       "...           ...   ...    ...    ...              ...\n",
       "5575    Venezuela  2019  0.711  1.010             72.1\n",
       "5576      Vietnam  2019  0.704  0.998             75.4\n",
       "5577        Yemen  2019  0.470  0.490             66.1\n",
       "5578       Zambia  2019  0.585  0.959             63.9\n",
       "5579     Zimbabwe  2019  0.571  0.933             61.5\n",
       "\n",
       "[3059 rows x 5 columns]"
      ]
     },
     "execution_count": 18,
     "metadata": {},
     "output_type": "execute_result"
    }
   ],
   "source": [
    "rm_nans = combined_indices.dropna(how='any')\n",
    "rm_nans"
   ]
  },
  {
   "cell_type": "code",
   "execution_count": 19,
   "metadata": {},
   "outputs": [],
   "source": [
    "from sklearn.linear_model import LinearRegression"
   ]
  },
  {
   "cell_type": "code",
   "execution_count": 20,
   "metadata": {},
   "outputs": [
    {
     "name": "stdout",
     "output_type": "stream",
     "text": [
      "[18.66766614  0.47737554]\n",
      "18.560649280750013\n"
     ]
    }
   ],
   "source": [
    "regr = LinearRegression()\n",
    "X = np.array(rm_nans[['GDI', 'Life Expectancy']])\n",
    "y = np.array(rm_nans['HDI'])\n",
    "normalized_X=(X-X.mean())/X.std()\n",
    "normalized_y=(y-y.mean())/y.std()\n",
    "regr.fit(normalized_X,y)\n",
    "print(regr.coef_)\n",
    "print(regr.intercept_)"
   ]
  },
  {
   "cell_type": "code",
   "execution_count": 21,
   "metadata": {},
   "outputs": [
    {
     "data": {
      "image/png": "[encoded data removed]",
      "text/plain": [
       "<Figure size 1440x720 with 1 Axes>"
      ]
     },
     "metadata": {
      "needs_background": "light"
     },
     "output_type": "display_data"
    }
   ],
   "source": [
    "from matplotlib import pyplot as plt\n",
    "regr_plot = plt.figure(0,figsize=(20,10))\n",
    "plt.scatter(X[:,0], y)\n",
    "# plt.plot(normalized_X[:,0], regr.predict(normalized_X))\n",
    "plt.show()"
   ]
  },
  {
   "cell_type": "code",
   "execution_count": null,
   "metadata": {},
   "outputs": [],
   "source": [
    " "
   ]
  },
  {
   "cell_type": "code",
   "execution_count": 22,
   "metadata": {},
   "outputs": [
    {
     "name": "stderr",
     "output_type": "stream",
     "text": [
      "C:\\Users\\jt271\\AppData\\Local\\Temp/ipykernel_24880/3583817175.py:3: SettingWithCopyWarning: \n",
      "A value is trying to be set on a copy of a slice from a DataFrame.\n",
      "Try using .loc[row_indexer,col_indexer] = value instead\n",
      "\n",
      "See the caveats in the documentation: https://pandas.pydata.org/pandas-docs/stable/user_guide/indexing.html#returning-a-view-versus-a-copy\n",
      "  all_nonans['HDI'] = (all_nonans['HDI'] - all_nonans['HDI'].mean())/all_nonans['HDI'].std()\n",
      "C:\\Users\\jt271\\AppData\\Local\\Temp/ipykernel_24880/3583817175.py:4: SettingWithCopyWarning: \n",
      "A value is trying to be set on a copy of a slice from a DataFrame.\n",
      "Try using .loc[row_indexer,col_indexer] = value instead\n",
      "\n",
      "See the caveats in the documentation: https://pandas.pydata.org/pandas-docs/stable/user_guide/indexing.html#returning-a-view-versus-a-copy\n",
      "  all_nonans['GDI'] = (all_nonans['GDI'] - all_nonans['GDI'].mean())/all_nonans['GDI'].std()\n",
      "C:\\Users\\jt271\\AppData\\Local\\Temp/ipykernel_24880/3583817175.py:5: SettingWithCopyWarning: \n",
      "A value is trying to be set on a copy of a slice from a DataFrame.\n",
      "Try using .loc[row_indexer,col_indexer] = value instead\n",
      "\n",
      "See the caveats in the documentation: https://pandas.pydata.org/pandas-docs/stable/user_guide/indexing.html#returning-a-view-versus-a-copy\n",
      "  all_nonans['Life Expectancy'] = (all_nonans['Life Expectancy'] - all_nonans['Life Expectancy'].mean())/all_nonans['Life Expectancy'].std()\n"
     ]
    },
    {
     "data": {
      "text/plain": [
       "LinearRegression()"
      ]
     },
     "execution_count": 22,
     "metadata": {},
     "output_type": "execute_result"
    }
   ],
   "source": [
    "regr2 = LinearRegression()\n",
    "y_sr = np.array(all_nonans['FactValueNumeric'])\n",
    "all_nonans['HDI'] = (all_nonans['HDI'] - all_nonans['HDI'].mean())/all_nonans['HDI'].std()\n",
    "all_nonans['GDI'] = (all_nonans['GDI'] - all_nonans['GDI'].mean())/all_nonans['GDI'].std()\n",
    "all_nonans['Life Expectancy'] = (all_nonans['Life Expectancy'] - all_nonans['Life Expectancy'].mean())/all_nonans['Life Expectancy'].std()\n",
    "x_sr = np.array(all_nonans[['HDI', 'GDI', 'Life Expectancy']])\n",
    "regr2.fit(x_sr, y_sr)\n"
   ]
  },
  {
   "cell_type": "code",
   "execution_count": 23,
   "metadata": {},
   "outputs": [
    {
     "data": {
      "text/plain": [
       "array([  8.6585003 ,   2.4261802 , -13.34302901])"
      ]
     },
     "execution_count": 23,
     "metadata": {},
     "output_type": "execute_result"
    }
   ],
   "source": [
    "regr2.coef_"
   ]
  },
  {
   "cell_type": "code",
   "execution_count": 24,
   "metadata": {},
   "outputs": [
    {
     "data": {
      "text/plain": [
       "11.43149375821289"
      ]
     },
     "execution_count": 24,
     "metadata": {},
     "output_type": "execute_result"
    }
   ],
   "source": [
    "regr2.intercept_"
   ]
  },
  {
   "cell_type": "code",
   "execution_count": 25,
   "metadata": {},
   "outputs": [
    {
     "data": {
      "text/plain": [
       "<matplotlib.collections.PathCollection at 0x29147a28310>"
      ]
     },
     "execution_count": 25,
     "metadata": {},
     "output_type": "execute_result"
    },
    {
     "data": {
      "image/png": "[encoded data removed]",
      "text/plain": [
       "<Figure size 1440x720 with 1 Axes>"
      ]
     },
     "metadata": {
      "needs_background": "light"
     },
     "output_type": "display_data"
    }
   ],
   "source": [
    "plot2 = plt.figure(1, figsize=(20,10))\n",
    "plt.scatter(all_nonans['GDI'], all_nonans['FactValueNumeric'])"
   ]
  },
  {
   "cell_type": "code",
   "execution_count": 26,
   "metadata": {},
   "outputs": [
    {
     "data": {
      "text/plain": [
       "0      -3.256025\n",
       "1      -3.207104\n",
       "2      -3.256025\n",
       "3      -3.402787\n",
       "4      -3.476168\n",
       "          ...   \n",
       "3655   -0.357468\n",
       "3656   -0.369698\n",
       "3657   -0.394159\n",
       "3658   -0.406389\n",
       "3659   -0.418619\n",
       "Name: GDI, Length: 3044, dtype: float64"
      ]
     },
     "execution_count": 26,
     "metadata": {},
     "output_type": "execute_result"
    }
   ],
   "source": [
    "all_nonans['GDI']"
   ]
  },
  {
   "cell_type": "code",
   "execution_count": null,
   "metadata": {},
   "outputs": [],
   "source": []
  }
 ],
 "metadata": {
  "interpreter": {
   "hash": "2b28834a62bfed243bea4592dc9bbb75d90e4d90aa24d4fb2eebe7b61c6428a6"
  },
  "kernelspec": {
   "display_name": "Python 3.9.7 64-bit",
   "language": "python",
   "name": "python3"
  },
  "language_info": {
   "codemirror_mode": {
    "name": "ipython",
    "version": 3
   },
   "file_extension": ".py",
   "mimetype": "text/x-python",
   "name": "python",
   "nbconvert_exporter": "python",
   "pygments_lexer": "ipython3",
   "version": "3.9.7"
  },
  "orig_nbformat": 4
 },
 "nbformat": 4,
 "nbformat_minor": 2
}
